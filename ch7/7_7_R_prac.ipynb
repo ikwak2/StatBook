{
  "nbformat": 4,
  "nbformat_minor": 0,
  "metadata": {
    "colab": {
      "provenance": [],
      "authorship_tag": "ABX9TyPDbn2EvjA33R5r0NncJ0e1",
      "include_colab_link": true
    },
    "kernelspec": {
      "name": "ir",
      "display_name": "R"
    },
    "language_info": {
      "name": "R"
    }
  },
  "cells": [
    {
      "cell_type": "markdown",
      "metadata": {
        "id": "view-in-github",
        "colab_type": "text"
      },
      "source": [
        "<a href=\"https://colab.research.google.com/github/ikwak2/StatBook/blob/main/ch7/7_7_R_prac.ipynb\" target=\"_parent\"><img src=\"https://colab.research.google.com/assets/colab-badge.svg\" alt=\"Open In Colab\"/></a>"
      ]
    },
    {
      "cell_type": "markdown",
      "source": [
        "# 7.7 R 연습\n",
        "\n",
        "## t분포 확률 구하기\n",
        "pt 명령문을 사용하여 t분포 확률값을 구한다. pt는 t분포의 누적확률분포이다.  \n",
        "자유도가 5인 t분포에서 T ≥ 2.015의 확률을 구한다."
      ],
      "metadata": {
        "id": "DLO0E2f_1PeI"
      }
    },
    {
      "cell_type": "code",
      "source": [
        "1-pt(2.015, df=5) # P(T≥2.015)\n",
        "# pt(t, df=자유도)"
      ],
      "metadata": {
        "colab": {
          "base_uri": "https://localhost:8080/",
          "height": 34
        },
        "id": "48RtOhxS9yvF",
        "outputId": "ce31571b-e4ec-48ef-8f91-190f0176de47"
      },
      "execution_count": null,
      "outputs": [
        {
          "output_type": "display_data",
          "data": {
            "text/html": [
              "0.0500030861634031"
            ],
            "text/markdown": "0.0500030861634031",
            "text/latex": "0.0500030861634031",
            "text/plain": [
              "[1] 0.05000309"
            ]
          },
          "metadata": {}
        }
      ]
    },
    {
      "cell_type": "markdown",
      "source": [
        "## t값 구하기\n",
        "qt 명령문을 사용하여 t분포의 역함수 값을 구한다.\n",
        "<예 7-8>에서 자유도가 6인 t분포에서 꼬리부분의 확률이 0.1, 0.05, 0.025, 0.01인 t값을 구한다. "
      ],
      "metadata": {
        "id": "CCOK9qgb1hNA"
      }
    },
    {
      "cell_type": "code",
      "execution_count": null,
      "metadata": {
        "colab": {
          "base_uri": "https://localhost:8080/",
          "height": 34
        },
        "id": "cTj_m6oa09dS",
        "outputId": "c0297700-5492-45dd-f169-e795cb2483ac"
      },
      "outputs": [
        {
          "output_type": "display_data",
          "data": {
            "text/html": [
              "1.43975574726515"
            ],
            "text/markdown": "1.43975574726515",
            "text/latex": "1.43975574726515",
            "text/plain": [
              "[1] 1.439756"
            ]
          },
          "metadata": {}
        }
      ],
      "source": [
        "qt(1-0.1, df=6)\n",
        "# qt(누적확률값, df=자유도)\n",
        "# P(T≥t)=0.1인 t값을 구하는 문제로, 누적확률값이 1-0.1인 t값을 구한다. 나머지 확률도 위와 같이 구한다.\n"
      ]
    },
    {
      "cell_type": "code",
      "source": [
        "qt(1-0.05, df=6)"
      ],
      "metadata": {
        "colab": {
          "base_uri": "https://localhost:8080/",
          "height": 34
        },
        "id": "S_WxrmwdBtwS",
        "outputId": "f9093e8e-2205-4d8e-d002-e87f18c18fbf"
      },
      "execution_count": null,
      "outputs": [
        {
          "output_type": "display_data",
          "data": {
            "text/html": [
              "1.9431802805153"
            ],
            "text/markdown": "1.9431802805153",
            "text/latex": "1.9431802805153",
            "text/plain": [
              "[1] 1.94318"
            ]
          },
          "metadata": {}
        }
      ]
    },
    {
      "cell_type": "code",
      "source": [
        "qt(1-0.025, df=6)"
      ],
      "metadata": {
        "colab": {
          "base_uri": "https://localhost:8080/",
          "height": 34
        },
        "id": "q3ALL5ErBtnR",
        "outputId": "6b422d6d-6c4a-4db8-d693-cb15b5387856"
      },
      "execution_count": null,
      "outputs": [
        {
          "output_type": "display_data",
          "data": {
            "text/html": [
              "2.44691185114497"
            ],
            "text/markdown": "2.44691185114497",
            "text/latex": "2.44691185114497",
            "text/plain": [
              "[1] 2.446912"
            ]
          },
          "metadata": {}
        }
      ]
    },
    {
      "cell_type": "code",
      "source": [
        "qt(1-0.01, df=6)"
      ],
      "metadata": {
        "colab": {
          "base_uri": "https://localhost:8080/",
          "height": 34
        },
        "id": "RIDTRY7UBtbs",
        "outputId": "12711592-acce-48f7-bf4a-9d788f2f2ced"
      },
      "execution_count": null,
      "outputs": [
        {
          "output_type": "display_data",
          "data": {
            "text/html": [
              "3.14266840329098"
            ],
            "text/markdown": "3.14266840329098",
            "text/latex": "3.14266840329098",
            "text/plain": [
              "[1] 3.142668"
            ]
          },
          "metadata": {}
        }
      ]
    },
    {
      "cell_type": "markdown",
      "source": [
        "## $\\chi^2$ 분포 확률 구하기\n",
        "pchisq 명령문을 사용하여 분포 확률값을 구한다."
      ],
      "metadata": {
        "id": "oroK-eoDAkPx"
      }
    },
    {
      "cell_type": "code",
      "source": [
        "1-pchisq(11.0705, df=5) # P(X≥11.0705)\n",
        "# pchisq(x, df=자유도)"
      ],
      "metadata": {
        "colab": {
          "base_uri": "https://localhost:8080/",
          "height": 34
        },
        "id": "brN326j3-NrZ",
        "outputId": "9df78652-b113-45a2-8949-f97bc7d4be86"
      },
      "execution_count": null,
      "outputs": [
        {
          "output_type": "display_data",
          "data": {
            "text/html": [
              "0.0499999554280437"
            ],
            "text/markdown": "0.0499999554280437",
            "text/latex": "0.0499999554280437",
            "text/plain": [
              "[1] 0.04999996"
            ]
          },
          "metadata": {}
        }
      ]
    },
    {
      "cell_type": "markdown",
      "source": [
        "## 정규분포에서 신뢰구간 구하기 \n",
        "<예 7-9>에 주어진 자료에서 모평균에 대한 95% 신뢰구간을 구하기 위하여 다음과 같은 연산식을 만들어준다. 모평균에 대한 신뢰계수를 구하기 위하여 qnorm 명령문을 이용한다."
      ],
      "metadata": {
        "id": "wZ13ySeZB6Y3"
      }
    },
    {
      "cell_type": "code",
      "source": [
        "n<-100  # n에 총 샘플 수를 지정한다.\n",
        "m<-245.69 # m에 모평균을 지정한다.\n",
        "s<-46.02 # s에 모표준편차를 지정한다. \n",
        "alpha<-0.05 # alpha에 해당 알파값을 지정한다.\n",
        "error<-qnorm(1-alpha/2, 0, 1)*s/sqrt(n)\n",
        "# qnorm 명령문을 이용하여 신뢰계수를 구하고, 표본오차를 구하여 곱한 값을 error라고 지정한다. \n",
        "upper<-m+error  # upper에 error값을 더한 신뢰구간 상한값을 지정한다.\n",
        "lower<-m-error  # lower에 error값을 뺀 신뢰구간 하한값을 지정한다.\n",
        "confi<-c(lower, upper)  # 하한값과 상한값을 묶어 신뢰구간을 만든다.\n",
        "confi"
      ],
      "metadata": {
        "colab": {
          "base_uri": "https://localhost:8080/",
          "height": 34
        },
        "id": "ByMcM_M6AyM5",
        "outputId": "1c33ec32-3b73-4bae-c4f4-3f4177869b3e"
      },
      "execution_count": null,
      "outputs": [
        {
          "output_type": "display_data",
          "data": {
            "text/html": [
              "<style>\n",
              ".list-inline {list-style: none; margin:0; padding: 0}\n",
              ".list-inline>li {display: inline-block}\n",
              ".list-inline>li:not(:last-child)::after {content: \"\\00b7\"; padding: 0 .5ex}\n",
              "</style>\n",
              "<ol class=list-inline><li>236.670245743147</li><li>254.709754256853</li></ol>\n"
            ],
            "text/markdown": "1. 236.670245743147\n2. 254.709754256853\n\n\n",
            "text/latex": "\\begin{enumerate*}\n\\item 236.670245743147\n\\item 254.709754256853\n\\end{enumerate*}\n",
            "text/plain": [
              "[1] 236.6702 254.7098"
            ]
          },
          "metadata": {}
        }
      ]
    },
    {
      "cell_type": "markdown",
      "source": [
        "## t분포에서 신뢰구간 구하기\n",
        "<예 7-11>에 주어진 자료에서 표본평균에 대한 95% 신뢰구간을 구하기 위하여 다음과 같은 연산식을 만들어준다. 표본평균에 대한 신뢰계수를 구하기 위하여 qt 명령문을 이용한다."
      ],
      "metadata": {
        "id": "SL5Bu2f6AzlS"
      }
    },
    {
      "cell_type": "code",
      "source": [
        "time<-c(32,38,42,29,30,37,33,40,37,35)  # time이라는 데이터셋에 데이터를 입력한다.\n",
        "n<-length(time)  # length 명령문을 이용해 time 데이터셋의 데이터 개수를 센다.\n",
        "m<-mean(time)  # 표본평균을 구한다.\n",
        "s<-sd(time)  # 표본표준편차를 구한다.\n",
        "alpha<-0.05  # alpha에 해당 알파값을 지정한다.\n",
        "error<-qt(1-alpha/2, df=n-1)*s/sqrt(n) \n",
        "# qt 명령문을 이용하여 신뢰계수를 구하고, 표본오차를 구하여 곱한 값을 error라고 지정한다.\n",
        "# 표본평균의 신뢰구간은 t분포를 이용하므로 신뢰계수를 구할 때, 자유도를 n-1로 지정해야 함을 유의한다.\n",
        "upper<-m+error  # 신뢰구간 상한값을 지정한다.\n",
        "lower<-m-error  # 신뢰구간 하한값을 지정한다.\n",
        "confi<-c(lower, upper)  # 하한값과 상한값을 묶어 신뢰구간을 만든다.\n",
        "confi"
      ],
      "metadata": {
        "colab": {
          "base_uri": "https://localhost:8080/",
          "height": 34
        },
        "id": "1E6CUAZn-LBJ",
        "outputId": "da75fdca-13b9-4d73-ae3e-c458a68ca94e"
      },
      "execution_count": null,
      "outputs": [
        {
          "output_type": "display_data",
          "data": {
            "text/html": [
              "<style>\n",
              ".list-inline {list-style: none; margin:0; padding: 0}\n",
              ".list-inline>li {display: inline-block}\n",
              ".list-inline>li:not(:last-child)::after {content: \"\\00b7\"; padding: 0 .5ex}\n",
              "</style>\n",
              "<ol class=list-inline><li>32.2453897133611</li><li>38.3546102866389</li></ol>\n"
            ],
            "text/markdown": "1. 32.2453897133611\n2. 38.3546102866389\n\n\n",
            "text/latex": "\\begin{enumerate*}\n\\item 32.2453897133611\n\\item 38.3546102866389\n\\end{enumerate*}\n",
            "text/plain": [
              "[1] 32.24539 38.35461"
            ]
          },
          "metadata": {}
        }
      ]
    },
    {
      "cell_type": "markdown",
      "source": [
        "## 분산의 신뢰구간 구하기 \n",
        "<예 7-14>에 주어진 자료에서 분산에 대한 95% 신뢰구간을 구하기 위하여 다음과 같은 연산식을 만들어준다. 분산에 대한 신뢰계수를 구하기 위하여 qchisq 명령문을 이용한다."
      ],
      "metadata": {
        "id": "vgxx0ec7CkWs"
      }
    },
    {
      "cell_type": "code",
      "source": [
        "distance<-c(68.2,57.3,62.6,58.9,67.4,55.2,63.5,61.2,59.2,64.5)  # 데이터를 입력한다.\n",
        "n<-length(distance)  # 데이터의 개수를 센다.\n",
        "m<-mean(distance)  # 표본평균을 구한다.\n",
        "s2<-var(distance)  # 표본분산을 구한다.\n",
        "alpha<-0.05  # alpha에 해당 알파값을 지정한다.\n",
        "chi_u<-qchisq(1-alpha/2,df=n-1)  # qchisq 명령문을 이용하여 A값을 구한다.\n",
        "chi_l<-qchisq(alpha/2,df=n-1)  # qchisq 명령문을 이용하여 B값을 구한다.\n",
        "upper<-((n-1)*s2)/chi_l  # 다음과 같은 수식을 만들어 신뢰구간 상한값을 지정한다.\n",
        "lower<-((n-1)*s2)/chi_u  # 다음과 같은 수식을 만들어 신뢰구간 하한값을 지정한다.\n",
        "confi<-c(lower, upper)  # 하한값과 상한값을 묶어 신뢰구간을 만든다.\n",
        "confi"
      ],
      "metadata": {
        "id": "pzB8Hlri87EF",
        "colab": {
          "base_uri": "https://localhost:8080/",
          "height": 34
        },
        "outputId": "47f580b4-f1fe-436c-ce5d-5dc3c02bca47"
      },
      "execution_count": null,
      "outputs": [
        {
          "output_type": "display_data",
          "data": {
            "text/html": [
              "<style>\n",
              ".list-inline {list-style: none; margin:0; padding: 0}\n",
              ".list-inline>li {display: inline-block}\n",
              ".list-inline>li:not(:last-child)::after {content: \"\\00b7\"; padding: 0 .5ex}\n",
              "</style>\n",
              "<ol class=list-inline><li>8.54134381073622</li><li>60.1690978287325</li></ol>\n"
            ],
            "text/markdown": "1. 8.54134381073622\n2. 60.1690978287325\n\n\n",
            "text/latex": "\\begin{enumerate*}\n\\item 8.54134381073622\n\\item 60.1690978287325\n\\end{enumerate*}\n",
            "text/plain": [
              "[1]  8.541344 60.169098"
            ]
          },
          "metadata": {}
        }
      ]
    },
    {
      "cell_type": "markdown",
      "source": [
        "코드 설명에서 A = $\\chi^2_{1-\\alpha/2}$, B = $\\chi^2_{\\alpha/2}$"
      ],
      "metadata": {
        "id": "3ULWvTIRReeG"
      }
    },
    {
      "cell_type": "code",
      "source": [],
      "metadata": {
        "id": "Wq_VQfNeCq0-"
      },
      "execution_count": null,
      "outputs": []
    }
  ]
}