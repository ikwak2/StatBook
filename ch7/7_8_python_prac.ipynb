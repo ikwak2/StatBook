{
  "nbformat": 4,
  "nbformat_minor": 0,
  "metadata": {
    "colab": {
      "provenance": [],
      "authorship_tag": "ABX9TyMZTq9AvvB6rpkxb56sPZVl",
      "include_colab_link": true
    },
    "kernelspec": {
      "name": "python3",
      "display_name": "Python 3"
    },
    "language_info": {
      "name": "python"
    }
  },
  "cells": [
    {
      "cell_type": "markdown",
      "metadata": {
        "id": "view-in-github",
        "colab_type": "text"
      },
      "source": [
        "<a href=\"https://colab.research.google.com/github/ikwak2/StatBook/blob/main/ch7/7_8_python_prac.ipynb\" target=\"_parent\"><img src=\"https://colab.research.google.com/assets/colab-badge.svg\" alt=\"Open In Colab\"/></a>"
      ]
    },
    {
      "cell_type": "markdown",
      "source": [
        "# 7.8 Python 연습\n",
        "\n",
        "## t분포 확률 구하기\n",
        "t.cdf 명령문을 사용하여 t분포 확률값을 구한다. t.cdf는 t분포의 누적확률분포이다.  \n",
        "자유도가 5인 t분포에서 T ≥ 2.015의 확률을 구한다. \n"
      ],
      "metadata": {
        "id": "KEqwHnBa8QRX"
      }
    },
    {
      "cell_type": "code",
      "source": [
        "from scipy.stats import t\n",
        "\n",
        "1 - t.cdf(2.015, df=5) # P(T≥2.015)\n",
        "# pt(t, df=자유도)"
      ],
      "metadata": {
        "colab": {
          "base_uri": "https://localhost:8080/"
        },
        "id": "dISGp6cbNslP",
        "outputId": "76933346-7374-4cde-bb1f-3a50ad8d7cf6"
      },
      "execution_count": 1,
      "outputs": [
        {
          "output_type": "execute_result",
          "data": {
            "text/plain": [
              "0.0500030861634031"
            ]
          },
          "metadata": {},
          "execution_count": 1
        }
      ]
    },
    {
      "cell_type": "markdown",
      "source": [
        "## t값 구하기\n",
        "t.ppf 명령문을 사용하여 t분포의 역함수 값을 구한다.\n",
        "<예 7-8>에서 자유도가 6인 t분포에서 꼬리부분의 확률이 0.1, 0.05, 0.025, 0.01인 t값을 구한다. "
      ],
      "metadata": {
        "id": "oEW74hgL8d7R"
      }
    },
    {
      "cell_type": "code",
      "source": [
        "from scipy.stats import t\n",
        "\n",
        "t.ppf(1 - 0.1, df=6)\n",
        "\n",
        "# t.ppf(누적확률값, df=자유도)\n",
        "# P(T≥t)=0.1인 t값을 구하는 문제로, 누적확률값이 1-0.1인 t값을 구한다. 나머지 확률도 위와 같이 구한다.\n"
      ],
      "metadata": {
        "id": "wTx1rr9_8yMd",
        "colab": {
          "base_uri": "https://localhost:8080/"
        },
        "outputId": "2c2af42d-2ad1-49cd-e3be-8812f81e4c3f"
      },
      "execution_count": 2,
      "outputs": [
        {
          "output_type": "execute_result",
          "data": {
            "text/plain": [
              "1.4397557472577693"
            ]
          },
          "metadata": {},
          "execution_count": 2
        }
      ]
    },
    {
      "cell_type": "code",
      "source": [
        "t.ppf(1-0.05, df=6)"
      ],
      "metadata": {
        "colab": {
          "base_uri": "https://localhost:8080/"
        },
        "id": "buoSgqEBOX2K",
        "outputId": "35848ace-48e8-47d0-9966-13a38abe61da"
      },
      "execution_count": 4,
      "outputs": [
        {
          "output_type": "execute_result",
          "data": {
            "text/plain": [
              "1.9431802803927816"
            ]
          },
          "metadata": {},
          "execution_count": 4
        }
      ]
    },
    {
      "cell_type": "code",
      "source": [
        "t.ppf(1-0.025, df=6)"
      ],
      "metadata": {
        "colab": {
          "base_uri": "https://localhost:8080/"
        },
        "id": "rsw5JPboOXjD",
        "outputId": "a06a6b52-9143-4b0c-b67d-89721ddd41f0"
      },
      "execution_count": 5,
      "outputs": [
        {
          "output_type": "execute_result",
          "data": {
            "text/plain": [
              "2.4469118487916806"
            ]
          },
          "metadata": {},
          "execution_count": 5
        }
      ]
    },
    {
      "cell_type": "code",
      "source": [
        "t.ppf(1-0.01, df=6)"
      ],
      "metadata": {
        "colab": {
          "base_uri": "https://localhost:8080/"
        },
        "id": "YwKNI8b8MPgs",
        "outputId": "008c3e20-1267-4d42-de55-59bad98e2bcb"
      },
      "execution_count": 6,
      "outputs": [
        {
          "output_type": "execute_result",
          "data": {
            "text/plain": [
              "3.142668403290985"
            ]
          },
          "metadata": {},
          "execution_count": 6
        }
      ]
    },
    {
      "cell_type": "markdown",
      "source": [
        "## $\\chi^2$ 분포 확률 구하기\n",
        "chi2.cdf 명령문을 사용하여 분포 확률값을 구한다."
      ],
      "metadata": {
        "id": "m1o-Okpz80jq"
      }
    },
    {
      "cell_type": "code",
      "source": [
        "from scipy.stats import chi2\n",
        "\n",
        "p = 1 - chi2.cdf(11.0705, df=5) # P(X≥11.0705)\n",
        "# chi2.cdf(x, df=자유도)"
      ],
      "metadata": {
        "id": "YoF6ldWg8uA6"
      },
      "execution_count": 7,
      "outputs": []
    },
    {
      "cell_type": "markdown",
      "source": [
        "## 정규분포에서 신뢰구간 구하기 \n",
        "<예 7-9>에 주어진 자료에서 모평균에 대한 95% 신뢰구간을 구하기 위하여 다음과 같은 연산식을 만들어준다. 모평균에 대한 신뢰계수를 구하기 위하여 stats.norm.ppf 명령문을 이용한다."
      ],
      "metadata": {
        "id": "MuNqrAZ4Pt9-"
      }
    },
    {
      "cell_type": "code",
      "source": [
        "import scipy.stats as stats\n",
        "\n",
        "n = 100 # n에 총 샘플 수를 지정한다.\n",
        "m = 245.69 # m에 모평균을 지정한다.\n",
        "s = 46.02 # s에 모표준편차를 지정한다. \n",
        "alpha = 0.05 # alpha에 해당 알파값을 지정한다.\n",
        "\n",
        "error = stats.norm.ppf(1 - alpha/2, 0, 1) * s / (n ** 0.5) # stats.norm.ppf 명령문을 이용하여 신뢰계수를 구하고, 표본오차를 구하여 곱한 값을 error라고 지정한다. \n",
        "upper = m + error # upper에 error값을 더한 신뢰구간 상한값을 지정한다.\n",
        "lower = m - error # lower에 error값을 뺀 신뢰구간 하한값을 지정한다.\n",
        "confi = [lower, upper] # 하한값과 상한값을 묶어 신뢰구간을 만든다.\n",
        "\n",
        "print(confi)\n",
        "\n"
      ],
      "metadata": {
        "colab": {
          "base_uri": "https://localhost:8080/"
        },
        "id": "3ZuTzPVO87Ju",
        "outputId": "f71c3029-279c-4583-c23f-08748a8ee2ed"
      },
      "execution_count": 8,
      "outputs": [
        {
          "output_type": "stream",
          "name": "stdout",
          "text": [
            "[236.67024574314667, 254.70975425685333]\n"
          ]
        }
      ]
    },
    {
      "cell_type": "markdown",
      "source": [
        "## t분포에서 신뢰구간 구하기\n",
        "<예 7-11>에 주어진 자료에서 표본평균에 대한 95% 신뢰구간을 구하기 위하여 다음과 같은 연산식을 만들어준다. 표본평균에 대한 신뢰계수를 구하기 위하여 qt 명령문을 이용한다."
      ],
      "metadata": {
        "id": "VDzqMWcePzRs"
      }
    },
    {
      "cell_type": "code",
      "source": [
        "import numpy as np\n",
        "import scipy.stats as stats\n",
        "\n",
        "time = np.array([32, 38, 42, 29, 30, 37, 33, 40, 37, 35])  # time이라는 데이터셋에 데이터를 입력한다.\n",
        "n = len(time) # length 명령문을 이용해 time 데이터셋의 데이터 개수를 센다.\n",
        "m = np.mean(time) # 표본평균을 구한다.\n",
        "s = np.std(time, ddof=1) # 표본표준편차를 구한다. ddof=1 을 이용하면 표본 표준편차를 계산하게 된다. \n",
        "alpha = 0.05 # alpha에 해당 알파값을 지정한다.\n",
        "\n",
        "error = stats.t.ppf(1 - alpha/2, df=n-1) * s / np.sqrt(n)\n",
        "# stats.t.ppf 명령문을 이용하여 신뢰계수를 구하고, 표본오차를 구하여 곱한 값을 error라고 지정한다.\n",
        "# 표본평균의 신뢰구간은 t분포를 이용하므로 신뢰계수를 구할 때, 자유도를 n-1로 지정해야 함을 유의한다.\n",
        "upper = m + error # 신뢰구간 상한값을 지정한다.\n",
        "lower = m - error # 신뢰구간 하한값을 지정한다.\n",
        "confi = [lower, upper] # 하한값과 상한값을 묶어 신뢰구간을 만든다.\n",
        "\n",
        "print(confi)\n",
        "\n"
      ],
      "metadata": {
        "id": "D27Nfs039tCI",
        "colab": {
          "base_uri": "https://localhost:8080/"
        },
        "outputId": "2844041b-ae1f-46ec-f4b9-c78e5bc6a1fc"
      },
      "execution_count": 9,
      "outputs": [
        {
          "output_type": "stream",
          "name": "stdout",
          "text": [
            "[32.2453897134384, 38.354610286561595]\n"
          ]
        }
      ]
    },
    {
      "cell_type": "markdown",
      "source": [
        "## 분산의 신뢰구간 구하기 \n",
        "<예 7-14>에 주어진 자료에서 분산에 대한 95% 신뢰구간을 구하기 위하여 다음과 같은 연산식을 만들어준다. 분산에 대한 신뢰계수를 구하기 위하여 qchisq 명령문을 이용한다."
      ],
      "metadata": {
        "id": "Xwpbo-EqQZOm"
      }
    },
    {
      "cell_type": "code",
      "source": [
        "import numpy as np\n",
        "import scipy.stats as stats\n",
        "\n",
        "distance = np.array([68.2, 57.3, 62.6, 58.9, 67.4, 55.2, 63.5, 61.2, 59.2, 64.5]) # 데이터를 입력한다.\n",
        "n = len(distance) # 데이터의 개수를 센다.\n",
        "m = np.mean(distance)  # 표본평균을 구한다.\n",
        "s2 = np.var(distance, ddof=1)   # 표본분산을 구한다.\n",
        "alpha = 0.05  # alpha에 해당 알파값을 지정한다.\n",
        "\n",
        "chi_u = stats.chi2.ppf(1 - alpha/2, df=n-1)  # stats.chi2.ppf 명령문을 이용하여 A값을 구한다.\n",
        "chi_l = stats.chi2.ppf(alpha/2, df=n-1)  # stats.chi2.ppf 명령문을 이용하여 B값을 구한다.\n",
        "upper = ((n-1) * s2) / chi_l  # 다음과 같은 수식을 만들어 신뢰구간 상한값을 지정한다.\n",
        "lower = ((n-1) * s2) / chi_u   # 다음과 같은 수식을 만들어 신뢰구간 하한값을 지정한다.\n",
        "confi = [lower, upper]  # 하한값과 상한값을 묶어 신뢰구간을 만든다.\n",
        "\n",
        "print(confi)\n"
      ],
      "metadata": {
        "colab": {
          "base_uri": "https://localhost:8080/"
        },
        "id": "axcFaY3KQYkE",
        "outputId": "3b28bd7f-c5ac-454b-8f41-f988ef966abf"
      },
      "execution_count": 10,
      "outputs": [
        {
          "output_type": "stream",
          "name": "stdout",
          "text": [
            "[8.541343810736226, 60.16909782873245]\n"
          ]
        }
      ]
    },
    {
      "cell_type": "markdown",
      "source": [
        "코드 설명에서 A = $\\chi^2_{1-\\alpha/2}$, B = $\\chi^2_{\\alpha/2}$"
      ],
      "metadata": {
        "id": "UXigwsMjQ6St"
      }
    },
    {
      "cell_type": "code",
      "source": [
        "\n"
      ],
      "metadata": {
        "id": "bWz4FZ97Q5gD"
      },
      "execution_count": null,
      "outputs": []
    }
  ]
}