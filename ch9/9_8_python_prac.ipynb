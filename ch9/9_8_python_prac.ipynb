{
  "nbformat": 4,
  "nbformat_minor": 0,
  "metadata": {
    "colab": {
      "provenance": [],
      "authorship_tag": "ABX9TyPeVuhGtGOasWcAQWl+Fk0O",
      "include_colab_link": true
    },
    "kernelspec": {
      "name": "python3",
      "display_name": "Python 3"
    },
    "language_info": {
      "name": "python"
    }
  },
  "cells": [
    {
      "cell_type": "markdown",
      "metadata": {
        "id": "view-in-github",
        "colab_type": "text"
      },
      "source": [
        "<a href=\"https://colab.research.google.com/github/ikwak2/StatBook/blob/main/ch9/9_8_python_prac.ipynb\" target=\"_parent\"><img src=\"https://colab.research.google.com/assets/colab-badge.svg\" alt=\"Open In Colab\"/></a>"
      ]
    },
    {
      "cell_type": "markdown",
      "source": [
        "# 9.8 Python 연습\n",
        "\n",
        "9.6 엑셀 연습과 마찬가지로 [표 10-1]에 주어진 자료를 이용하여 회귀분석을 실시한다.\n",
        "\n",
        "## 자료 입력 \n"
      ],
      "metadata": {
        "id": "KEqwHnBa8QRX"
      }
    },
    {
      "cell_type": "markdown",
      "source": [
        "현재 폴더로 예제파일 ex9.csv 파일을 다운받습니다. \n"
      ],
      "metadata": {
        "id": "t6uTdDj_X02l"
      }
    },
    {
      "cell_type": "code",
      "source": [
        "!wget https://raw.githubusercontent.com/ikwak2/StatBook/main/ch9/ex9.csv"
      ],
      "metadata": {
        "colab": {
          "base_uri": "https://localhost:8080/"
        },
        "id": "dISGp6cbNslP",
        "outputId": "fd314327-5d55-4463-d7f5-7512c4183ab8"
      },
      "execution_count": 1,
      "outputs": [
        {
          "output_type": "stream",
          "name": "stdout",
          "text": [
            "--2023-05-18 05:40:09--  https://raw.githubusercontent.com/ikwak2/StatBook/main/ch9/ex9.csv\n",
            "Resolving raw.githubusercontent.com (raw.githubusercontent.com)... 185.199.108.133, 185.199.109.133, 185.199.110.133, ...\n",
            "Connecting to raw.githubusercontent.com (raw.githubusercontent.com)|185.199.108.133|:443... connected.\n",
            "HTTP request sent, awaiting response... 200 OK\n",
            "Length: 338 [text/plain]\n",
            "Saving to: ‘ex9.csv’\n",
            "\n",
            "\rex9.csv               0%[                    ]       0  --.-KB/s               \rex9.csv             100%[===================>]     338  --.-KB/s    in 0s      \n",
            "\n",
            "2023-05-18 05:40:09 (14.2 MB/s) - ‘ex9.csv’ saved [338/338]\n",
            "\n"
          ]
        }
      ]
    },
    {
      "cell_type": "code",
      "source": [
        "import pandas as pd\n",
        "\n",
        "x = pd.read_csv(\"ex9.csv\")\n",
        "print(x)"
      ],
      "metadata": {
        "colab": {
          "base_uri": "https://localhost:8080/"
        },
        "id": "OQ6Wl9z4YEfD",
        "outputId": "699958be-ba85-4475-85f7-2f689ba7436b"
      },
      "execution_count": 2,
      "outputs": [
        {
          "output_type": "stream",
          "name": "stdout",
          "text": [
            "    Day  Wind   GHI  Power\n",
            "0     1   3.5  1.08   56.3\n",
            "1     2   2.5  1.73   94.1\n",
            "2     3   1.9  1.69   92.6\n",
            "3     4   2.5  1.27   52.2\n",
            "4     5   2.4  1.76   96.0\n",
            "5     6   2.1  1.70   92.0\n",
            "6     7   3.6  1.39   74.5\n",
            "7     8   4.9  1.74   95.3\n",
            "8     9   0.8  1.30   62.6\n",
            "9    10   3.0  0.61   36.3\n",
            "10   11   0.9  1.51   72.7\n",
            "11   12   2.9  1.32   49.9\n",
            "12   13   2.4  1.69   83.4\n",
            "13   14   1.2  0.97   21.3\n",
            "14   15   3.0  1.26   51.9\n",
            "15   16   2.9  1.84   98.3\n",
            "16   17   4.5  1.83   99.2\n",
            "17   18   1.9  1.71   89.3\n",
            "18   19   2.0  1.27   59.3\n",
            "19   20   3.8  0.35   30.2\n"
          ]
        }
      ]
    },
    {
      "cell_type": "markdown",
      "source": [
        "pd.read_csv 명령어를 이용하여 ex9 파일을 x에 저장한다. 첫 번째 변수 Day는 날짜, 두번째 변수 Wind는 풍속, 세 번째 변수 GHI는 일사량, 네 번째 변수 Power은 태양광 발전량이다."
      ],
      "metadata": {
        "id": "61LFtJ-MSKnJ"
      }
    },
    {
      "cell_type": "markdown",
      "source": [
        "## 일사량과 태양광 발전량의 산포도 구하기"
      ],
      "metadata": {
        "id": "DFp0T3cdSQXI"
      }
    },
    {
      "cell_type": "code",
      "source": [
        "import pandas as pd\n",
        "import matplotlib.pyplot as plt\n",
        "\n",
        "plt.plot(x['GHI'], x['Power'], 'o')\n",
        "plt.xlabel('GHI')\n",
        "plt.ylabel('Solar Power')\n",
        "plt.show()"
      ],
      "metadata": {
        "colab": {
          "base_uri": "https://localhost:8080/",
          "height": 449
        },
        "id": "dwQ4fp9hSYRY",
        "outputId": "1efea367-ffd0-42ff-a0e5-ee33eb529445"
      },
      "execution_count": 4,
      "outputs": [
        {
          "output_type": "display_data",
          "data": {
            "text/plain": [
              "<Figure size 640x480 with 1 Axes>"
            ],
            "image/png": "[encoded data removed]"
          },
          "metadata": {}
        }
      ]
    },
    {
      "cell_type": "markdown",
      "source": [
        "## 풍속과 태양광 발전량, 일사량과 태양광 발전량의 상관계수\n",
        "### 풍속과 태양광 발전량의 상관계수"
      ],
      "metadata": {
        "id": "oEW74hgL8d7R"
      }
    },
    {
      "cell_type": "code",
      "source": [
        "x['Wind'].corr(x['Power'])"
      ],
      "metadata": {
        "colab": {
          "base_uri": "https://localhost:8080/"
        },
        "id": "_8CE-0-pa0ON",
        "outputId": "0ac81cca-ce57-45c1-f458-6fb10c1879ad"
      },
      "execution_count": 5,
      "outputs": [
        {
          "output_type": "execute_result",
          "data": {
            "text/plain": [
              "0.1451348842561516"
            ]
          },
          "metadata": {},
          "execution_count": 5
        }
      ]
    },
    {
      "cell_type": "code",
      "source": [
        "## 참고: 전체상관계수행렬 구하는 방법\n",
        "x.corr()"
      ],
      "metadata": {
        "colab": {
          "base_uri": "https://localhost:8080/",
          "height": 175
        },
        "id": "Cew_WUBIa2wc",
        "outputId": "08484140-a3f8-470d-8854-d3559492a5dd"
      },
      "execution_count": 7,
      "outputs": [
        {
          "output_type": "execute_result",
          "data": {
            "text/plain": [
              "            Day      Wind       GHI     Power\n",
              "Day    1.000000  0.047926 -0.211060 -0.232978\n",
              "Wind   0.047926  1.000000 -0.032056  0.145135\n",
              "GHI   -0.211060 -0.032056  1.000000  0.917906\n",
              "Power -0.232978  0.145135  0.917906  1.000000"
            ],
            "text/html": [
              "\n",
              "  <div id=\"df-78e32e64-d04e-4533-bd5c-372cd3608233\">\n",
              "    <div class=\"colab-df-container\">\n",
              "      <div>\n",
              "<style scoped>\n",
              "    .dataframe tbody tr th:only-of-type {\n",
              "        vertical-align: middle;\n",
              "    }\n",
              "\n",
              "    .dataframe tbody tr th {\n",
              "        vertical-align: top;\n",
              "    }\n",
              "\n",
              "    .dataframe thead th {\n",
              "        text-align: right;\n",
              "    }\n",
              "</style>\n",
              "<table border=\"1\" class=\"dataframe\">\n",
              "  <thead>\n",
              "    <tr style=\"text-align: right;\">\n",
              "      <th></th>\n",
              "      <th>Day</th>\n",
              "      <th>Wind</th>\n",
              "      <th>GHI</th>\n",
              "      <th>Power</th>\n",
              "    </tr>\n",
              "  </thead>\n",
              "  <tbody>\n",
              "    <tr>\n",
              "      <th>Day</th>\n",
              "      <td>1.000000</td>\n",
              "      <td>0.047926</td>\n",
              "      <td>-0.211060</td>\n",
              "      <td>-0.232978</td>\n",
              "    </tr>\n",
              "    <tr>\n",
              "      <th>Wind</th>\n",
              "      <td>0.047926</td>\n",
              "      <td>1.000000</td>\n",
              "      <td>-0.032056</td>\n",
              "      <td>0.145135</td>\n",
              "    </tr>\n",
              "    <tr>\n",
              "      <th>GHI</th>\n",
              "      <td>-0.211060</td>\n",
              "      <td>-0.032056</td>\n",
              "      <td>1.000000</td>\n",
              "      <td>0.917906</td>\n",
              "    </tr>\n",
              "    <tr>\n",
              "      <th>Power</th>\n",
              "      <td>-0.232978</td>\n",
              "      <td>0.145135</td>\n",
              "      <td>0.917906</td>\n",
              "      <td>1.000000</td>\n",
              "    </tr>\n",
              "  </tbody>\n",
              "</table>\n",
              "</div>\n",
              "      <button class=\"colab-df-convert\" onclick=\"convertToInteractive('df-78e32e64-d04e-4533-bd5c-372cd3608233')\"\n",
              "              title=\"Convert this dataframe to an interactive table.\"\n",
              "              style=\"display:none;\">\n",
              "        \n",
              "  <svg xmlns=\"http://www.w3.org/2000/svg\" height=\"24px\"viewBox=\"0 0 24 24\"\n",
              "       width=\"24px\">\n",
              "    <path d=\"M0 0h24v24H0V0z\" fill=\"none\"/>\n",
              "    <path d=\"M18.56 5.44l.94 2.06.94-2.06 2.06-.94-2.06-.94-.94-2.06-.94 2.06-2.06.94zm-11 1L8.5 8.5l.94-2.06 2.06-.94-2.06-.94L8.5 2.5l-.94 2.06-2.06.94zm10 10l.94 2.06.94-2.06 2.06-.94-2.06-.94-.94-2.06-.94 2.06-2.06.94z\"/><path d=\"M17.41 7.96l-1.37-1.37c-.4-.4-.92-.59-1.43-.59-.52 0-1.04.2-1.43.59L10.3 9.45l-7.72 7.72c-.78.78-.78 2.05 0 2.83L4 21.41c.39.39.9.59 1.41.59.51 0 1.02-.2 1.41-.59l7.78-7.78 2.81-2.81c.8-.78.8-2.07 0-2.86zM5.41 20L4 18.59l7.72-7.72 1.47 1.35L5.41 20z\"/>\n",
              "  </svg>\n",
              "      </button>\n",
              "      \n",
              "  <style>\n",
              "    .colab-df-container {\n",
              "      display:flex;\n",
              "      flex-wrap:wrap;\n",
              "      gap: 12px;\n",
              "    }\n",
              "\n",
              "    .colab-df-convert {\n",
              "      background-color: #E8F0FE;\n",
              "      border: none;\n",
              "      border-radius: 50%;\n",
              "      cursor: pointer;\n",
              "      display: none;\n",
              "      fill: #1967D2;\n",
              "      height: 32px;\n",
              "      padding: 0 0 0 0;\n",
              "      width: 32px;\n",
              "    }\n",
              "\n",
              "    .colab-df-convert:hover {\n",
              "      background-color: #E2EBFA;\n",
              "      box-shadow: 0px 1px 2px rgba(60, 64, 67, 0.3), 0px 1px 3px 1px rgba(60, 64, 67, 0.15);\n",
              "      fill: #174EA6;\n",
              "    }\n",
              "\n",
              "    [theme=dark] .colab-df-convert {\n",
              "      background-color: #3B4455;\n",
              "      fill: #D2E3FC;\n",
              "    }\n",
              "\n",
              "    [theme=dark] .colab-df-convert:hover {\n",
              "      background-color: #434B5C;\n",
              "      box-shadow: 0px 1px 3px 1px rgba(0, 0, 0, 0.15);\n",
              "      filter: drop-shadow(0px 1px 2px rgba(0, 0, 0, 0.3));\n",
              "      fill: #FFFFFF;\n",
              "    }\n",
              "  </style>\n",
              "\n",
              "      <script>\n",
              "        const buttonEl =\n",
              "          document.querySelector('#df-78e32e64-d04e-4533-bd5c-372cd3608233 button.colab-df-convert');\n",
              "        buttonEl.style.display =\n",
              "          google.colab.kernel.accessAllowed ? 'block' : 'none';\n",
              "\n",
              "        async function convertToInteractive(key) {\n",
              "          const element = document.querySelector('#df-78e32e64-d04e-4533-bd5c-372cd3608233');\n",
              "          const dataTable =\n",
              "            await google.colab.kernel.invokeFunction('convertToInteractive',\n",
              "                                                     [key], {});\n",
              "          if (!dataTable) return;\n",
              "\n",
              "          const docLinkHtml = 'Like what you see? Visit the ' +\n",
              "            '<a target=\"_blank\" href=https://colab.research.google.com/notebooks/data_table.ipynb>data table notebook</a>'\n",
              "            + ' to learn more about interactive tables.';\n",
              "          element.innerHTML = '';\n",
              "          dataTable['output_type'] = 'display_data';\n",
              "          await google.colab.output.renderOutput(dataTable, element);\n",
              "          const docLink = document.createElement('div');\n",
              "          docLink.innerHTML = docLinkHtml;\n",
              "          element.appendChild(docLink);\n",
              "        }\n",
              "      </script>\n",
              "    </div>\n",
              "  </div>\n",
              "  "
            ]
          },
          "metadata": {},
          "execution_count": 7
        }
      ]
    },
    {
      "cell_type": "markdown",
      "source": [
        "### 일사량과 태양광 발전량의 상관계수"
      ],
      "metadata": {
        "id": "XplrBu7MbDUJ"
      }
    },
    {
      "cell_type": "code",
      "source": [
        "x['GHI'].corr(x['Power'])"
      ],
      "metadata": {
        "colab": {
          "base_uri": "https://localhost:8080/"
        },
        "id": "KZaBZ9Z9bD7Z",
        "outputId": "320461ad-fb35-43d3-a728-56da6a1ef269"
      },
      "execution_count": 8,
      "outputs": [
        {
          "output_type": "execute_result",
          "data": {
            "text/plain": [
              "0.9179055300185481"
            ]
          },
          "metadata": {},
          "execution_count": 8
        }
      ]
    },
    {
      "cell_type": "markdown",
      "source": [
        "## 회귀분석"
      ],
      "metadata": {
        "id": "DQzpIMlISjhh"
      }
    },
    {
      "cell_type": "code",
      "source": [
        "from statsmodels.formula.api import ols\n",
        "\n",
        "model = ols('Power ~ Wind + GHI', data=data).fit()\n",
        "model.summary()"
      ],
      "metadata": {
        "colab": {
          "base_uri": "https://localhost:8080/",
          "height": 473
        },
        "id": "5t5VSK_adxnB",
        "outputId": "b5a7d404-aff0-4bc1-c357-77ff363401cb"
      },
      "execution_count": 22,
      "outputs": [
        {
          "output_type": "execute_result",
          "data": {
            "text/plain": [
              "<class 'statsmodels.iolib.summary.Summary'>\n",
              "\"\"\"\n",
              "                            OLS Regression Results                            \n",
              "==============================================================================\n",
              "Dep. Variable:                  Power   R-squared:                       0.873\n",
              "Model:                            OLS   Adj. R-squared:                  0.858\n",
              "Method:                 Least Squares   F-statistic:                     58.46\n",
              "Date:                Thu, 18 May 2023   Prob (F-statistic):           2.40e-08\n",
              "Time:                        06:08:40   Log-Likelihood:                -71.385\n",
              "No. Observations:                  20   AIC:                             148.8\n",
              "Df Residuals:                      17   BIC:                             151.8\n",
              "Df Model:                           2                                         \n",
              "Covariance Type:            nonrobust                                         \n",
              "==============================================================================\n",
              "                 coef    std err          t      P>|t|      [0.025      0.975]\n",
              "------------------------------------------------------------------------------\n",
              "Intercept    -18.2881      9.341     -1.958      0.067     -37.995       1.419\n",
              "Wind           3.9792      1.969      2.021      0.059      -0.175       8.133\n",
              "GHI           55.7980      5.224     10.681      0.000      44.777      66.819\n",
              "==============================================================================\n",
              "Omnibus:                        2.942   Durbin-Watson:                   1.613\n",
              "Prob(Omnibus):                  0.230   Jarque-Bera (JB):                2.044\n",
              "Skew:                          -0.780   Prob(JB):                        0.360\n",
              "Kurtosis:                       2.859   Cond. No.                         16.3\n",
              "==============================================================================\n",
              "\n",
              "Notes:\n",
              "[1] Standard Errors assume that the covariance matrix of the errors is correctly specified.\n",
              "\"\"\""
            ],
            "text/html": [
              "<table class=\"simpletable\">\n",
              "<caption>OLS Regression Results</caption>\n",
              "<tr>\n",
              "  <th>Dep. Variable:</th>          <td>Power</td>      <th>  R-squared:         </th> <td>   0.873</td>\n",
              "</tr>\n",
              "<tr>\n",
              "  <th>Model:</th>                   <td>OLS</td>       <th>  Adj. R-squared:    </th> <td>   0.858</td>\n",
              "</tr>\n",
              "<tr>\n",
              "  <th>Method:</th>             <td>Least Squares</td>  <th>  F-statistic:       </th> <td>   58.46</td>\n",
              "</tr>\n",
              "<tr>\n",
              "  <th>Date:</th>             <td>Thu, 18 May 2023</td> <th>  Prob (F-statistic):</th> <td>2.40e-08</td>\n",
              "</tr>\n",
              "<tr>\n",
              "  <th>Time:</th>                 <td>06:08:40</td>     <th>  Log-Likelihood:    </th> <td> -71.385</td>\n",
              "</tr>\n",
              "<tr>\n",
              "  <th>No. Observations:</th>      <td>    20</td>      <th>  AIC:               </th> <td>   148.8</td>\n",
              "</tr>\n",
              "<tr>\n",
              "  <th>Df Residuals:</th>          <td>    17</td>      <th>  BIC:               </th> <td>   151.8</td>\n",
              "</tr>\n",
              "<tr>\n",
              "  <th>Df Model:</th>              <td>     2</td>      <th>                     </th>     <td> </td>   \n",
              "</tr>\n",
              "<tr>\n",
              "  <th>Covariance Type:</th>      <td>nonrobust</td>    <th>                     </th>     <td> </td>   \n",
              "</tr>\n",
              "</table>\n",
              "<table class=\"simpletable\">\n",
              "<tr>\n",
              "      <td></td>         <th>coef</th>     <th>std err</th>      <th>t</th>      <th>P>|t|</th>  <th>[0.025</th>    <th>0.975]</th>  \n",
              "</tr>\n",
              "<tr>\n",
              "  <th>Intercept</th> <td>  -18.2881</td> <td>    9.341</td> <td>   -1.958</td> <td> 0.067</td> <td>  -37.995</td> <td>    1.419</td>\n",
              "</tr>\n",
              "<tr>\n",
              "  <th>Wind</th>      <td>    3.9792</td> <td>    1.969</td> <td>    2.021</td> <td> 0.059</td> <td>   -0.175</td> <td>    8.133</td>\n",
              "</tr>\n",
              "<tr>\n",
              "  <th>GHI</th>       <td>   55.7980</td> <td>    5.224</td> <td>   10.681</td> <td> 0.000</td> <td>   44.777</td> <td>   66.819</td>\n",
              "</tr>\n",
              "</table>\n",
              "<table class=\"simpletable\">\n",
              "<tr>\n",
              "  <th>Omnibus:</th>       <td> 2.942</td> <th>  Durbin-Watson:     </th> <td>   1.613</td>\n",
              "</tr>\n",
              "<tr>\n",
              "  <th>Prob(Omnibus):</th> <td> 0.230</td> <th>  Jarque-Bera (JB):  </th> <td>   2.044</td>\n",
              "</tr>\n",
              "<tr>\n",
              "  <th>Skew:</th>          <td>-0.780</td> <th>  Prob(JB):          </th> <td>   0.360</td>\n",
              "</tr>\n",
              "<tr>\n",
              "  <th>Kurtosis:</th>      <td> 2.859</td> <th>  Cond. No.          </th> <td>    16.3</td>\n",
              "</tr>\n",
              "</table><br/><br/>Notes:<br/>[1] Standard Errors assume that the covariance matrix of the errors is correctly specified."
            ]
          },
          "metadata": {},
          "execution_count": 22
        }
      ]
    },
    {
      "cell_type": "markdown",
      "source": [
        "명령어 statsmodels.formula.api.ols 를 이용하여 회귀분석을 실시한다. 명령문에서 괄호 안은 회귀식, 사용할 자료명 순이다. ‘~’ 기호 앞의 변수는 종속변수, 기호 뒤의 변수들은 독립변수이다. 두 개 이상의 종속변수가 필요한 경우 ‘+’ 기호를 사용하여 추가한다. 위의 식은 태양광 발전량(Power)에 대한 풍속(Wind)과 일사량(GHI)의 영향을 알기 위한 식이다. 사용하는 자료 x 안에 식에 사용되는 변수 Power, Wind, GHI가 포함되어 있어야 한다. .summary 명령어를 이용하면 회귀분석의 정리된 결과를 볼 수 있다.  \n",
        "위 결과에 의할 때 태양광 발전량에 대한 풍속, 일사량의 회귀식은  \n",
        "$\\hat{Y} = -18.288 + 3.979 X_1 + 55.798X_2$\n",
        "와 같다."
      ],
      "metadata": {
        "id": "n5Zfew2JSlpn"
      }
    },
    {
      "cell_type": "code",
      "source": [
        "## 또 다른 방법 참고\n",
        "import statsmodels.api as sm\n",
        "\n",
        "x = sm.add_constant(x)\n",
        "model2 = sm.OLS(x['Power'], x[['const', 'Wind', 'GHI']])\n",
        "results = model2.fit()\n",
        "\n",
        "print(results.summary())"
      ],
      "metadata": {
        "colab": {
          "base_uri": "https://localhost:8080/"
        },
        "id": "t3XV0i-md73v",
        "outputId": "7fa15dc7-d812-4031-eeed-e64c755aede1"
      },
      "execution_count": 20,
      "outputs": [
        {
          "output_type": "stream",
          "name": "stdout",
          "text": [
            "                            OLS Regression Results                            \n",
            "==============================================================================\n",
            "Dep. Variable:                  Power   R-squared:                       0.873\n",
            "Model:                            OLS   Adj. R-squared:                  0.858\n",
            "Method:                 Least Squares   F-statistic:                     58.46\n",
            "Date:                Thu, 18 May 2023   Prob (F-statistic):           2.40e-08\n",
            "Time:                        06:06:44   Log-Likelihood:                -71.385\n",
            "No. Observations:                  20   AIC:                             148.8\n",
            "Df Residuals:                      17   BIC:                             151.8\n",
            "Df Model:                           2                                         \n",
            "Covariance Type:            nonrobust                                         \n",
            "==============================================================================\n",
            "                 coef    std err          t      P>|t|      [0.025      0.975]\n",
            "------------------------------------------------------------------------------\n",
            "const        -18.2881      9.341     -1.958      0.067     -37.995       1.419\n",
            "Wind           3.9792      1.969      2.021      0.059      -0.175       8.133\n",
            "GHI           55.7980      5.224     10.681      0.000      44.777      66.819\n",
            "==============================================================================\n",
            "Omnibus:                        2.942   Durbin-Watson:                   1.613\n",
            "Prob(Omnibus):                  0.230   Jarque-Bera (JB):                2.044\n",
            "Skew:                          -0.780   Prob(JB):                        0.360\n",
            "Kurtosis:                       2.859   Cond. No.                         16.3\n",
            "==============================================================================\n",
            "\n",
            "Notes:\n",
            "[1] Standard Errors assume that the covariance matrix of the errors is correctly specified.\n"
          ]
        }
      ]
    },
    {
      "cell_type": "code",
      "source": [
        "import statsmodels.api as sm\n",
        "\n",
        "anova_table = sm.stats.anova_lm(model)\n",
        "\n",
        "print(anova_table)"
      ],
      "metadata": {
        "id": "wTx1rr9_8yMd",
        "colab": {
          "base_uri": "https://localhost:8080/"
        },
        "outputId": "3416a84c-ca93-419a-acb4-ff96e0d90382"
      },
      "execution_count": 23,
      "outputs": [
        {
          "output_type": "stream",
          "name": "stdout",
          "text": [
            "            df       sum_sq      mean_sq           F        PR(>F)\n",
            "Wind       1.0   244.741273   244.741273    2.820781  1.113341e-01\n",
            "GHI        1.0  9899.138750  9899.138750  114.093163  5.841573e-09\n",
            "Residual  17.0  1474.981977    86.763646         NaN           NaN\n"
          ]
        }
      ]
    },
    {
      "cell_type": "markdown",
      "source": [
        "위와같이 sm.stats.anova_lm 함수를 통해 분산분석표를 확인할 수 있다."
      ],
      "metadata": {
        "id": "Ynrwe885Swvg"
      }
    },
    {
      "cell_type": "code",
      "source": [
        "model.fittedvalues"
      ],
      "metadata": {
        "colab": {
          "base_uri": "https://localhost:8080/"
        },
        "id": "dAlNtj2XeyL5",
        "outputId": "214dd98e-82cc-497a-fefb-32c6fd4ccf5b"
      },
      "execution_count": 24,
      "outputs": [
        {
          "output_type": "execute_result",
          "data": {
            "text/plain": [
              "0      55.900832\n",
              "1      88.190353\n",
              "2      83.570925\n",
              "3      62.523272\n",
              "4      89.466375\n",
              "5      84.924741\n",
              "6      73.596131\n",
              "7      98.298365\n",
              "8      57.432606\n",
              "9      27.686181\n",
              "10     69.548105\n",
              "11     66.904845\n",
              "12     85.560515\n",
              "13     40.610938\n",
              "14     63.954882\n",
              "15     95.919805\n",
              "16    101.728514\n",
              "17     84.686885\n",
              "18     60.533682\n",
              "19     16.362045\n",
              "dtype: float64"
            ]
          },
          "metadata": {},
          "execution_count": 24
        }
      ]
    },
    {
      "cell_type": "code",
      "source": [
        "model.resid"
      ],
      "metadata": {
        "colab": {
          "base_uri": "https://localhost:8080/"
        },
        "id": "UvBv8d2DeyDs",
        "outputId": "3cc4276d-62b9-4a4b-9e64-30d1df8ed474"
      },
      "execution_count": 25,
      "outputs": [
        {
          "output_type": "execute_result",
          "data": {
            "text/plain": [
              "0      0.399168\n",
              "1      5.909647\n",
              "2      9.029075\n",
              "3    -10.323272\n",
              "4      6.533625\n",
              "5      7.075259\n",
              "6      0.903869\n",
              "7     -2.998365\n",
              "8      5.167394\n",
              "9      8.613819\n",
              "10     3.151895\n",
              "11   -17.004845\n",
              "12    -2.160515\n",
              "13   -19.310938\n",
              "14   -12.054882\n",
              "15     2.380195\n",
              "16    -2.528514\n",
              "17     4.613115\n",
              "18    -1.233682\n",
              "19    13.837955\n",
              "dtype: float64"
            ]
          },
          "metadata": {},
          "execution_count": 25
        }
      ]
    },
    {
      "cell_type": "markdown",
      "source": [
        "model에 저장된 회귀분석 결과값 중 적합값과 잔차를 따로 살펴볼 수 있다."
      ],
      "metadata": {
        "id": "Ui3BFSgKe6Fs"
      }
    }
  ]
}