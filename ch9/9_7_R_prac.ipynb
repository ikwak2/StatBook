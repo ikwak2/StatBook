{
  "nbformat": 4,
  "nbformat_minor": 0,
  "metadata": {
    "colab": {
      "provenance": [],
      "authorship_tag": "ABX9TyPcRZw9LV8wIQDfR/Cn3GHj",
      "include_colab_link": true
    },
    "kernelspec": {
      "name": "ir",
      "display_name": "R"
    },
    "language_info": {
      "name": "R"
    }
  },
  "cells": [
    {
      "cell_type": "markdown",
      "metadata": {
        "id": "view-in-github",
        "colab_type": "text"
      },
      "source": [
        "<a href=\"https://colab.research.google.com/github/ikwak2/StatBook/blob/main/ch9/9_7_R_prac.ipynb\" target=\"_parent\"><img src=\"https://colab.research.google.com/assets/colab-badge.svg\" alt=\"Open In Colab\"/></a>"
      ]
    },
    {
      "cell_type": "markdown",
      "source": [
        "# 9.7 R 연습\n",
        "\n",
        "9.6 엑셀 연습과 마찬가지로 [표 10-1]에 주어진 자료를 이용하여 회귀분석을 실시한다.\n",
        "\n",
        "## 자료 입력 "
      ],
      "metadata": {
        "id": "DLO0E2f_1PeI"
      }
    },
    {
      "cell_type": "code",
      "source": [
        "## 현재 폴더로 예제파일 ex9.csv 파일을 다운받습니다. \n",
        "system(\"wget https://raw.githubusercontent.com/ikwak2/StatBook/main/ch9/ex9.csv\")"
      ],
      "metadata": {
        "id": "GpzuAcpBM5Me"
      },
      "execution_count": 1,
      "outputs": []
    },
    {
      "cell_type": "code",
      "source": [
        "x<-read.csv(\"ex9.csv\",header=T)\n",
        "x"
      ],
      "metadata": {
        "colab": {
          "base_uri": "https://localhost:8080/",
          "height": 725
        },
        "id": "48RtOhxS9yvF",
        "outputId": "0573c0fa-0cd8-4a11-fe5e-63333e38885e"
      },
      "execution_count": 3,
      "outputs": [
        {
          "output_type": "display_data",
          "data": {
            "text/html": [
              "<table class=\"dataframe\">\n",
              "<caption>A data.frame: 20 × 4</caption>\n",
              "<thead>\n",
              "\t<tr><th scope=col>Day</th><th scope=col>Wind</th><th scope=col>GHI</th><th scope=col>Power</th></tr>\n",
              "\t<tr><th scope=col>&lt;int&gt;</th><th scope=col>&lt;dbl&gt;</th><th scope=col>&lt;dbl&gt;</th><th scope=col>&lt;dbl&gt;</th></tr>\n",
              "</thead>\n",
              "<tbody>\n",
              "\t<tr><td> 1</td><td>3.5</td><td>1.08</td><td>56.3</td></tr>\n",
              "\t<tr><td> 2</td><td>2.5</td><td>1.73</td><td>94.1</td></tr>\n",
              "\t<tr><td> 3</td><td>1.9</td><td>1.69</td><td>92.6</td></tr>\n",
              "\t<tr><td> 4</td><td>2.5</td><td>1.27</td><td>52.2</td></tr>\n",
              "\t<tr><td> 5</td><td>2.4</td><td>1.76</td><td>96.0</td></tr>\n",
              "\t<tr><td> 6</td><td>2.1</td><td>1.70</td><td>92.0</td></tr>\n",
              "\t<tr><td> 7</td><td>3.6</td><td>1.39</td><td>74.5</td></tr>\n",
              "\t<tr><td> 8</td><td>4.9</td><td>1.74</td><td>95.3</td></tr>\n",
              "\t<tr><td> 9</td><td>0.8</td><td>1.30</td><td>62.6</td></tr>\n",
              "\t<tr><td>10</td><td>3.0</td><td>0.61</td><td>36.3</td></tr>\n",
              "\t<tr><td>11</td><td>0.9</td><td>1.51</td><td>72.7</td></tr>\n",
              "\t<tr><td>12</td><td>2.9</td><td>1.32</td><td>49.9</td></tr>\n",
              "\t<tr><td>13</td><td>2.4</td><td>1.69</td><td>83.4</td></tr>\n",
              "\t<tr><td>14</td><td>1.2</td><td>0.97</td><td>21.3</td></tr>\n",
              "\t<tr><td>15</td><td>3.0</td><td>1.26</td><td>51.9</td></tr>\n",
              "\t<tr><td>16</td><td>2.9</td><td>1.84</td><td>98.3</td></tr>\n",
              "\t<tr><td>17</td><td>4.5</td><td>1.83</td><td>99.2</td></tr>\n",
              "\t<tr><td>18</td><td>1.9</td><td>1.71</td><td>89.3</td></tr>\n",
              "\t<tr><td>19</td><td>2.0</td><td>1.27</td><td>59.3</td></tr>\n",
              "\t<tr><td>20</td><td>3.8</td><td>0.35</td><td>30.2</td></tr>\n",
              "</tbody>\n",
              "</table>\n"
            ],
            "text/markdown": "\nA data.frame: 20 × 4\n\n| Day &lt;int&gt; | Wind &lt;dbl&gt; | GHI &lt;dbl&gt; | Power &lt;dbl&gt; |\n|---|---|---|---|\n|  1 | 3.5 | 1.08 | 56.3 |\n|  2 | 2.5 | 1.73 | 94.1 |\n|  3 | 1.9 | 1.69 | 92.6 |\n|  4 | 2.5 | 1.27 | 52.2 |\n|  5 | 2.4 | 1.76 | 96.0 |\n|  6 | 2.1 | 1.70 | 92.0 |\n|  7 | 3.6 | 1.39 | 74.5 |\n|  8 | 4.9 | 1.74 | 95.3 |\n|  9 | 0.8 | 1.30 | 62.6 |\n| 10 | 3.0 | 0.61 | 36.3 |\n| 11 | 0.9 | 1.51 | 72.7 |\n| 12 | 2.9 | 1.32 | 49.9 |\n| 13 | 2.4 | 1.69 | 83.4 |\n| 14 | 1.2 | 0.97 | 21.3 |\n| 15 | 3.0 | 1.26 | 51.9 |\n| 16 | 2.9 | 1.84 | 98.3 |\n| 17 | 4.5 | 1.83 | 99.2 |\n| 18 | 1.9 | 1.71 | 89.3 |\n| 19 | 2.0 | 1.27 | 59.3 |\n| 20 | 3.8 | 0.35 | 30.2 |\n\n",
            "text/latex": "A data.frame: 20 × 4\n\\begin{tabular}{llll}\n Day & Wind & GHI & Power\\\\\n <int> & <dbl> & <dbl> & <dbl>\\\\\n\\hline\n\t  1 & 3.5 & 1.08 & 56.3\\\\\n\t  2 & 2.5 & 1.73 & 94.1\\\\\n\t  3 & 1.9 & 1.69 & 92.6\\\\\n\t  4 & 2.5 & 1.27 & 52.2\\\\\n\t  5 & 2.4 & 1.76 & 96.0\\\\\n\t  6 & 2.1 & 1.70 & 92.0\\\\\n\t  7 & 3.6 & 1.39 & 74.5\\\\\n\t  8 & 4.9 & 1.74 & 95.3\\\\\n\t  9 & 0.8 & 1.30 & 62.6\\\\\n\t 10 & 3.0 & 0.61 & 36.3\\\\\n\t 11 & 0.9 & 1.51 & 72.7\\\\\n\t 12 & 2.9 & 1.32 & 49.9\\\\\n\t 13 & 2.4 & 1.69 & 83.4\\\\\n\t 14 & 1.2 & 0.97 & 21.3\\\\\n\t 15 & 3.0 & 1.26 & 51.9\\\\\n\t 16 & 2.9 & 1.84 & 98.3\\\\\n\t 17 & 4.5 & 1.83 & 99.2\\\\\n\t 18 & 1.9 & 1.71 & 89.3\\\\\n\t 19 & 2.0 & 1.27 & 59.3\\\\\n\t 20 & 3.8 & 0.35 & 30.2\\\\\n\\end{tabular}\n",
            "text/plain": [
              "   Day Wind GHI  Power\n",
              "1   1  3.5  1.08 56.3 \n",
              "2   2  2.5  1.73 94.1 \n",
              "3   3  1.9  1.69 92.6 \n",
              "4   4  2.5  1.27 52.2 \n",
              "5   5  2.4  1.76 96.0 \n",
              "6   6  2.1  1.70 92.0 \n",
              "7   7  3.6  1.39 74.5 \n",
              "8   8  4.9  1.74 95.3 \n",
              "9   9  0.8  1.30 62.6 \n",
              "10 10  3.0  0.61 36.3 \n",
              "11 11  0.9  1.51 72.7 \n",
              "12 12  2.9  1.32 49.9 \n",
              "13 13  2.4  1.69 83.4 \n",
              "14 14  1.2  0.97 21.3 \n",
              "15 15  3.0  1.26 51.9 \n",
              "16 16  2.9  1.84 98.3 \n",
              "17 17  4.5  1.83 99.2 \n",
              "18 18  1.9  1.71 89.3 \n",
              "19 19  2.0  1.27 59.3 \n",
              "20 20  3.8  0.35 30.2 "
            ]
          },
          "metadata": {}
        }
      ]
    },
    {
      "cell_type": "markdown",
      "source": [
        "read.csv 명령어를 이용하여 ex9 파일을 x에 저장한다. 첫 번째 변수 Wind는 풍속, 두 번째 변수 GHI는 일사량, 세 번째 변수 Power은 태양광 발전량이다."
      ],
      "metadata": {
        "id": "sPtgwOHaDc5R"
      }
    },
    {
      "cell_type": "markdown",
      "source": [
        "## 일사량과 태양광 발전량의 산포도 구하기"
      ],
      "metadata": {
        "id": "XXdwEDIXOT_8"
      }
    },
    {
      "cell_type": "code",
      "source": [
        "plot(x$GHI, x$Power, xlab = \"일사량\", ylab = \"태양광 발전량\")"
      ],
      "metadata": {
        "colab": {
          "base_uri": "https://localhost:8080/",
          "height": 437
        },
        "id": "bKMIXpJxOWVh",
        "outputId": "56de5cd3-857e-4f0a-92a6-e3a5697d05be"
      },
      "execution_count": 4,
      "outputs": [
        {
          "output_type": "display_data",
          "data": {
            "text/plain": [
              "plot without title"
            ],
            "image/png": "[encoded data removed]"
          },
          "metadata": {
            "image/png": {
              "width": 420,
              "height": 420
            }
          }
        }
      ]
    },
    {
      "cell_type": "markdown",
      "source": [
        "## 풍속과 태양광 발전량, 일사량과 태양광 발전량의 상관계수\n",
        "### 풍속과 태양광 발전량의 상관계수"
      ],
      "metadata": {
        "id": "CCOK9qgb1hNA"
      }
    },
    {
      "cell_type": "code",
      "execution_count": 5,
      "metadata": {
        "colab": {
          "base_uri": "https://localhost:8080/",
          "height": 34
        },
        "id": "cTj_m6oa09dS",
        "outputId": "d705bd44-51b4-449c-8e76-e2f3a3286669"
      },
      "outputs": [
        {
          "output_type": "display_data",
          "data": {
            "text/html": [
              "0.145134884256152"
            ],
            "text/markdown": "0.145134884256152",
            "text/latex": "0.145134884256152",
            "text/plain": [
              "[1] 0.1451349"
            ]
          },
          "metadata": {}
        }
      ],
      "source": [
        "cor(x$Wind, x$Power)"
      ]
    },
    {
      "cell_type": "markdown",
      "source": [
        "### 일사량과 태양광 발전량의 상관계수"
      ],
      "metadata": {
        "id": "yhrxuKRWDk5b"
      }
    },
    {
      "cell_type": "code",
      "source": [
        "cor(x$GHI, x$Power)"
      ],
      "metadata": {
        "colab": {
          "base_uri": "https://localhost:8080/",
          "height": 34
        },
        "id": "ZZ9J1HvSOjnF",
        "outputId": "e7045112-188d-4be3-e579-e24abefcfd74"
      },
      "execution_count": 6,
      "outputs": [
        {
          "output_type": "display_data",
          "data": {
            "text/html": [
              "0.917905530018548"
            ],
            "text/markdown": "0.917905530018548",
            "text/latex": "0.917905530018548",
            "text/plain": [
              "[1] 0.9179055"
            ]
          },
          "metadata": {}
        }
      ]
    },
    {
      "cell_type": "markdown",
      "source": [
        "## 회귀분석"
      ],
      "metadata": {
        "id": "6Ah_Sl1VEAV3"
      }
    },
    {
      "cell_type": "code",
      "source": [
        "ex.9<-lm(Power ~ Wind + GHI, data = x)\n",
        "summary(ex.9)"
      ],
      "metadata": {
        "colab": {
          "base_uri": "https://localhost:8080/",
          "height": 366
        },
        "id": "KT9pLTDNOp6s",
        "outputId": "d1662098-51e5-4d65-b549-42d176f69a35"
      },
      "execution_count": 7,
      "outputs": [
        {
          "output_type": "display_data",
          "data": {
            "text/plain": [
              "\n",
              "Call:\n",
              "lm(formula = Power ~ Wind + GHI, data = x)\n",
              "\n",
              "Residuals:\n",
              "    Min      1Q  Median      3Q     Max \n",
              "-19.311  -2.646   1.642   6.066  13.838 \n",
              "\n",
              "Coefficients:\n",
              "            Estimate Std. Error t value Pr(>|t|)    \n",
              "(Intercept)  -18.288      9.341  -1.958   0.0669 .  \n",
              "Wind           3.979      1.969   2.021   0.0593 .  \n",
              "GHI           55.798      5.224  10.681 5.84e-09 ***\n",
              "---\n",
              "Signif. codes:  0 ‘***’ 0.001 ‘**’ 0.01 ‘*’ 0.05 ‘.’ 0.1 ‘ ’ 1\n",
              "\n",
              "Residual standard error: 9.315 on 17 degrees of freedom\n",
              "Multiple R-squared:  0.8731,\tAdjusted R-squared:  0.8581 \n",
              "F-statistic: 58.46 on 2 and 17 DF,  p-value: 2.403e-08\n"
            ]
          },
          "metadata": {}
        }
      ]
    },
    {
      "cell_type": "markdown",
      "source": [
        "R에서 기본으로 제공하는 명령어 lm를 이용하여 회귀분석을 실시한다. 명령문에서 괄호 안은 회귀식, 사용할 자료명 순이다. ‘~’ 기호 앞의 변수는 종속변수, 기호 뒤의 변수들은 독립변수이다. 두 개 이상의 종속변수가 필요한 경우 ‘+’ 기호를 사용하여 추가한다. 위의 식은 태양광 발전량(Power)에 대한 풍속(Wind)과 일사량(GHI)의 영향을 알기 위한 식이다. 사용하는 자료 x 안에 식에 사용되는 변수 Power, Wind, GHI가 포함되어 있어야 한다. summary 명령어를 이용하면 회귀분석의 정리된 결과를 볼 수 있다.  \n",
        "위 결과에 의할 때 태양광 발전량에 대한 풍속, 일사량의 회귀식은  \n",
        "$\\hat{Y} = -18.288 + 3.979 X_1 + 55.798X_2$\n",
        "와 같다."
      ],
      "metadata": {
        "id": "8Z9AaSzVO0ui"
      }
    },
    {
      "cell_type": "code",
      "source": [
        "anova(ex.9)"
      ],
      "metadata": {
        "colab": {
          "base_uri": "https://localhost:8080/",
          "height": 192
        },
        "id": "5GCXPWRQPBi_",
        "outputId": "6796e5e6-10e6-48f7-9b36-8a333dd9634b"
      },
      "execution_count": 9,
      "outputs": [
        {
          "output_type": "display_data",
          "data": {
            "text/html": [
              "<table class=\"dataframe\">\n",
              "<caption>A anova: 3 × 5</caption>\n",
              "<thead>\n",
              "\t<tr><th></th><th scope=col>Df</th><th scope=col>Sum Sq</th><th scope=col>Mean Sq</th><th scope=col>F value</th><th scope=col>Pr(&gt;F)</th></tr>\n",
              "\t<tr><th></th><th scope=col>&lt;int&gt;</th><th scope=col>&lt;dbl&gt;</th><th scope=col>&lt;dbl&gt;</th><th scope=col>&lt;dbl&gt;</th><th scope=col>&lt;dbl&gt;</th></tr>\n",
              "</thead>\n",
              "<tbody>\n",
              "\t<tr><th scope=row>Wind</th><td> 1</td><td> 244.7413</td><td> 244.74127</td><td>  2.820781</td><td>1.113341e-01</td></tr>\n",
              "\t<tr><th scope=row>GHI</th><td> 1</td><td>9899.1387</td><td>9899.13875</td><td>114.093163</td><td>5.841573e-09</td></tr>\n",
              "\t<tr><th scope=row>Residuals</th><td>17</td><td>1474.9820</td><td>  86.76365</td><td>        NA</td><td>          NA</td></tr>\n",
              "</tbody>\n",
              "</table>\n"
            ],
            "text/markdown": "\nA anova: 3 × 5\n\n| <!--/--> | Df &lt;int&gt; | Sum Sq &lt;dbl&gt; | Mean Sq &lt;dbl&gt; | F value &lt;dbl&gt; | Pr(&gt;F) &lt;dbl&gt; |\n|---|---|---|---|---|---|\n| Wind |  1 |  244.7413 |  244.74127 |   2.820781 | 1.113341e-01 |\n| GHI |  1 | 9899.1387 | 9899.13875 | 114.093163 | 5.841573e-09 |\n| Residuals | 17 | 1474.9820 |   86.76365 |         NA |           NA |\n\n",
            "text/latex": "A anova: 3 × 5\n\\begin{tabular}{r|lllll}\n  & Df & Sum Sq & Mean Sq & F value & Pr(>F)\\\\\n  & <int> & <dbl> & <dbl> & <dbl> & <dbl>\\\\\n\\hline\n\tWind &  1 &  244.7413 &  244.74127 &   2.820781 & 1.113341e-01\\\\\n\tGHI &  1 & 9899.1387 & 9899.13875 & 114.093163 & 5.841573e-09\\\\\n\tResiduals & 17 & 1474.9820 &   86.76365 &         NA &           NA\\\\\n\\end{tabular}\n",
            "text/plain": [
              "          Df Sum Sq    Mean Sq    F value    Pr(>F)      \n",
              "Wind       1  244.7413  244.74127   2.820781 1.113341e-01\n",
              "GHI        1 9899.1387 9899.13875 114.093163 5.841573e-09\n",
              "Residuals 17 1474.9820   86.76365         NA           NA"
            ]
          },
          "metadata": {}
        }
      ]
    },
    {
      "cell_type": "markdown",
      "source": [
        "anova 함수에 저장된 회귀식을 입력하면 분산분석표를 확인할 수 있다."
      ],
      "metadata": {
        "id": "Xvyst7M8PGbg"
      }
    },
    {
      "cell_type": "code",
      "source": [
        "ex.9$fitted.values\n",
        "ex.9$residuals"
      ],
      "metadata": {
        "colab": {
          "base_uri": "https://localhost:8080/",
          "height": 121
        },
        "id": "X-4UO5xcPINl",
        "outputId": "4197e0bf-d415-4765-ada8-e1d50a5b59ba"
      },
      "execution_count": 10,
      "outputs": [
        {
          "output_type": "display_data",
          "data": {
            "text/html": [
              "<style>\n",
              ".dl-inline {width: auto; margin:0; padding: 0}\n",
              ".dl-inline>dt, .dl-inline>dd {float: none; width: auto; display: inline-block}\n",
              ".dl-inline>dt::after {content: \":\\0020\"; padding-right: .5ex}\n",
              ".dl-inline>dt:not(:first-of-type) {padding-left: .5ex}\n",
              "</style><dl class=dl-inline><dt>1</dt><dd>55.9008321959475</dd><dt>2</dt><dd>88.190353269839</dd><dt>3</dt><dd>83.5709251569041</dd><dt>4</dt><dd>62.5232724597363</dd><dt>5</dt><dd>89.4663753155899</dd><dt>6</dt><dd>84.9247411886787</dd><dt>7</dt><dd>73.596130748968</dd><dt>8</dt><dd>98.2983654574147</dd><dt>9</dt><dd>57.4326063921774</dd><dt>10</dt><dd>27.6861813328245</dd><dt>11</dt><dd>69.5481047690887</dd><dt>12</dt><dd>66.9048445761184</dd><dt>13</dt><dd>85.5605151923134</dd><dt>14</dt><dd>40.6109378393442</dd><dt>15</dt><dd>63.9548824775347</dd><dt>16</dt><dd>95.9198054918866</dd><dt>17</dt><dd>101.728513587586</dd><dt>18</dt><dd>84.6868851921259</dd><dt>19</dt><dd>60.533682424327</dd><dt>20</dt><dd>16.3620449315953</dd></dl>\n"
            ],
            "text/markdown": "1\n:   55.90083219594752\n:   88.1903532698393\n:   83.57092515690414\n:   62.52327245973635\n:   89.46637531558996\n:   84.92474118867877\n:   73.5961307489688\n:   98.29836545741479\n:   57.432606392177410\n:   27.686181332824511\n:   69.548104769088712\n:   66.904844576118413\n:   85.560515192313414\n:   40.610937839344215\n:   63.954882477534716\n:   95.919805491886617\n:   101.72851358758618\n:   84.686885192125919\n:   60.53368242432720\n:   16.3620449315953\n\n",
            "text/latex": "\\begin{description*}\n\\item[1] 55.9008321959475\n\\item[2] 88.190353269839\n\\item[3] 83.5709251569041\n\\item[4] 62.5232724597363\n\\item[5] 89.4663753155899\n\\item[6] 84.9247411886787\n\\item[7] 73.596130748968\n\\item[8] 98.2983654574147\n\\item[9] 57.4326063921774\n\\item[10] 27.6861813328245\n\\item[11] 69.5481047690887\n\\item[12] 66.9048445761184\n\\item[13] 85.5605151923134\n\\item[14] 40.6109378393442\n\\item[15] 63.9548824775347\n\\item[16] 95.9198054918866\n\\item[17] 101.728513587586\n\\item[18] 84.6868851921259\n\\item[19] 60.533682424327\n\\item[20] 16.3620449315953\n\\end{description*}\n",
            "text/plain": [
              "        1         2         3         4         5         6         7         8 \n",
              " 55.90083  88.19035  83.57093  62.52327  89.46638  84.92474  73.59613  98.29837 \n",
              "        9        10        11        12        13        14        15        16 \n",
              " 57.43261  27.68618  69.54810  66.90484  85.56052  40.61094  63.95488  95.91981 \n",
              "       17        18        19        20 \n",
              "101.72851  84.68689  60.53368  16.36204 "
            ]
          },
          "metadata": {}
        },
        {
          "output_type": "display_data",
          "data": {
            "text/html": [
              "<style>\n",
              ".dl-inline {width: auto; margin:0; padding: 0}\n",
              ".dl-inline>dt, .dl-inline>dd {float: none; width: auto; display: inline-block}\n",
              ".dl-inline>dt::after {content: \":\\0020\"; padding-right: .5ex}\n",
              ".dl-inline>dt:not(:first-of-type) {padding-left: .5ex}\n",
              "</style><dl class=dl-inline><dt>1</dt><dd>0.399167804052548</dd><dt>2</dt><dd>5.90964673016101</dd><dt>3</dt><dd>9.02907484309593</dd><dt>4</dt><dd>-10.3232724597363</dd><dt>5</dt><dd>6.53362468441011</dd><dt>6</dt><dd>7.07525881132128</dd><dt>7</dt><dd>0.903869251032009</dd><dt>8</dt><dd>-2.99836545741471</dd><dt>9</dt><dd>5.16739360782263</dd><dt>10</dt><dd>8.61381866717551</dd><dt>11</dt><dd>3.1518952309113</dd><dt>12</dt><dd>-17.0048445761184</dd><dt>13</dt><dd>-2.16051519231339</dd><dt>14</dt><dd>-19.3109378393442</dd><dt>15</dt><dd>-12.0548824775347</dd><dt>16</dt><dd>2.38019450811335</dd><dt>17</dt><dd>-2.52851358758558</dd><dt>18</dt><dd>4.61311480787409</dd><dt>19</dt><dd>-1.233682424327</dd><dt>20</dt><dd>13.8379550684047</dd></dl>\n"
            ],
            "text/markdown": "1\n:   0.3991678040525482\n:   5.909646730161013\n:   9.029074843095934\n:   -10.32327245973635\n:   6.533624684410116\n:   7.075258811321287\n:   0.9038692510320098\n:   -2.998365457414719\n:   5.1673936078226310\n:   8.6138186671755111\n:   3.151895230911312\n:   -17.004844576118413\n:   -2.1605151923133914\n:   -19.310937839344215\n:   -12.054882477534716\n:   2.3801945081133517\n:   -2.5285135875855818\n:   4.6131148078740919\n:   -1.23368242432720\n:   13.8379550684047\n\n",
            "text/latex": "\\begin{description*}\n\\item[1] 0.399167804052548\n\\item[2] 5.90964673016101\n\\item[3] 9.02907484309593\n\\item[4] -10.3232724597363\n\\item[5] 6.53362468441011\n\\item[6] 7.07525881132128\n\\item[7] 0.903869251032009\n\\item[8] -2.99836545741471\n\\item[9] 5.16739360782263\n\\item[10] 8.61381866717551\n\\item[11] 3.1518952309113\n\\item[12] -17.0048445761184\n\\item[13] -2.16051519231339\n\\item[14] -19.3109378393442\n\\item[15] -12.0548824775347\n\\item[16] 2.38019450811335\n\\item[17] -2.52851358758558\n\\item[18] 4.61311480787409\n\\item[19] -1.233682424327\n\\item[20] 13.8379550684047\n\\end{description*}\n",
            "text/plain": [
              "          1           2           3           4           5           6 \n",
              "  0.3991678   5.9096467   9.0290748 -10.3232725   6.5336247   7.0752588 \n",
              "          7           8           9          10          11          12 \n",
              "  0.9038693  -2.9983655   5.1673936   8.6138187   3.1518952 -17.0048446 \n",
              "         13          14          15          16          17          18 \n",
              " -2.1605152 -19.3109378 -12.0548825   2.3801945  -2.5285136   4.6131148 \n",
              "         19          20 \n",
              " -1.2336824  13.8379551 "
            ]
          },
          "metadata": {}
        }
      ]
    },
    {
      "cell_type": "markdown",
      "source": [
        "ex.9에 저장된 회귀분석 결과값 중 적합값과 잔차를 따로 살펴볼 수 있다."
      ],
      "metadata": {
        "id": "_shLUIVfPH-t"
      }
    }
  ]
}