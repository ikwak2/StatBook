{
  "nbformat": 4,
  "nbformat_minor": 0,
  "metadata": {
    "colab": {
      "provenance": [],
      "authorship_tag": "ABX9TyNH1d+QgSvZ99Ceq4b1Mztn",
      "include_colab_link": true
    },
    "kernelspec": {
      "name": "ir",
      "display_name": "R"
    },
    "language_info": {
      "name": "R"
    }
  },
  "cells": [
    {
      "cell_type": "markdown",
      "metadata": {
        "id": "view-in-github",
        "colab_type": "text"
      },
      "source": [
        "<a href=\"https://colab.research.google.com/github/ikwak2/StatBook/blob/main/ch4/4_9_R_prac.ipynb\" target=\"_parent\"><img src=\"https://colab.research.google.com/assets/colab-badge.svg\" alt=\"Open In Colab\"/></a>"
      ]
    },
    {
      "cell_type": "markdown",
      "source": [
        "# 4.9 R 연습\n",
        "\n",
        "## 상품권 금액의 평균과 분산\n",
        "엑셀실습(1)에 주어진 자료를 이용해 상품권 금액의 기대가치와 분산을 구한다. \n",
        "일반적으로 실제 데이터 수치 자료가 아닐 경우에는 프로그램의 코드를 이용하여 작성한다. 이때 사용되는 명령어로는 사칙연산 명령어로서 “+”, “-”, “×”, “/”가 있으며, 합계로는 “sum”이 있다. 와 같이 거듭제곱에 대하여는 a∧b(또는 a**b)와 같이 입력한다."
      ],
      "metadata": {
        "id": "DLO0E2f_1PeI"
      }
    },
    {
      "cell_type": "markdown",
      "source": [
        "### 상품권 금액의 분포 \n",
        "자료의 입력은 c(수치, …, 수치)로 한다. “<-”(또는 “=”) 기호를 이용하여 지정된 변수(또는 데이터셋)에 입력한다."
      ],
      "metadata": {
        "id": "YbmXTptW1aOp"
      }
    },
    {
      "cell_type": "code",
      "source": [
        "# 데이터 입력\n",
        "x<-c(100000, 50000, 10000, 0)\n",
        "prob<-c(0.05, 0.1, 0.2, 0.65)"
      ],
      "metadata": {
        "id": "GQ_GO6C31Zxh"
      },
      "execution_count": 1,
      "outputs": []
    },
    {
      "cell_type": "markdown",
      "source": [
        "### 상품권 금액복권상금의 기대가치 E(X)\n",
        "“확률 ×금액”의 합으로 기대가치를 산출한다. 이때 “*”를 이용하여 각 수치들의 곱으로 된 데이터를 작성하며, “sum” 명령어를 사용하여 각 수치들의 총합을 구한다."
      ],
      "metadata": {
        "id": "CCOK9qgb1hNA"
      }
    },
    {
      "cell_type": "code",
      "execution_count": 2,
      "metadata": {
        "colab": {
          "base_uri": "https://localhost:8080/",
          "height": 34
        },
        "id": "cTj_m6oa09dS",
        "outputId": "1bd4339f-1b5c-4979-c8d0-27e7888ca5d1"
      },
      "outputs": [
        {
          "output_type": "display_data",
          "data": {
            "text/html": [
              "12000"
            ],
            "text/markdown": "12000",
            "text/latex": "12000",
            "text/plain": [
              "[1] 12000"
            ]
          },
          "metadata": {}
        }
      ],
      "source": [
        "mu<-sum(x*prob)\n",
        "mu\n",
        "# 위와 같이 이산형 확률변수의 기댓값 구하는 식을 입력하여 기대가치를 산출한다.\n"
      ]
    },
    {
      "cell_type": "markdown",
      "source": [
        "### 상품권 금액의 분산\n",
        "\n",
        "R에서 프로그램화하면 : var 또는 “sum((x-mu)∧2*prob)”의 명령어로 분산을 계산할 수 있다."
      ],
      "metadata": {
        "id": "_TlwGlR01qKm"
      }
    },
    {
      "cell_type": "code",
      "source": [
        "sigma2<-sum( ((x-mu)^2) * prob)\n",
        "sigma2"
      ],
      "metadata": {
        "colab": {
          "base_uri": "https://localhost:8080/",
          "height": 34
        },
        "id": "qV4IpPIN1knB",
        "outputId": "512ae290-c524-411a-8389-11fefc8e3deb"
      },
      "execution_count": 3,
      "outputs": [
        {
          "output_type": "display_data",
          "data": {
            "text/html": [
              "6.26e+08"
            ],
            "text/markdown": "6.26e+08",
            "text/latex": "6.26e+08",
            "text/plain": [
              "[1] 6.26e+08"
            ]
          },
          "metadata": {}
        }
      ]
    },
    {
      "cell_type": "markdown",
      "source": [
        "## 두 이산형 확률변수의 분산과 공분산 구하기\n",
        "엑셀실습(2) 자료를 이용해 두 이산형 변수에 대한 분산과 공분산을 구한다."
      ],
      "metadata": {
        "id": "KHZK614A8HUp"
      }
    },
    {
      "cell_type": "markdown",
      "source": [
        "### 데이터 입력\n",
        "\n"
      ],
      "metadata": {
        "id": "s7-2UH668LnJ"
      }
    },
    {
      "cell_type": "code",
      "source": [
        "data<-c(0.084, 0.167, 0.083, 0.334, 0.083, 0.083, 0.5, 0.666, 0.167, 0.25, 0.583, 1)\n",
        "# data에 입력된 수치들을 matrix 명령문을 사용하여 3개의 행을 가진(nrow=3) 행렬로 전환한다. \n",
        "mat<-matrix(data, nrow=3, byrow=TRUE)\n",
        "# matrix(데이터셋명, nrow=지정 행의 수, byrow=TRUE/FALSE)\n",
        "# byrow=TRUE(행 순으로 데이터를 채운다)/FALSE(열 순으로 데이터를 채운다, default)\n",
        "\n",
        "\n",
        "# 행렬의 행의 이름(rownames(mat))과 열의 이름(colnames(mat))을 부여한다.\n",
        "rownames(mat)<-c(\"1\",\"3\",\"합계\")\n",
        "colnames(mat)<-c(\"0\",\"1\",\"2\",\"합계\")\n",
        "mat"
      ],
      "metadata": {
        "colab": {
          "base_uri": "https://localhost:8080/",
          "height": 161
        },
        "id": "ZqTfcWTS2A14",
        "outputId": "8510d0ca-2684-4ffe-e500-78b010a547a7"
      },
      "execution_count": 5,
      "outputs": [
        {
          "output_type": "display_data",
          "data": {
            "text/html": [
              "<table class=\"dataframe\">\n",
              "<caption>A matrix: 3 × 4 of type dbl</caption>\n",
              "<thead>\n",
              "\t<tr><th></th><th scope=col>0</th><th scope=col>1</th><th scope=col>2</th><th scope=col>합계</th></tr>\n",
              "</thead>\n",
              "<tbody>\n",
              "\t<tr><th scope=row>1</th><td>0.084</td><td>0.167</td><td>0.083</td><td>0.334</td></tr>\n",
              "\t<tr><th scope=row>3</th><td>0.083</td><td>0.083</td><td>0.500</td><td>0.666</td></tr>\n",
              "\t<tr><th scope=row>합계</th><td>0.167</td><td>0.250</td><td>0.583</td><td>1.000</td></tr>\n",
              "</tbody>\n",
              "</table>\n"
            ],
            "text/markdown": "\nA matrix: 3 × 4 of type dbl\n\n| <!--/--> | 0 | 1 | 2 | 합계 |\n|---|---|---|---|---|\n| 1 | 0.084 | 0.167 | 0.083 | 0.334 |\n| 3 | 0.083 | 0.083 | 0.500 | 0.666 |\n| 합계 | 0.167 | 0.250 | 0.583 | 1.000 |\n\n",
            "text/latex": "A matrix: 3 × 4 of type dbl\n\\begin{tabular}{r|llll}\n  & 0 & 1 & 2 & 합계\\\\\n\\hline\n\t1 & 0.084 & 0.167 & 0.083 & 0.334\\\\\n\t3 & 0.083 & 0.083 & 0.500 & 0.666\\\\\n\t합계 & 0.167 & 0.250 & 0.583 & 1.000\\\\\n\\end{tabular}\n",
            "text/plain": [
              "     0     1     2     합계 \n",
              "1    0.084 0.167 0.083 0.334\n",
              "3    0.083 0.083 0.500 0.666\n",
              "합계 0.167 0.250 0.583 1.000"
            ]
          },
          "metadata": {}
        }
      ]
    },
    {
      "cell_type": "markdown",
      "source": [
        "### X와 Y의 평균\n",
        "평균, 분산, 공분산은 mat 행렬에서의 위치값을 지정하여 계산한다."
      ],
      "metadata": {
        "id": "SQYkQRXZIGuJ"
      }
    },
    {
      "cell_type": "code",
      "source": [
        "# 위와 같이 두 이산형 확률변수의 기댓값 구하는 식을 입력한다.\n",
        "# mat[a,b]는 mat라는 행렬 데이터셋에서 a행, b열 데이터를 추출함을 의미한다.\n",
        "mu_x<-1*mat[1,4]+3*mat[2,4]\n",
        "mu_y<-0*mat[3,1]+1*mat[3,2]+2*mat[3,3]\n",
        "print(mu_x)\n",
        "print(mu_y)\n"
      ],
      "metadata": {
        "colab": {
          "base_uri": "https://localhost:8080/"
        },
        "id": "djRFgMRm8U5o",
        "outputId": "138eae81-15db-468c-b136-9ce01fd16ea9"
      },
      "execution_count": 6,
      "outputs": [
        {
          "output_type": "stream",
          "name": "stdout",
          "text": [
            "[1] 2.332\n",
            "[1] 1.416\n"
          ]
        }
      ]
    },
    {
      "cell_type": "markdown",
      "source": [
        "### X와 Y의 분산 "
      ],
      "metadata": {
        "id": "pV-hhtmvJDmt"
      }
    },
    {
      "cell_type": "code",
      "source": [
        "var_x<-1^2*mat[1,4]+3^2*mat[2,4]-mu_x^2\n",
        "var_y<-0^2*mat[3,1]+1^2*mat[3,2]+2^2*mat[3,3]-mu_y^2\n",
        "# 위와 같이 두 이산형 확률변수의 분산 구하는 식을 입력한다.\n",
        "print(var_x)\n",
        "print(var_y)"
      ],
      "metadata": {
        "id": "u_dag5pYI3hN",
        "outputId": "23afea27-9e22-4a22-b93a-7ffdbaca4de9",
        "colab": {
          "base_uri": "https://localhost:8080/"
        }
      },
      "execution_count": 8,
      "outputs": [
        {
          "output_type": "stream",
          "name": "stdout",
          "text": [
            "[1] 0.889776\n",
            "[1] 0.576944\n"
          ]
        }
      ]
    },
    {
      "cell_type": "markdown",
      "source": [
        "### X와 Y의 공분산"
      ],
      "metadata": {
        "id": "pykatszs80cb"
      }
    },
    {
      "cell_type": "code",
      "source": [
        "p_xy<-c(0.167, 0.083, 0.083, 0.083, 0.5, 0.083)\n",
        "xy<-c(0, 1, 2, 0, 3, 6)\n",
        "# XY의 평균을 산출하기 위하여 위와 같이 데이터를 입력한다.\n",
        "\n",
        "cov_xy<-sum(p_xy*xy)-(mu_x*mu_y)\n",
        "# 위와 같이 공분산을 구하는 식을 입력한다.\n",
        "\n",
        "cov_xy"
      ],
      "metadata": {
        "id": "5gEp5RLA8AGj",
        "outputId": "ca08d9ba-2521-4574-ab62-a7de8d8282c8",
        "colab": {
          "base_uri": "https://localhost:8080/",
          "height": 34
        }
      },
      "execution_count": 9,
      "outputs": [
        {
          "output_type": "display_data",
          "data": {
            "text/html": [
              "-1.055112"
            ],
            "text/markdown": "-1.055112",
            "text/latex": "-1.055112",
            "text/plain": [
              "[1] -1.055112"
            ]
          },
          "metadata": {}
        }
      ]
    },
    {
      "cell_type": "code",
      "source": [],
      "metadata": {
        "id": "pzB8Hlri87EF"
      },
      "execution_count": null,
      "outputs": []
    }
  ]
}