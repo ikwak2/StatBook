{
  "nbformat": 4,
  "nbformat_minor": 0,
  "metadata": {
    "colab": {
      "provenance": [],
      "authorship_tag": "ABX9TyOugSXwTPRXTKvRR4kwpBSt",
      "include_colab_link": true
    },
    "kernelspec": {
      "name": "python3",
      "display_name": "Python 3"
    },
    "language_info": {
      "name": "python"
    }
  },
  "cells": [
    {
      "cell_type": "markdown",
      "metadata": {
        "id": "view-in-github",
        "colab_type": "text"
      },
      "source": [
        "<a href=\"https://colab.research.google.com/github/ikwak2/StatBook/blob/main/ch4/4_10_python_prac.ipynb\" target=\"_parent\"><img src=\"https://colab.research.google.com/assets/colab-badge.svg\" alt=\"Open In Colab\"/></a>"
      ]
    },
    {
      "cell_type": "markdown",
      "source": [
        "# 4.10 Python 연습\n",
        "\n",
        "## 상품권 금액의 평균과 분산\n",
        "엑셀실습(1)에 주어진 자료를 이용해 상품권 금액의 기대가치와 분산을 구한다. \n",
        "일반적으로 실제 데이터 수치 자료가 아닐 경우에는 프로그램의 코드를 이용하여 작성한다. 이때 사용되는 명령어로는 사칙연산 명령어로서 “+”, “-”, “×”, “/”가 있으며, 합계로는 “np.sum”이 있다. 와 같이 거듭제곱에 대하여는  a**b 와 같이 입력한다."
      ],
      "metadata": {
        "id": "KEqwHnBa8QRX"
      }
    },
    {
      "cell_type": "markdown",
      "source": [
        "### 상품권 금액의 분포 \n",
        "자료의 입력은 np.array([수치, …, 수치]) 로 한다. "
      ],
      "metadata": {
        "id": "oEW74hgL8d7R"
      }
    },
    {
      "cell_type": "code",
      "source": [
        "import numpy as np"
      ],
      "metadata": {
        "id": "wTx1rr9_8yMd"
      },
      "execution_count": 2,
      "outputs": []
    },
    {
      "cell_type": "code",
      "execution_count": 3,
      "metadata": {
        "id": "qwjlvxFm8GHu"
      },
      "outputs": [],
      "source": [
        "# 데이터 입력\n",
        "x = np.array([100000, 50000, 10000, 0])\n",
        "prob = np.array([0.05, 0.1, 0.2, 0.65])"
      ]
    },
    {
      "cell_type": "markdown",
      "source": [
        "### 상품권 금액복권상금의 기대가치 E(X)\n",
        "“확률 ×금액”의 합으로 기대가치를 산출한다. 이때 “*”를 이용하여 각 수치들의 곱으로 된 데이터를 작성하며, “np.sum” 명령어를 사용하여 각 수치들의 총합을 구한다."
      ],
      "metadata": {
        "id": "m1o-Okpz80jq"
      }
    },
    {
      "cell_type": "code",
      "source": [
        "mu = np.sum(x*prob)\n",
        "mu\n",
        "# 위와 같이 이산형 확률변수의 기댓값 구하는 식을 입력하여 기대가치를 산출한다."
      ],
      "metadata": {
        "colab": {
          "base_uri": "https://localhost:8080/"
        },
        "id": "YoF6ldWg8uA6",
        "outputId": "bf936ca3-830b-40dc-eb06-c48fc09dd0ef"
      },
      "execution_count": 4,
      "outputs": [
        {
          "output_type": "execute_result",
          "data": {
            "text/plain": [
              "12000.0"
            ]
          },
          "metadata": {},
          "execution_count": 4
        }
      ]
    },
    {
      "cell_type": "markdown",
      "source": [
        "### 상품권 금액의 분산\n",
        "\n",
        "Python 에서 프로그램화하면 :  $np.sum(((x-mu)**2)*prob)$의 명령어로 분산을 계산할 수 있다."
      ],
      "metadata": {
        "id": "IWvCyatZ89fs"
      }
    },
    {
      "cell_type": "code",
      "source": [
        "sigma2 = np.sum(((x-mu)**2)*prob)\n",
        "sigma2"
      ],
      "metadata": {
        "colab": {
          "base_uri": "https://localhost:8080/"
        },
        "id": "3ZuTzPVO87Ju",
        "outputId": "dfbba537-4121-4a95-afb3-17d36def3a03"
      },
      "execution_count": 7,
      "outputs": [
        {
          "output_type": "execute_result",
          "data": {
            "text/plain": [
              "626000000.0"
            ]
          },
          "metadata": {},
          "execution_count": 7
        }
      ]
    },
    {
      "cell_type": "markdown",
      "source": [
        "## 두 이산형 확률변수의 분산과 공분산 구하기\n",
        "엑셀실습(2) 자료를 이용해 두 이산형 변수에 대한 분산과 공분산을 구한다."
      ],
      "metadata": {
        "id": "jadnwQ3f9gy_"
      }
    },
    {
      "cell_type": "markdown",
      "source": [
        "### 데이터 입력"
      ],
      "metadata": {
        "id": "3bjkn28b9kAe"
      }
    },
    {
      "cell_type": "code",
      "source": [
        "data = np.array([0.084, 0.167, 0.083, 0.334, 0.083, 0.083, 0.5, 0.666, 0.167, 0.25, 0.583, 1])"
      ],
      "metadata": {
        "id": "D27Nfs039tCI"
      },
      "execution_count": 8,
      "outputs": []
    },
    {
      "cell_type": "code",
      "source": [
        "# reshape 을 이용하여 3 by 4 행렬로 만든다.\n",
        "mat = data.reshape(3,4)"
      ],
      "metadata": {
        "id": "bgdz_UEz9vNC"
      },
      "execution_count": 15,
      "outputs": []
    },
    {
      "cell_type": "code",
      "source": [
        "# pandas 이용하여 dataframe을 만든다.\n",
        "import pandas as pd\n",
        "\n",
        "mat = pd.DataFrame(data=mat,\n",
        "                   index=[\"1\", \"3\", \"합계\"],\n",
        "                   columns=[\"0\", \"1\", \"2\", \"합계\"])\n",
        "\n",
        "print(mat)"
      ],
      "metadata": {
        "colab": {
          "base_uri": "https://localhost:8080/"
        },
        "id": "unpGYiLG9_Kv",
        "outputId": "d7b7e05d-85fd-47c2-eb34-0efb7b89dcb8"
      },
      "execution_count": 16,
      "outputs": [
        {
          "output_type": "stream",
          "name": "stdout",
          "text": [
            "        0      1      2     합계\n",
            "1   0.084  0.167  0.083  0.334\n",
            "3   0.083  0.083  0.500  0.666\n",
            "합계  0.167  0.250  0.583  1.000\n"
          ]
        }
      ]
    },
    {
      "cell_type": "markdown",
      "source": [
        "### X와 Y의 평균\n",
        "평균, 분산, 공분산은 mat 행렬에서의 위치값을 지정하여 계산한다."
      ],
      "metadata": {
        "id": "oUPrf7nk-uSQ"
      }
    },
    {
      "cell_type": "code",
      "source": [
        "mu_x = 1 * mat.loc[\"1\", \"합계\"] + 3 * mat.loc[\"3\", \"합계\"]\n",
        "mu_y = 0 * mat.loc[\"합계\", \"0\"] + 1 * mat.loc[\"합계\", \"1\"] + 2 * mat.loc[\"합계\", \"2\"]\n",
        "# 위와 같이 두 이산형 확률변수의 기댓값 구하는 식을 입력한다.\n",
        "# mat.loc[a,b]는 mat라는 행렬 데이터셋에서 a행, b열 데이터를 추출함을 의미한다.\n",
        "\n",
        "print(mu_x)\n",
        "print(mu_y)"
      ],
      "metadata": {
        "colab": {
          "base_uri": "https://localhost:8080/"
        },
        "id": "CIhoaF6B-zLP",
        "outputId": "b43aeb85-652c-4775-ede9-14fc010d1a4b"
      },
      "execution_count": 17,
      "outputs": [
        {
          "output_type": "stream",
          "name": "stdout",
          "text": [
            "2.3320000000000003\n",
            "1.416\n"
          ]
        }
      ]
    },
    {
      "cell_type": "markdown",
      "source": [
        "### X와 Y의 분산 "
      ],
      "metadata": {
        "id": "MvofjLGy-uDr"
      }
    },
    {
      "cell_type": "code",
      "source": [
        "var_x = 1**2 * mat.loc[\"1\", \"합계\"] + 3**2 * mat.loc[\"3\", \"합계\"] - mu_x**2\n",
        "var_y = 0**2 * mat.loc[\"합계\", \"0\"] + 1**2 * mat.loc[\"합계\", \"1\"] + 2**2 * mat.loc[\"합계\", \"2\"] - mu_y**2\n",
        "# 위와 같이 두 이산형 확률변수의 분산 구하는 식을 입력한다.\n",
        "\n",
        "print(var_x)\n",
        "print(var_y)"
      ],
      "metadata": {
        "colab": {
          "base_uri": "https://localhost:8080/"
        },
        "id": "7GeBGc5M_Ml2",
        "outputId": "9df37776-d6fe-48c2-e390-30a4b3ac868c"
      },
      "execution_count": 18,
      "outputs": [
        {
          "output_type": "stream",
          "name": "stdout",
          "text": [
            "0.8897759999999986\n",
            "0.5769440000000001\n"
          ]
        }
      ]
    },
    {
      "cell_type": "markdown",
      "source": [
        "### X와 Y의 공분산"
      ],
      "metadata": {
        "id": "dD0_PRp0_dUO"
      }
    },
    {
      "cell_type": "code",
      "source": [
        "p_xy = np.array([0.167, 0.083, 0.083, 0.083, 0.5, 0.083])\n",
        "xy = np.array([0, 1, 2, 0, 3, 6])\n",
        "# XY의 평균을 산출하기 위하여 위와 같이 데이터를 입력한다.\n",
        "\n",
        "cov_xy = np.sum( p_xy*xy ) - (mu_x*mu_y)\n",
        "# 위와 같이 공분산을 구하는 식을 입력한다.\n",
        "\n",
        "cov_xy"
      ],
      "metadata": {
        "colab": {
          "base_uri": "https://localhost:8080/"
        },
        "id": "t7S0k_Ds_ViL",
        "outputId": "cdc32349-b742-423a-8450-3affa76a7f13"
      },
      "execution_count": 19,
      "outputs": [
        {
          "output_type": "execute_result",
          "data": {
            "text/plain": [
              "-1.0551120000000003"
            ]
          },
          "metadata": {},
          "execution_count": 19
        }
      ]
    },
    {
      "cell_type": "code",
      "source": [],
      "metadata": {
        "id": "OkHJi7UL_6hR"
      },
      "execution_count": null,
      "outputs": []
    },
    {
      "cell_type": "code",
      "source": [],
      "metadata": {
        "id": "w3obz59y_0qY"
      },
      "execution_count": null,
      "outputs": []
    }
  ]
}