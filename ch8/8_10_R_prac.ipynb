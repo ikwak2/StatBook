{
  "nbformat": 4,
  "nbformat_minor": 0,
  "metadata": {
    "colab": {
      "provenance": [],
      "authorship_tag": "ABX9TyMLW9fXMmz08KZR/zq7T8F1",
      "include_colab_link": true
    },
    "kernelspec": {
      "name": "ir",
      "display_name": "R"
    },
    "language_info": {
      "name": "R"
    }
  },
  "cells": [
    {
      "cell_type": "markdown",
      "metadata": {
        "id": "view-in-github",
        "colab_type": "text"
      },
      "source": [
        "<a href=\"https://colab.research.google.com/github/ikwak2/StatBook/blob/main/ch8/8_10_R_prac.ipynb\" target=\"_parent\"><img src=\"https://colab.research.google.com/assets/colab-badge.svg\" alt=\"Open In Colab\"/></a>"
      ]
    },
    {
      "cell_type": "markdown",
      "source": [
        "# 8.10 R 연습\n",
        "\n",
        "## <예 8-2>의 단일집단의 t검정 과정\n",
        "### 자료 입력"
      ],
      "metadata": {
        "id": "DLO0E2f_1PeI"
      }
    },
    {
      "cell_type": "code",
      "source": [
        "x1<-c(10.8,12.2,9.5,10.3,8.6,8.3,9.5,10,11.5,10.1)\n",
        "mean(x1)\n",
        "sd(x1)\n",
        "length(x1) #x1에 속한 원소의 개수 (=n)"
      ],
      "metadata": {
        "colab": {
          "base_uri": "https://localhost:8080/",
          "height": 69
        },
        "id": "48RtOhxS9yvF",
        "outputId": "6bd2e78a-938f-4072-ea2e-93c9c46955b7"
      },
      "execution_count": 1,
      "outputs": [
        {
          "output_type": "display_data",
          "data": {
            "text/html": [
              "10.08"
            ],
            "text/markdown": "10.08",
            "text/latex": "10.08",
            "text/plain": [
              "[1] 10.08"
            ]
          },
          "metadata": {}
        },
        {
          "output_type": "display_data",
          "data": {
            "text/html": [
              "1.207200618511"
            ],
            "text/markdown": "1.207200618511",
            "text/latex": "1.207200618511",
            "text/plain": [
              "[1] 1.207201"
            ]
          },
          "metadata": {}
        },
        {
          "output_type": "display_data",
          "data": {
            "text/html": [
              "10"
            ],
            "text/markdown": "10",
            "text/latex": "10",
            "text/plain": [
              "[1] 10"
            ]
          },
          "metadata": {}
        }
      ]
    },
    {
      "cell_type": "markdown",
      "source": [
        "x1에 검정에 필요한 기초 자료를 저장한다. 앞의 기본 함수들을 이용하여 요약통계량을 구한다. length(x1)은 x1 자료의 길이로 표본 수 n에 해당한다."
      ],
      "metadata": {
        "id": "sPtgwOHaDc5R"
      }
    },
    {
      "cell_type": "markdown",
      "source": [
        "### 가설검정"
      ],
      "metadata": {
        "id": "CCOK9qgb1hNA"
      }
    },
    {
      "cell_type": "code",
      "execution_count": 2,
      "metadata": {
        "colab": {
          "base_uri": "https://localhost:8080/",
          "height": 219
        },
        "id": "cTj_m6oa09dS",
        "outputId": "4b67bd99-2703-489b-d3e4-ea8d884d4d01"
      },
      "outputs": [
        {
          "output_type": "display_data",
          "data": {
            "text/plain": [
              "\n",
              "\tOne Sample t-test\n",
              "\n",
              "data:  x1\n",
              "t = 0.20956, df = 9, p-value = 0.8387\n",
              "alternative hypothesis: true mean is not equal to 10\n",
              "95 percent confidence interval:\n",
              "  9.216421 10.943579\n",
              "sample estimates:\n",
              "mean of x \n",
              "    10.08 \n"
            ]
          },
          "metadata": {}
        }
      ],
      "source": [
        "t.test(x1,mu=10)"
      ]
    },
    {
      "cell_type": "markdown",
      "source": [
        "앞의 결과는 $H_0: \\mu=10$을 검정하기 위한 명령문과 결과이다. R에서 기본으로 제공되는 명령어 t.test를 이용하며, 자료, 귀무가설 하의 , 검정의 종류를 순서대로 입력하여 사용한다. 위 그림의 명령문 t.test(x1,mu=10)에서 x1은 자료, mu=10은 귀무가설 하의 를 10으로 하겠다는 것을 의미한다. 대립가설의 종류를 따로 입력하지 않으면 기본값으로 양측검정을 시행하게 된다. 명령문을 입력하면 단일집단 t검정의 결과가 출력된다. data는 사용한 자료, t는 검정통계량의 값(t값), df는 자유도, p-value는 유의확률(p값)을 나타낸다.  \n",
        "$H_0: \\mu=10$에 대한 대립가설을 따로 지정하지 않았으므로 $H_1: \\mu\\ne10$에 대한 검정을 시행했다. "
      ],
      "metadata": {
        "id": "yhrxuKRWDk5b"
      }
    },
    {
      "cell_type": "markdown",
      "source": [
        "### 검정 결과\n",
        "p-value가 0.8387로 유의수준 5% 하에서 귀무가설을 기각하지 못한다. 즉, 위의 표본관측 결과에 의할 때 표본(x1)의 평균이 10이 아니라고 할 수 없다. 결과창에서 $\\mu$의 95% 신뢰구간과 표본평균도 함께 출력된다. "
      ],
      "metadata": {
        "id": "6Ah_Sl1VEAV3"
      }
    },
    {
      "cell_type": "markdown",
      "source": [
        "## 두 모집단 t검정 과정(두 모집단의 분산이 동일하지 않다고 전제할 수 있는 경우)\n",
        "### 자료 입력"
      ],
      "metadata": {
        "id": "-GFkZkeeEgXQ"
      }
    },
    {
      "cell_type": "code",
      "source": [
        "set.seed(1)\n",
        "A<-round(rnorm(100,70,10))\n",
        "B<-round(rnorm(100,80,15))\n",
        "A\n",
        "B "
      ],
      "metadata": {
        "colab": {
          "base_uri": "https://localhost:8080/",
          "height": 86
        },
        "id": "S_WxrmwdBtwS",
        "outputId": "66749e4f-e574-4c90-f2b3-60a802b70640"
      },
      "execution_count": 3,
      "outputs": [
        {
          "output_type": "display_data",
          "data": {
            "text/html": [
              "<style>\n",
              ".list-inline {list-style: none; margin:0; padding: 0}\n",
              ".list-inline>li {display: inline-block}\n",
              ".list-inline>li:not(:last-child)::after {content: \"\\00b7\"; padding: 0 .5ex}\n",
              "</style>\n",
              "<ol class=list-inline><li>64</li><li>72</li><li>62</li><li>86</li><li>73</li><li>62</li><li>75</li><li>77</li><li>76</li><li>67</li><li>85</li><li>74</li><li>64</li><li>48</li><li>81</li><li>70</li><li>70</li><li>79</li><li>78</li><li>76</li><li>79</li><li>78</li><li>71</li><li>50</li><li>76</li><li>69</li><li>68</li><li>55</li><li>65</li><li>74</li><li>84</li><li>69</li><li>74</li><li>69</li><li>56</li><li>66</li><li>66</li><li>69</li><li>81</li><li>78</li><li>68</li><li>67</li><li>77</li><li>76</li><li>63</li><li>63</li><li>74</li><li>78</li><li>69</li><li>79</li><li>74</li><li>64</li><li>73</li><li>59</li><li>84</li><li>90</li><li>66</li><li>60</li><li>76</li><li>69</li><li>94</li><li>70</li><li>77</li><li>70</li><li>63</li><li>72</li><li>52</li><li>85</li><li>72</li><li>92</li><li>75</li><li>63</li><li>76</li><li>61</li><li>57</li><li>73</li><li>66</li><li>70</li><li>71</li><li>64</li><li>64</li><li>69</li><li>82</li><li>55</li><li>76</li><li>73</li><li>81</li><li>67</li><li>74</li><li>73</li><li>65</li><li>82</li><li>82</li><li>77</li><li>86</li><li>76</li><li>57</li><li>64</li><li>58</li><li>65</li></ol>\n"
            ],
            "text/markdown": "1. 64\n2. 72\n3. 62\n4. 86\n5. 73\n6. 62\n7. 75\n8. 77\n9. 76\n10. 67\n11. 85\n12. 74\n13. 64\n14. 48\n15. 81\n16. 70\n17. 70\n18. 79\n19. 78\n20. 76\n21. 79\n22. 78\n23. 71\n24. 50\n25. 76\n26. 69\n27. 68\n28. 55\n29. 65\n30. 74\n31. 84\n32. 69\n33. 74\n34. 69\n35. 56\n36. 66\n37. 66\n38. 69\n39. 81\n40. 78\n41. 68\n42. 67\n43. 77\n44. 76\n45. 63\n46. 63\n47. 74\n48. 78\n49. 69\n50. 79\n51. 74\n52. 64\n53. 73\n54. 59\n55. 84\n56. 90\n57. 66\n58. 60\n59. 76\n60. 69\n61. 94\n62. 70\n63. 77\n64. 70\n65. 63\n66. 72\n67. 52\n68. 85\n69. 72\n70. 92\n71. 75\n72. 63\n73. 76\n74. 61\n75. 57\n76. 73\n77. 66\n78. 70\n79. 71\n80. 64\n81. 64\n82. 69\n83. 82\n84. 55\n85. 76\n86. 73\n87. 81\n88. 67\n89. 74\n90. 73\n91. 65\n92. 82\n93. 82\n94. 77\n95. 86\n96. 76\n97. 57\n98. 64\n99. 58\n100. 65\n\n\n",
            "text/latex": "\\begin{enumerate*}\n\\item 64\n\\item 72\n\\item 62\n\\item 86\n\\item 73\n\\item 62\n\\item 75\n\\item 77\n\\item 76\n\\item 67\n\\item 85\n\\item 74\n\\item 64\n\\item 48\n\\item 81\n\\item 70\n\\item 70\n\\item 79\n\\item 78\n\\item 76\n\\item 79\n\\item 78\n\\item 71\n\\item 50\n\\item 76\n\\item 69\n\\item 68\n\\item 55\n\\item 65\n\\item 74\n\\item 84\n\\item 69\n\\item 74\n\\item 69\n\\item 56\n\\item 66\n\\item 66\n\\item 69\n\\item 81\n\\item 78\n\\item 68\n\\item 67\n\\item 77\n\\item 76\n\\item 63\n\\item 63\n\\item 74\n\\item 78\n\\item 69\n\\item 79\n\\item 74\n\\item 64\n\\item 73\n\\item 59\n\\item 84\n\\item 90\n\\item 66\n\\item 60\n\\item 76\n\\item 69\n\\item 94\n\\item 70\n\\item 77\n\\item 70\n\\item 63\n\\item 72\n\\item 52\n\\item 85\n\\item 72\n\\item 92\n\\item 75\n\\item 63\n\\item 76\n\\item 61\n\\item 57\n\\item 73\n\\item 66\n\\item 70\n\\item 71\n\\item 64\n\\item 64\n\\item 69\n\\item 82\n\\item 55\n\\item 76\n\\item 73\n\\item 81\n\\item 67\n\\item 74\n\\item 73\n\\item 65\n\\item 82\n\\item 82\n\\item 77\n\\item 86\n\\item 76\n\\item 57\n\\item 64\n\\item 58\n\\item 65\n\\end{enumerate*}\n",
            "text/plain": [
              "  [1] 64 72 62 86 73 62 75 77 76 67 85 74 64 48 81 70 70 79 78 76 79 78 71 50 76\n",
              " [26] 69 68 55 65 74 84 69 74 69 56 66 66 69 81 78 68 67 77 76 63 63 74 78 69 79\n",
              " [51] 74 64 73 59 84 90 66 60 76 69 94 70 77 70 63 72 52 85 72 92 75 63 76 61 57\n",
              " [76] 73 66 70 71 64 64 69 82 55 76 73 81 67 74 73 65 82 82 77 86 76 57 64 58 65"
            ]
          },
          "metadata": {}
        },
        {
          "output_type": "display_data",
          "data": {
            "text/html": [
              "<style>\n",
              ".list-inline {list-style: none; margin:0; padding: 0}\n",
              ".list-inline>li {display: inline-block}\n",
              ".list-inline>li:not(:last-child)::after {content: \"\\00b7\"; padding: 0 .5ex}\n",
              "</style>\n",
              "<ol class=list-inline><li>71</li><li>81</li><li>66</li><li>82</li><li>70</li><li>107</li><li>91</li><li>94</li><li>86</li><li>105</li><li>70</li><li>73</li><li>101</li><li>70</li><li>77</li><li>74</li><li>75</li><li>76</li><li>87</li><li>77</li><li>72</li><li>100</li><li>77</li><li>77</li><li>78</li><li>91</li><li>79</li><li>79</li><li>70</li><li>75</li><li>81</li><li>71</li><li>88</li><li>57</li><li>85</li><li>57</li><li>75</li><li>72</li><li>70</li><li>79</li><li>51</li><li>98</li><li>55</li><li>73</li><li>63</li><li>69</li><li>111</li><li>80</li><li>61</li><li>55</li><li>87</li><li>80</li><li>75</li><li>66</li><li>58</li><li>64</li><li>95</li><li>71</li><li>59</li><li>108</li><li>86</li><li>76</li><li>96</li><li>93</li><li>71</li><li>113</li><li>76</li><li>59</li><li>78</li><li>83</li><li>115</li><li>82</li><li>87</li><li>79</li><li>75</li><li>79</li><li>92</li><li>111</li><li>95</li><li>98</li><li>62</li><li>95</li><li>83</li><li>58</li><li>88</li><li>78</li><li>102</li><li>69</li><li>74</li><li>66</li><li>77</li><li>86</li><li>69</li><li>92</li><li>62</li><li>64</li><li>102</li><li>65</li><li>86</li><li>74</li></ol>\n"
            ],
            "text/markdown": "1. 71\n2. 81\n3. 66\n4. 82\n5. 70\n6. 107\n7. 91\n8. 94\n9. 86\n10. 105\n11. 70\n12. 73\n13. 101\n14. 70\n15. 77\n16. 74\n17. 75\n18. 76\n19. 87\n20. 77\n21. 72\n22. 100\n23. 77\n24. 77\n25. 78\n26. 91\n27. 79\n28. 79\n29. 70\n30. 75\n31. 81\n32. 71\n33. 88\n34. 57\n35. 85\n36. 57\n37. 75\n38. 72\n39. 70\n40. 79\n41. 51\n42. 98\n43. 55\n44. 73\n45. 63\n46. 69\n47. 111\n48. 80\n49. 61\n50. 55\n51. 87\n52. 80\n53. 75\n54. 66\n55. 58\n56. 64\n57. 95\n58. 71\n59. 59\n60. 108\n61. 86\n62. 76\n63. 96\n64. 93\n65. 71\n66. 113\n67. 76\n68. 59\n69. 78\n70. 83\n71. 115\n72. 82\n73. 87\n74. 79\n75. 75\n76. 79\n77. 92\n78. 111\n79. 95\n80. 98\n81. 62\n82. 95\n83. 83\n84. 58\n85. 88\n86. 78\n87. 102\n88. 69\n89. 74\n90. 66\n91. 77\n92. 86\n93. 69\n94. 92\n95. 62\n96. 64\n97. 102\n98. 65\n99. 86\n100. 74\n\n\n",
            "text/latex": "\\begin{enumerate*}\n\\item 71\n\\item 81\n\\item 66\n\\item 82\n\\item 70\n\\item 107\n\\item 91\n\\item 94\n\\item 86\n\\item 105\n\\item 70\n\\item 73\n\\item 101\n\\item 70\n\\item 77\n\\item 74\n\\item 75\n\\item 76\n\\item 87\n\\item 77\n\\item 72\n\\item 100\n\\item 77\n\\item 77\n\\item 78\n\\item 91\n\\item 79\n\\item 79\n\\item 70\n\\item 75\n\\item 81\n\\item 71\n\\item 88\n\\item 57\n\\item 85\n\\item 57\n\\item 75\n\\item 72\n\\item 70\n\\item 79\n\\item 51\n\\item 98\n\\item 55\n\\item 73\n\\item 63\n\\item 69\n\\item 111\n\\item 80\n\\item 61\n\\item 55\n\\item 87\n\\item 80\n\\item 75\n\\item 66\n\\item 58\n\\item 64\n\\item 95\n\\item 71\n\\item 59\n\\item 108\n\\item 86\n\\item 76\n\\item 96\n\\item 93\n\\item 71\n\\item 113\n\\item 76\n\\item 59\n\\item 78\n\\item 83\n\\item 115\n\\item 82\n\\item 87\n\\item 79\n\\item 75\n\\item 79\n\\item 92\n\\item 111\n\\item 95\n\\item 98\n\\item 62\n\\item 95\n\\item 83\n\\item 58\n\\item 88\n\\item 78\n\\item 102\n\\item 69\n\\item 74\n\\item 66\n\\item 77\n\\item 86\n\\item 69\n\\item 92\n\\item 62\n\\item 64\n\\item 102\n\\item 65\n\\item 86\n\\item 74\n\\end{enumerate*}\n",
            "text/plain": [
              "  [1]  71  81  66  82  70 107  91  94  86 105  70  73 101  70  77  74  75  76\n",
              " [19]  87  77  72 100  77  77  78  91  79  79  70  75  81  71  88  57  85  57\n",
              " [37]  75  72  70  79  51  98  55  73  63  69 111  80  61  55  87  80  75  66\n",
              " [55]  58  64  95  71  59 108  86  76  96  93  71 113  76  59  78  83 115  82\n",
              " [73]  87  79  75  79  92 111  95  98  62  95  83  58  88  78 102  69  74  66\n",
              " [91]  77  86  69  92  62  64 102  65  86  74"
            ]
          },
          "metadata": {}
        }
      ]
    },
    {
      "cell_type": "markdown",
      "source": [
        "두 모집단의 모분산이 동일하지 않을 경우를 가정한 t검정의 예제를 위해 정규분포를 따르는 크기 100의 적당한 자료벡터를 2개 생성한다. <자료 A>는 평균 70, 표준편차 10인 정규분포에서 랜덤하게 추출한 100개의 표본이고, <자료 B>는 평균 80, 표준편차 15인 정규분포에서 랜덤하게 추출한 100개의 표본이다. 여기서 set.seed(1)은 랜덤하게 생성되는 난수를 고정하기 위해 사용되었고, round는 소수점을 반올림하여 자연수를 만들어주는 명령어이다. t검정을 위해서는 정규성 검정이 선행되어야 하지만 이 예제에서는 정규분포로부터 표본을 만들었으므로 생략한다."
      ],
      "metadata": {
        "id": "upOBh6bYEoc1"
      }
    },
    {
      "cell_type": "markdown",
      "source": [
        "### 가설검정"
      ],
      "metadata": {
        "id": "bcwSdXcVEsTr"
      }
    },
    {
      "cell_type": "code",
      "source": [
        "t.test(A,B,var.equal=F)"
      ],
      "metadata": {
        "colab": {
          "base_uri": "https://localhost:8080/",
          "height": 219
        },
        "id": "q3ALL5ErBtnR",
        "outputId": "3cf2f85c-54e1-4578-9794-67c47563c721"
      },
      "execution_count": 4,
      "outputs": [
        {
          "output_type": "display_data",
          "data": {
            "text/plain": [
              "\n",
              "\tWelch Two Sample t-test\n",
              "\n",
              "data:  A and B\n",
              "t = -4.8743, df = 166.28, p-value = 2.532e-06\n",
              "alternative hypothesis: true difference in means is not equal to 0\n",
              "95 percent confidence interval:\n",
              " -11.619745  -4.920255\n",
              "sample estimates:\n",
              "mean of x mean of y \n",
              "    71.14     79.41 \n"
            ]
          },
          "metadata": {}
        }
      ]
    },
    {
      "cell_type": "markdown",
      "source": [
        "위 결과는 $H_0:\\mu_A = \\mu_B$ 를 검정하기 위한 명령문과 결과이다. 단일집단 t검정과 동일하게 R에서 기본으로 제공되는 명령어 t.test를 이용한다. 이 경우 검정을 위한 두 표본자료, 등분산 가정 여부, 검정의 종류를 순서대로 입력하여 사용한다. 위 그림의 명령문 t.test(A,B,var.equal=F)에서 A와 B는 표본자료, var.equal=F는 등분산을 가정하지 않겠다는 것을 의미한다. 여기서 F는 FALSE로도 입력할 수 있다. 등분산을 가정하는 경우는 T 혹은 TRUE로 입력한다. 대립가설의 종류를 따로 입력하지 않으면 기본값으로 양측검정을 시행하게 된다. 명령문을 입력하면 두 모집단 t검정의 결과가 출력된다.  \n",
        "$H_0:\\mu_A = \\mu_B$에 대한 대립가설을 따로 지정하지 않았으므로 $H_1:\\mu_A \\ne \\mu_B$에 대한 검정을 시행했다. "
      ],
      "metadata": {
        "id": "PFXZ0TnXEwzH"
      }
    },
    {
      "cell_type": "markdown",
      "source": [
        "### 검정 결과\n",
        "\n",
        "p-value를 볼 때, 유의수준 5% 하에서 귀무가설을 기각한다. 즉, 위의 표본관측 결과에 의할 때 유의수준 5% 하에서 표본 A와 표본 B의 모집단 평균이 같다고 할 수 없다.\n",
        "\n",
        "## 두 모집단 t검정 과정(두 모집단의 분산이 동일하다고 전제할 수 있는 경우)\n",
        "### 자료 입력"
      ],
      "metadata": {
        "id": "ltE4hpgrFCKK"
      }
    },
    {
      "cell_type": "code",
      "source": [
        "set.seed(1)\n",
        "A<-round(rnorm(100,70,10))\n",
        "B<-round(rnorm(100,80,10))\n",
        "A\n",
        "B"
      ],
      "metadata": {
        "colab": {
          "base_uri": "https://localhost:8080/",
          "height": 86
        },
        "id": "RIDTRY7UBtbs",
        "outputId": "d970670b-5cdd-4f5a-e517-8673f2fc0faa"
      },
      "execution_count": 5,
      "outputs": [
        {
          "output_type": "display_data",
          "data": {
            "text/html": [
              "<style>\n",
              ".list-inline {list-style: none; margin:0; padding: 0}\n",
              ".list-inline>li {display: inline-block}\n",
              ".list-inline>li:not(:last-child)::after {content: \"\\00b7\"; padding: 0 .5ex}\n",
              "</style>\n",
              "<ol class=list-inline><li>64</li><li>72</li><li>62</li><li>86</li><li>73</li><li>62</li><li>75</li><li>77</li><li>76</li><li>67</li><li>85</li><li>74</li><li>64</li><li>48</li><li>81</li><li>70</li><li>70</li><li>79</li><li>78</li><li>76</li><li>79</li><li>78</li><li>71</li><li>50</li><li>76</li><li>69</li><li>68</li><li>55</li><li>65</li><li>74</li><li>84</li><li>69</li><li>74</li><li>69</li><li>56</li><li>66</li><li>66</li><li>69</li><li>81</li><li>78</li><li>68</li><li>67</li><li>77</li><li>76</li><li>63</li><li>63</li><li>74</li><li>78</li><li>69</li><li>79</li><li>74</li><li>64</li><li>73</li><li>59</li><li>84</li><li>90</li><li>66</li><li>60</li><li>76</li><li>69</li><li>94</li><li>70</li><li>77</li><li>70</li><li>63</li><li>72</li><li>52</li><li>85</li><li>72</li><li>92</li><li>75</li><li>63</li><li>76</li><li>61</li><li>57</li><li>73</li><li>66</li><li>70</li><li>71</li><li>64</li><li>64</li><li>69</li><li>82</li><li>55</li><li>76</li><li>73</li><li>81</li><li>67</li><li>74</li><li>73</li><li>65</li><li>82</li><li>82</li><li>77</li><li>86</li><li>76</li><li>57</li><li>64</li><li>58</li><li>65</li></ol>\n"
            ],
            "text/markdown": "1. 64\n2. 72\n3. 62\n4. 86\n5. 73\n6. 62\n7. 75\n8. 77\n9. 76\n10. 67\n11. 85\n12. 74\n13. 64\n14. 48\n15. 81\n16. 70\n17. 70\n18. 79\n19. 78\n20. 76\n21. 79\n22. 78\n23. 71\n24. 50\n25. 76\n26. 69\n27. 68\n28. 55\n29. 65\n30. 74\n31. 84\n32. 69\n33. 74\n34. 69\n35. 56\n36. 66\n37. 66\n38. 69\n39. 81\n40. 78\n41. 68\n42. 67\n43. 77\n44. 76\n45. 63\n46. 63\n47. 74\n48. 78\n49. 69\n50. 79\n51. 74\n52. 64\n53. 73\n54. 59\n55. 84\n56. 90\n57. 66\n58. 60\n59. 76\n60. 69\n61. 94\n62. 70\n63. 77\n64. 70\n65. 63\n66. 72\n67. 52\n68. 85\n69. 72\n70. 92\n71. 75\n72. 63\n73. 76\n74. 61\n75. 57\n76. 73\n77. 66\n78. 70\n79. 71\n80. 64\n81. 64\n82. 69\n83. 82\n84. 55\n85. 76\n86. 73\n87. 81\n88. 67\n89. 74\n90. 73\n91. 65\n92. 82\n93. 82\n94. 77\n95. 86\n96. 76\n97. 57\n98. 64\n99. 58\n100. 65\n\n\n",
            "text/latex": "\\begin{enumerate*}\n\\item 64\n\\item 72\n\\item 62\n\\item 86\n\\item 73\n\\item 62\n\\item 75\n\\item 77\n\\item 76\n\\item 67\n\\item 85\n\\item 74\n\\item 64\n\\item 48\n\\item 81\n\\item 70\n\\item 70\n\\item 79\n\\item 78\n\\item 76\n\\item 79\n\\item 78\n\\item 71\n\\item 50\n\\item 76\n\\item 69\n\\item 68\n\\item 55\n\\item 65\n\\item 74\n\\item 84\n\\item 69\n\\item 74\n\\item 69\n\\item 56\n\\item 66\n\\item 66\n\\item 69\n\\item 81\n\\item 78\n\\item 68\n\\item 67\n\\item 77\n\\item 76\n\\item 63\n\\item 63\n\\item 74\n\\item 78\n\\item 69\n\\item 79\n\\item 74\n\\item 64\n\\item 73\n\\item 59\n\\item 84\n\\item 90\n\\item 66\n\\item 60\n\\item 76\n\\item 69\n\\item 94\n\\item 70\n\\item 77\n\\item 70\n\\item 63\n\\item 72\n\\item 52\n\\item 85\n\\item 72\n\\item 92\n\\item 75\n\\item 63\n\\item 76\n\\item 61\n\\item 57\n\\item 73\n\\item 66\n\\item 70\n\\item 71\n\\item 64\n\\item 64\n\\item 69\n\\item 82\n\\item 55\n\\item 76\n\\item 73\n\\item 81\n\\item 67\n\\item 74\n\\item 73\n\\item 65\n\\item 82\n\\item 82\n\\item 77\n\\item 86\n\\item 76\n\\item 57\n\\item 64\n\\item 58\n\\item 65\n\\end{enumerate*}\n",
            "text/plain": [
              "  [1] 64 72 62 86 73 62 75 77 76 67 85 74 64 48 81 70 70 79 78 76 79 78 71 50 76\n",
              " [26] 69 68 55 65 74 84 69 74 69 56 66 66 69 81 78 68 67 77 76 63 63 74 78 69 79\n",
              " [51] 74 64 73 59 84 90 66 60 76 69 94 70 77 70 63 72 52 85 72 92 75 63 76 61 57\n",
              " [76] 73 66 70 71 64 64 69 82 55 76 73 81 67 74 73 65 82 82 77 86 76 57 64 58 65"
            ]
          },
          "metadata": {}
        },
        {
          "output_type": "display_data",
          "data": {
            "text/html": [
              "<style>\n",
              ".list-inline {list-style: none; margin:0; padding: 0}\n",
              ".list-inline>li {display: inline-block}\n",
              ".list-inline>li:not(:last-child)::after {content: \"\\00b7\"; padding: 0 .5ex}\n",
              "</style>\n",
              "<ol class=list-inline><li>74</li><li>80</li><li>71</li><li>82</li><li>73</li><li>98</li><li>87</li><li>89</li><li>84</li><li>97</li><li>74</li><li>75</li><li>94</li><li>73</li><li>78</li><li>76</li><li>77</li><li>77</li><li>85</li><li>78</li><li>75</li><li>93</li><li>78</li><li>78</li><li>79</li><li>87</li><li>79</li><li>80</li><li>73</li><li>77</li><li>81</li><li>74</li><li>85</li><li>65</li><li>83</li><li>65</li><li>77</li><li>75</li><li>73</li><li>79</li><li>61</li><li>92</li><li>63</li><li>75</li><li>69</li><li>72</li><li>101</li><li>80</li><li>67</li><li>64</li><li>85</li><li>80</li><li>77</li><li>71</li><li>65</li><li>69</li><li>90</li><li>74</li><li>66</li><li>99</li><li>84</li><li>78</li><li>91</li><li>89</li><li>74</li><li>102</li><li>77</li><li>66</li><li>79</li><li>82</li><li>103</li><li>81</li><li>85</li><li>79</li><li>77</li><li>80</li><li>88</li><li>101</li><li>90</li><li>92</li><li>68</li><li>90</li><li>82</li><li>65</li><li>85</li><li>78</li><li>95</li><li>72</li><li>76</li><li>71</li><li>78</li><li>84</li><li>73</li><li>88</li><li>68</li><li>70</li><li>94</li><li>70</li><li>84</li><li>76</li></ol>\n"
            ],
            "text/markdown": "1. 74\n2. 80\n3. 71\n4. 82\n5. 73\n6. 98\n7. 87\n8. 89\n9. 84\n10. 97\n11. 74\n12. 75\n13. 94\n14. 73\n15. 78\n16. 76\n17. 77\n18. 77\n19. 85\n20. 78\n21. 75\n22. 93\n23. 78\n24. 78\n25. 79\n26. 87\n27. 79\n28. 80\n29. 73\n30. 77\n31. 81\n32. 74\n33. 85\n34. 65\n35. 83\n36. 65\n37. 77\n38. 75\n39. 73\n40. 79\n41. 61\n42. 92\n43. 63\n44. 75\n45. 69\n46. 72\n47. 101\n48. 80\n49. 67\n50. 64\n51. 85\n52. 80\n53. 77\n54. 71\n55. 65\n56. 69\n57. 90\n58. 74\n59. 66\n60. 99\n61. 84\n62. 78\n63. 91\n64. 89\n65. 74\n66. 102\n67. 77\n68. 66\n69. 79\n70. 82\n71. 103\n72. 81\n73. 85\n74. 79\n75. 77\n76. 80\n77. 88\n78. 101\n79. 90\n80. 92\n81. 68\n82. 90\n83. 82\n84. 65\n85. 85\n86. 78\n87. 95\n88. 72\n89. 76\n90. 71\n91. 78\n92. 84\n93. 73\n94. 88\n95. 68\n96. 70\n97. 94\n98. 70\n99. 84\n100. 76\n\n\n",
            "text/latex": "\\begin{enumerate*}\n\\item 74\n\\item 80\n\\item 71\n\\item 82\n\\item 73\n\\item 98\n\\item 87\n\\item 89\n\\item 84\n\\item 97\n\\item 74\n\\item 75\n\\item 94\n\\item 73\n\\item 78\n\\item 76\n\\item 77\n\\item 77\n\\item 85\n\\item 78\n\\item 75\n\\item 93\n\\item 78\n\\item 78\n\\item 79\n\\item 87\n\\item 79\n\\item 80\n\\item 73\n\\item 77\n\\item 81\n\\item 74\n\\item 85\n\\item 65\n\\item 83\n\\item 65\n\\item 77\n\\item 75\n\\item 73\n\\item 79\n\\item 61\n\\item 92\n\\item 63\n\\item 75\n\\item 69\n\\item 72\n\\item 101\n\\item 80\n\\item 67\n\\item 64\n\\item 85\n\\item 80\n\\item 77\n\\item 71\n\\item 65\n\\item 69\n\\item 90\n\\item 74\n\\item 66\n\\item 99\n\\item 84\n\\item 78\n\\item 91\n\\item 89\n\\item 74\n\\item 102\n\\item 77\n\\item 66\n\\item 79\n\\item 82\n\\item 103\n\\item 81\n\\item 85\n\\item 79\n\\item 77\n\\item 80\n\\item 88\n\\item 101\n\\item 90\n\\item 92\n\\item 68\n\\item 90\n\\item 82\n\\item 65\n\\item 85\n\\item 78\n\\item 95\n\\item 72\n\\item 76\n\\item 71\n\\item 78\n\\item 84\n\\item 73\n\\item 88\n\\item 68\n\\item 70\n\\item 94\n\\item 70\n\\item 84\n\\item 76\n\\end{enumerate*}\n",
            "text/plain": [
              "  [1]  74  80  71  82  73  98  87  89  84  97  74  75  94  73  78  76  77  77\n",
              " [19]  85  78  75  93  78  78  79  87  79  80  73  77  81  74  85  65  83  65\n",
              " [37]  77  75  73  79  61  92  63  75  69  72 101  80  67  64  85  80  77  71\n",
              " [55]  65  69  90  74  66  99  84  78  91  89  74 102  77  66  79  82 103  81\n",
              " [73]  85  79  77  80  88 101  90  92  68  90  82  65  85  78  95  72  76  71\n",
              " [91]  78  84  73  88  68  70  94  70  84  76"
            ]
          },
          "metadata": {}
        }
      ]
    },
    {
      "cell_type": "markdown",
      "source": [
        "두 모집단의 모분산이 동일한 경우를 가정한 t검정의 예제를 위해 정규분포를 따르는 크기 100의 적당한 자료벡터를 2개 생성한다. <자료 A>는 평균 70, 표준편차 10인 정규분포에서 랜덤하게 추출한 100개의 표본이고, <자료 B>는 평균 80, 표준편차 10인 정규분포에서 랜덤하게 추출한 100개의 표본이다. 마찬가지로 정규성 검정은 생략한다.\n",
        "\n",
        "### 가설검정"
      ],
      "metadata": {
        "id": "oroK-eoDAkPx"
      }
    },
    {
      "cell_type": "code",
      "source": [
        "t.test(A,B,var.equal=T)"
      ],
      "metadata": {
        "colab": {
          "base_uri": "https://localhost:8080/",
          "height": 219
        },
        "id": "brN326j3-NrZ",
        "outputId": "bac3db0f-2ff7-438c-a71a-e11690544654"
      },
      "execution_count": 6,
      "outputs": [
        {
          "output_type": "display_data",
          "data": {
            "text/plain": [
              "\n",
              "\tTwo Sample t-test\n",
              "\n",
              "data:  A and B\n",
              "t = -6.4574, df = 198, p-value = 8.056e-10\n",
              "alternative hypothesis: true difference in means is not equal to 0\n",
              "95 percent confidence interval:\n",
              " -11.08275  -5.89725\n",
              "sample estimates:\n",
              "mean of x mean of y \n",
              "    71.14     79.63 \n"
            ]
          },
          "metadata": {}
        }
      ]
    },
    {
      "cell_type": "markdown",
      "source": [
        "위 그림은 $H_0:\\mu_A = \\mu_B$를 검정하기 위한 명령문과 결과이다. 명령문은 앞의 경우와 같고 등분산을 가정하고 있으므로 var.equal=T를 입력한다. 여기서 T는 TRUE로도 입력할 수 있다. 대립가설의 종류를 따로 입력하지 않으면 기본값으로 양측검정을 시행하게 된다. 명령문을 입력하면 두 모집단의 t검정 결과가 출력된다.  \n",
        "$H_0:\\mu_A = \\mu_B$에 대한 대립가설을 따로 지정하지 않았으므로 $H_1:\\mu_A \\ne \\mu_B$에 대한 검정을 시행했다."
      ],
      "metadata": {
        "id": "wZ13ySeZB6Y3"
      }
    },
    {
      "cell_type": "markdown",
      "source": [
        "3) 검정 결과\n",
        "p-value로 볼 때 유의수준 5% 하에서 귀무가설을 기각한다. 즉, 위의 표본관측 결과에 의할 때 유의수준 5% 하에서 표본 A와 표본 B의 모집단 평균이 같다고 할 수 없다."
      ],
      "metadata": {
        "id": "aAyfwIJdFoV_"
      }
    },
    {
      "cell_type": "markdown",
      "source": [
        "## <예 8-7>의 짝진표본 t검정 과정\n",
        "### 자료 입력"
      ],
      "metadata": {
        "id": "OWV9TZ5tF9Rk"
      }
    },
    {
      "cell_type": "code",
      "source": [
        "A<-c(10.6,9.4,12.3,9.7,8.3)\n",
        "B<-c(10.2,9.8,11.8,9.1,8.8)\n",
        "A\n",
        "B"
      ],
      "metadata": {
        "colab": {
          "base_uri": "https://localhost:8080/",
          "height": 52
        },
        "id": "ByMcM_M6AyM5",
        "outputId": "4eb329d6-fca3-4cfd-bce7-a67949fce0d2"
      },
      "execution_count": 7,
      "outputs": [
        {
          "output_type": "display_data",
          "data": {
            "text/html": [
              "<style>\n",
              ".list-inline {list-style: none; margin:0; padding: 0}\n",
              ".list-inline>li {display: inline-block}\n",
              ".list-inline>li:not(:last-child)::after {content: \"\\00b7\"; padding: 0 .5ex}\n",
              "</style>\n",
              "<ol class=list-inline><li>10.6</li><li>9.4</li><li>12.3</li><li>9.7</li><li>8.3</li></ol>\n"
            ],
            "text/markdown": "1. 10.6\n2. 9.4\n3. 12.3\n4. 9.7\n5. 8.3\n\n\n",
            "text/latex": "\\begin{enumerate*}\n\\item 10.6\n\\item 9.4\n\\item 12.3\n\\item 9.7\n\\item 8.3\n\\end{enumerate*}\n",
            "text/plain": [
              "[1] 10.6  9.4 12.3  9.7  8.3"
            ]
          },
          "metadata": {}
        },
        {
          "output_type": "display_data",
          "data": {
            "text/html": [
              "<style>\n",
              ".list-inline {list-style: none; margin:0; padding: 0}\n",
              ".list-inline>li {display: inline-block}\n",
              ".list-inline>li:not(:last-child)::after {content: \"\\00b7\"; padding: 0 .5ex}\n",
              "</style>\n",
              "<ol class=list-inline><li>10.2</li><li>9.8</li><li>11.8</li><li>9.1</li><li>8.8</li></ol>\n"
            ],
            "text/markdown": "1. 10.2\n2. 9.8\n3. 11.8\n4. 9.1\n5. 8.8\n\n\n",
            "text/latex": "\\begin{enumerate*}\n\\item 10.2\n\\item 9.8\n\\item 11.8\n\\item 9.1\n\\item 8.8\n\\end{enumerate*}\n",
            "text/plain": [
              "[1] 10.2  9.8 11.8  9.1  8.8"
            ]
          },
          "metadata": {}
        }
      ]
    },
    {
      "cell_type": "markdown",
      "source": [
        "A와 B에 검정에 필요한 기초 자료를 입력한다. 짝진표본 t검정의 경우 두 자료벡터 A, B에 입력되는 자료의 순서가 동일해야 한다. <예 8-7>에서 10.6, 10.2는 동일한 자동차에서 실험된 타이어의 마모율이므로, 각각 첫 번째 열에 입력한다. 이처럼 순서가 같은 열에 있는 자료는 서로 짝진 관계에 있어야 하고, 두 자료벡터의 길이는 같아야 한다.\n",
        "\n",
        "### 가설검정"
      ],
      "metadata": {
        "id": "SL5Bu2f6AzlS"
      }
    },
    {
      "cell_type": "code",
      "source": [
        "t.test(A,B,paired=T,alt = \"two.sided\")"
      ],
      "metadata": {
        "colab": {
          "base_uri": "https://localhost:8080/",
          "height": 219
        },
        "id": "1E6CUAZn-LBJ",
        "outputId": "e4df8d91-df52-44c2-b6ac-aa6e3306121f"
      },
      "execution_count": 9,
      "outputs": [
        {
          "output_type": "display_data",
          "data": {
            "text/plain": [
              "\n",
              "\tPaired t-test\n",
              "\n",
              "data:  A and B\n",
              "t = 0.50983, df = 4, p-value = 0.637\n",
              "alternative hypothesis: true mean difference is not equal to 0\n",
              "95 percent confidence interval:\n",
              " -0.5334976  0.7734976\n",
              "sample estimates:\n",
              "mean difference \n",
              "           0.12 \n"
            ]
          },
          "metadata": {}
        }
      ]
    },
    {
      "cell_type": "markdown",
      "source": [
        "앞의 그림은 $H_0:\\mu_A = \\mu_B$ 를 검정하기 위한 명령문과 결과이다. 명령문에서 A, B는 검정에 사용되는 자료, paired=T는 짝진표본 t검정을 사용하겠다는 의미이다. 여기서 T는 TRUE로도 입력할 수 있다. 입력하지 않으면 기본값으로 두 모집단 t검정을 실시하게 된다. alt=’two.sided’에서 대립가설의 종류를 양측검정으로 지정했다. ‘  ’안에 greater, less를 입력함으로써 대립가설의 종류를 바꿀 수 있다. alt=‘대립가설’, alternative=‘대립가설’과 같이 입력한다.\n",
        "$H_0:\\mu_A = \\mu_B$, $H_1:\\mu_A \\ne \\mu_B$에 대한 검정을 시행했다.\n",
        "\n",
        "\n",
        "3) 검정 결과\n",
        "p-value가 0.637로 유의수준 5% 하에서 귀무가설을 기각할 수 없다. 즉, 5% 유의수준 하에서 두 타이어의 성능은 동일하다고 볼 수 있다."
      ],
      "metadata": {
        "id": "vgxx0ec7CkWs"
      }
    },
    {
      "cell_type": "markdown",
      "source": [
        "※ 대립가설의 종류 변경"
      ],
      "metadata": {
        "id": "8BQoth_DGfXI"
      }
    },
    {
      "cell_type": "code",
      "source": [
        "t.test(A,B,paired=T,alt = \"greater\")"
      ],
      "metadata": {
        "id": "pzB8Hlri87EF",
        "colab": {
          "base_uri": "https://localhost:8080/",
          "height": 219
        },
        "outputId": "42ba4971-1ad2-4100-f530-43686ce4fe70"
      },
      "execution_count": 10,
      "outputs": [
        {
          "output_type": "display_data",
          "data": {
            "text/plain": [
              "\n",
              "\tPaired t-test\n",
              "\n",
              "data:  A and B\n",
              "t = 0.50983, df = 4, p-value = 0.3185\n",
              "alternative hypothesis: true mean difference is greater than 0\n",
              "95 percent confidence interval:\n",
              " -0.3817771        Inf\n",
              "sample estimates:\n",
              "mean difference \n",
              "           0.12 \n"
            ]
          },
          "metadata": {}
        }
      ]
    },
    {
      "cell_type": "markdown",
      "source": [
        "위 그림은 대립가설의 종류를 ‘greater’로 지정했을 경우의 검정 결과이다. 이 경우 $H_0:\\mu_A = \\mu_B$, $H_1:\\mu_A > \\mu_B$ 에 대한 검정을 시행했다."
      ],
      "metadata": {
        "id": "W3GU4jgpGman"
      }
    },
    {
      "cell_type": "markdown",
      "source": [
        "## <예 8-9>의 모비율 P에 대한 검정과정\n",
        "### 가설검정"
      ],
      "metadata": {
        "id": "ULrU5FGOGx3O"
      }
    },
    {
      "cell_type": "code",
      "source": [
        "prop.test(10,300,p=0.05,alt=\"less\",correct=F)"
      ],
      "metadata": {
        "id": "Wq_VQfNeCq0-",
        "colab": {
          "base_uri": "https://localhost:8080/",
          "height": 219
        },
        "outputId": "e886243c-97d7-49b8-8aa9-aecd4004420e"
      },
      "execution_count": 11,
      "outputs": [
        {
          "output_type": "display_data",
          "data": {
            "text/plain": [
              "\n",
              "\t1-sample proportions test without continuity correction\n",
              "\n",
              "data:  10 out of 300, null probability 0.05\n",
              "X-squared = 1.7544, df = 1, p-value = 0.09266\n",
              "alternative hypothesis: true p is less than 0.05\n",
              "95 percent confidence interval:\n",
              " 0.00000000 0.05497991\n",
              "sample estimates:\n",
              "         p \n",
              "0.03333333 \n"
            ]
          },
          "metadata": {}
        }
      ]
    },
    {
      "cell_type": "markdown",
      "source": [
        "R에서 기본으로 제공하는 모비율 검정 명령어 prop.test를 이용한다. prop. test에서는 따로 자료를 입력하지 않는다. 명령문에서 괄호 안은 성공의 횟수, 총 시행횟수, 귀무가설 하의 모비율, 대립가설의 종류 순이다. ‘correct=F’는 연속성 보정에 관한 부분이며, 일반적으로 ‘correct=F’로 사용한다. 입력하지 않거나, T 혹은 TRUE를 입력하면 연속성 보정된 검정을 시행한다.  \n",
        "$H_0:P = 0.05$, $H_1:P < 0.05$에 대한 검정을 시행했다."
      ],
      "metadata": {
        "id": "4gGzrCn7G5XR"
      }
    },
    {
      "cell_type": "markdown",
      "source": [
        "### 결과 해석\n",
        "\n",
        "p-value가 0.09266으로 유의수준 5% 하에서 귀무가설을 기각할 수 없다.  즉, 주어진 표본관측 결과에 의할 때 이 회사 제품의 불량률이 5%보다 적다고 할 수 없다."
      ],
      "metadata": {
        "id": "6mbAid19HFmF"
      }
    },
    {
      "cell_type": "markdown",
      "source": [
        "## <예 8-14>의 두 모분산의 동일성 검정\n",
        "### 자료 입력"
      ],
      "metadata": {
        "id": "S9JwP9FGHLDC"
      }
    },
    {
      "cell_type": "code",
      "source": [
        "set.seed(1)\n",
        "A<-round(rnorm(100,70,10))\n",
        "B<-round(rnorm(100,80,15))\n",
        "A\n",
        "B"
      ],
      "metadata": {
        "colab": {
          "base_uri": "https://localhost:8080/",
          "height": 86
        },
        "id": "eFVFEjA7G3TI",
        "outputId": "49221362-3db4-4665-f85b-99a3b3c65c61"
      },
      "execution_count": 12,
      "outputs": [
        {
          "output_type": "display_data",
          "data": {
            "text/html": [
              "<style>\n",
              ".list-inline {list-style: none; margin:0; padding: 0}\n",
              ".list-inline>li {display: inline-block}\n",
              ".list-inline>li:not(:last-child)::after {content: \"\\00b7\"; padding: 0 .5ex}\n",
              "</style>\n",
              "<ol class=list-inline><li>64</li><li>72</li><li>62</li><li>86</li><li>73</li><li>62</li><li>75</li><li>77</li><li>76</li><li>67</li><li>85</li><li>74</li><li>64</li><li>48</li><li>81</li><li>70</li><li>70</li><li>79</li><li>78</li><li>76</li><li>79</li><li>78</li><li>71</li><li>50</li><li>76</li><li>69</li><li>68</li><li>55</li><li>65</li><li>74</li><li>84</li><li>69</li><li>74</li><li>69</li><li>56</li><li>66</li><li>66</li><li>69</li><li>81</li><li>78</li><li>68</li><li>67</li><li>77</li><li>76</li><li>63</li><li>63</li><li>74</li><li>78</li><li>69</li><li>79</li><li>74</li><li>64</li><li>73</li><li>59</li><li>84</li><li>90</li><li>66</li><li>60</li><li>76</li><li>69</li><li>94</li><li>70</li><li>77</li><li>70</li><li>63</li><li>72</li><li>52</li><li>85</li><li>72</li><li>92</li><li>75</li><li>63</li><li>76</li><li>61</li><li>57</li><li>73</li><li>66</li><li>70</li><li>71</li><li>64</li><li>64</li><li>69</li><li>82</li><li>55</li><li>76</li><li>73</li><li>81</li><li>67</li><li>74</li><li>73</li><li>65</li><li>82</li><li>82</li><li>77</li><li>86</li><li>76</li><li>57</li><li>64</li><li>58</li><li>65</li></ol>\n"
            ],
            "text/markdown": "1. 64\n2. 72\n3. 62\n4. 86\n5. 73\n6. 62\n7. 75\n8. 77\n9. 76\n10. 67\n11. 85\n12. 74\n13. 64\n14. 48\n15. 81\n16. 70\n17. 70\n18. 79\n19. 78\n20. 76\n21. 79\n22. 78\n23. 71\n24. 50\n25. 76\n26. 69\n27. 68\n28. 55\n29. 65\n30. 74\n31. 84\n32. 69\n33. 74\n34. 69\n35. 56\n36. 66\n37. 66\n38. 69\n39. 81\n40. 78\n41. 68\n42. 67\n43. 77\n44. 76\n45. 63\n46. 63\n47. 74\n48. 78\n49. 69\n50. 79\n51. 74\n52. 64\n53. 73\n54. 59\n55. 84\n56. 90\n57. 66\n58. 60\n59. 76\n60. 69\n61. 94\n62. 70\n63. 77\n64. 70\n65. 63\n66. 72\n67. 52\n68. 85\n69. 72\n70. 92\n71. 75\n72. 63\n73. 76\n74. 61\n75. 57\n76. 73\n77. 66\n78. 70\n79. 71\n80. 64\n81. 64\n82. 69\n83. 82\n84. 55\n85. 76\n86. 73\n87. 81\n88. 67\n89. 74\n90. 73\n91. 65\n92. 82\n93. 82\n94. 77\n95. 86\n96. 76\n97. 57\n98. 64\n99. 58\n100. 65\n\n\n",
            "text/latex": "\\begin{enumerate*}\n\\item 64\n\\item 72\n\\item 62\n\\item 86\n\\item 73\n\\item 62\n\\item 75\n\\item 77\n\\item 76\n\\item 67\n\\item 85\n\\item 74\n\\item 64\n\\item 48\n\\item 81\n\\item 70\n\\item 70\n\\item 79\n\\item 78\n\\item 76\n\\item 79\n\\item 78\n\\item 71\n\\item 50\n\\item 76\n\\item 69\n\\item 68\n\\item 55\n\\item 65\n\\item 74\n\\item 84\n\\item 69\n\\item 74\n\\item 69\n\\item 56\n\\item 66\n\\item 66\n\\item 69\n\\item 81\n\\item 78\n\\item 68\n\\item 67\n\\item 77\n\\item 76\n\\item 63\n\\item 63\n\\item 74\n\\item 78\n\\item 69\n\\item 79\n\\item 74\n\\item 64\n\\item 73\n\\item 59\n\\item 84\n\\item 90\n\\item 66\n\\item 60\n\\item 76\n\\item 69\n\\item 94\n\\item 70\n\\item 77\n\\item 70\n\\item 63\n\\item 72\n\\item 52\n\\item 85\n\\item 72\n\\item 92\n\\item 75\n\\item 63\n\\item 76\n\\item 61\n\\item 57\n\\item 73\n\\item 66\n\\item 70\n\\item 71\n\\item 64\n\\item 64\n\\item 69\n\\item 82\n\\item 55\n\\item 76\n\\item 73\n\\item 81\n\\item 67\n\\item 74\n\\item 73\n\\item 65\n\\item 82\n\\item 82\n\\item 77\n\\item 86\n\\item 76\n\\item 57\n\\item 64\n\\item 58\n\\item 65\n\\end{enumerate*}\n",
            "text/plain": [
              "  [1] 64 72 62 86 73 62 75 77 76 67 85 74 64 48 81 70 70 79 78 76 79 78 71 50 76\n",
              " [26] 69 68 55 65 74 84 69 74 69 56 66 66 69 81 78 68 67 77 76 63 63 74 78 69 79\n",
              " [51] 74 64 73 59 84 90 66 60 76 69 94 70 77 70 63 72 52 85 72 92 75 63 76 61 57\n",
              " [76] 73 66 70 71 64 64 69 82 55 76 73 81 67 74 73 65 82 82 77 86 76 57 64 58 65"
            ]
          },
          "metadata": {}
        },
        {
          "output_type": "display_data",
          "data": {
            "text/html": [
              "<style>\n",
              ".list-inline {list-style: none; margin:0; padding: 0}\n",
              ".list-inline>li {display: inline-block}\n",
              ".list-inline>li:not(:last-child)::after {content: \"\\00b7\"; padding: 0 .5ex}\n",
              "</style>\n",
              "<ol class=list-inline><li>71</li><li>81</li><li>66</li><li>82</li><li>70</li><li>107</li><li>91</li><li>94</li><li>86</li><li>105</li><li>70</li><li>73</li><li>101</li><li>70</li><li>77</li><li>74</li><li>75</li><li>76</li><li>87</li><li>77</li><li>72</li><li>100</li><li>77</li><li>77</li><li>78</li><li>91</li><li>79</li><li>79</li><li>70</li><li>75</li><li>81</li><li>71</li><li>88</li><li>57</li><li>85</li><li>57</li><li>75</li><li>72</li><li>70</li><li>79</li><li>51</li><li>98</li><li>55</li><li>73</li><li>63</li><li>69</li><li>111</li><li>80</li><li>61</li><li>55</li><li>87</li><li>80</li><li>75</li><li>66</li><li>58</li><li>64</li><li>95</li><li>71</li><li>59</li><li>108</li><li>86</li><li>76</li><li>96</li><li>93</li><li>71</li><li>113</li><li>76</li><li>59</li><li>78</li><li>83</li><li>115</li><li>82</li><li>87</li><li>79</li><li>75</li><li>79</li><li>92</li><li>111</li><li>95</li><li>98</li><li>62</li><li>95</li><li>83</li><li>58</li><li>88</li><li>78</li><li>102</li><li>69</li><li>74</li><li>66</li><li>77</li><li>86</li><li>69</li><li>92</li><li>62</li><li>64</li><li>102</li><li>65</li><li>86</li><li>74</li></ol>\n"
            ],
            "text/markdown": "1. 71\n2. 81\n3. 66\n4. 82\n5. 70\n6. 107\n7. 91\n8. 94\n9. 86\n10. 105\n11. 70\n12. 73\n13. 101\n14. 70\n15. 77\n16. 74\n17. 75\n18. 76\n19. 87\n20. 77\n21. 72\n22. 100\n23. 77\n24. 77\n25. 78\n26. 91\n27. 79\n28. 79\n29. 70\n30. 75\n31. 81\n32. 71\n33. 88\n34. 57\n35. 85\n36. 57\n37. 75\n38. 72\n39. 70\n40. 79\n41. 51\n42. 98\n43. 55\n44. 73\n45. 63\n46. 69\n47. 111\n48. 80\n49. 61\n50. 55\n51. 87\n52. 80\n53. 75\n54. 66\n55. 58\n56. 64\n57. 95\n58. 71\n59. 59\n60. 108\n61. 86\n62. 76\n63. 96\n64. 93\n65. 71\n66. 113\n67. 76\n68. 59\n69. 78\n70. 83\n71. 115\n72. 82\n73. 87\n74. 79\n75. 75\n76. 79\n77. 92\n78. 111\n79. 95\n80. 98\n81. 62\n82. 95\n83. 83\n84. 58\n85. 88\n86. 78\n87. 102\n88. 69\n89. 74\n90. 66\n91. 77\n92. 86\n93. 69\n94. 92\n95. 62\n96. 64\n97. 102\n98. 65\n99. 86\n100. 74\n\n\n",
            "text/latex": "\\begin{enumerate*}\n\\item 71\n\\item 81\n\\item 66\n\\item 82\n\\item 70\n\\item 107\n\\item 91\n\\item 94\n\\item 86\n\\item 105\n\\item 70\n\\item 73\n\\item 101\n\\item 70\n\\item 77\n\\item 74\n\\item 75\n\\item 76\n\\item 87\n\\item 77\n\\item 72\n\\item 100\n\\item 77\n\\item 77\n\\item 78\n\\item 91\n\\item 79\n\\item 79\n\\item 70\n\\item 75\n\\item 81\n\\item 71\n\\item 88\n\\item 57\n\\item 85\n\\item 57\n\\item 75\n\\item 72\n\\item 70\n\\item 79\n\\item 51\n\\item 98\n\\item 55\n\\item 73\n\\item 63\n\\item 69\n\\item 111\n\\item 80\n\\item 61\n\\item 55\n\\item 87\n\\item 80\n\\item 75\n\\item 66\n\\item 58\n\\item 64\n\\item 95\n\\item 71\n\\item 59\n\\item 108\n\\item 86\n\\item 76\n\\item 96\n\\item 93\n\\item 71\n\\item 113\n\\item 76\n\\item 59\n\\item 78\n\\item 83\n\\item 115\n\\item 82\n\\item 87\n\\item 79\n\\item 75\n\\item 79\n\\item 92\n\\item 111\n\\item 95\n\\item 98\n\\item 62\n\\item 95\n\\item 83\n\\item 58\n\\item 88\n\\item 78\n\\item 102\n\\item 69\n\\item 74\n\\item 66\n\\item 77\n\\item 86\n\\item 69\n\\item 92\n\\item 62\n\\item 64\n\\item 102\n\\item 65\n\\item 86\n\\item 74\n\\end{enumerate*}\n",
            "text/plain": [
              "  [1]  71  81  66  82  70 107  91  94  86 105  70  73 101  70  77  74  75  76\n",
              " [19]  87  77  72 100  77  77  78  91  79  79  70  75  81  71  88  57  85  57\n",
              " [37]  75  72  70  79  51  98  55  73  63  69 111  80  61  55  87  80  75  66\n",
              " [55]  58  64  95  71  59 108  86  76  96  93  71 113  76  59  78  83 115  82\n",
              " [73]  87  79  75  79  92 111  95  98  62  95  83  58  88  78 102  69  74  66\n",
              " [91]  77  86  69  92  62  64 102  65  86  74"
            ]
          },
          "metadata": {}
        }
      ]
    },
    {
      "cell_type": "markdown",
      "source": [
        "\n",
        "두 모집단 t검정 과정에서 사용했던 자료를 이용하여 두 모분산의 동일성 검정을 시행한다. 이 경우 A와 B는 모분산이 다른 정규분포에서 랜덤하게 생성한 자료이므로 어느 정도 결과를 예상할 수 있다."
      ],
      "metadata": {
        "id": "JHn8PiBYHSTC"
      }
    },
    {
      "cell_type": "markdown",
      "source": [
        "### 가설검정 "
      ],
      "metadata": {
        "id": "-YkvytASHTAi"
      }
    },
    {
      "cell_type": "code",
      "source": [
        "var.test(A,B)"
      ],
      "metadata": {
        "colab": {
          "base_uri": "https://localhost:8080/",
          "height": 219
        },
        "id": "Zb8vBpu3HQ0c",
        "outputId": "d2f9353e-da30-4a58-aa38-dabf8fc67b7b"
      },
      "execution_count": 13,
      "outputs": [
        {
          "output_type": "display_data",
          "data": {
            "text/plain": [
              "\n",
              "\tF test to compare two variances\n",
              "\n",
              "data:  A and B\n",
              "F = 0.39205, num df = 99, denom df = 99, p-value = 4.973e-06\n",
              "alternative hypothesis: true ratio of variances is not equal to 1\n",
              "95 percent confidence interval:\n",
              " 0.2637849 0.5826720\n",
              "sample estimates:\n",
              "ratio of variances \n",
              "          0.392046 \n"
            ]
          },
          "metadata": {}
        }
      ]
    },
    {
      "cell_type": "markdown",
      "source": [
        "R에서 기본으로 제공하는 명령어 var.test를 이용한다. 명령문의 괄호 안에는 비교대상인 두 표본을 입력한다.  \n",
        "$H_0:\\sigma^2_A = \\sigma^2_B$, $H_1:\\sigma^2_A \\ne \\sigma^2_B$에 대한 검정을 시행했다."
      ],
      "metadata": {
        "id": "b1zhTAl6HX6d"
      }
    },
    {
      "cell_type": "markdown",
      "source": [
        "### 결과 해석\n",
        "p-value가 4.973e-06 이므로, 유의수준 5% 하에서 귀무가설을 기각한다. 즉, 두 표본 A, B의 모분산이 동일하다고 할 수 없다."
      ],
      "metadata": {
        "id": "ehx5EsxoHnvU"
      }
    },
    {
      "cell_type": "code",
      "source": [],
      "metadata": {
        "id": "cskfhFk0HWce"
      },
      "execution_count": null,
      "outputs": []
    }
  ]
}