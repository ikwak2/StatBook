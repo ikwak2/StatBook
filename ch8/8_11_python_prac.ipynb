{
  "nbformat": 4,
  "nbformat_minor": 0,
  "metadata": {
    "colab": {
      "provenance": [],
      "authorship_tag": "ABX9TyM3kKooA6CWtGmrAMqXo+s0",
      "include_colab_link": true
    },
    "kernelspec": {
      "name": "python3",
      "display_name": "Python 3"
    },
    "language_info": {
      "name": "python"
    }
  },
  "cells": [
    {
      "cell_type": "markdown",
      "metadata": {
        "id": "view-in-github",
        "colab_type": "text"
      },
      "source": [
        "<a href=\"https://colab.research.google.com/github/ikwak2/StatBook/blob/main/ch8/8_11_python_prac.ipynb\" target=\"_parent\"><img src=\"https://colab.research.google.com/assets/colab-badge.svg\" alt=\"Open In Colab\"/></a>"
      ]
    },
    {
      "cell_type": "markdown",
      "source": [
        "# 8.11 Python 연습\n",
        "\n",
        "## <예 8-2>의 단일집단의 t검정 과정\n",
        "### 자료 입력\n"
      ],
      "metadata": {
        "id": "KEqwHnBa8QRX"
      }
    },
    {
      "cell_type": "code",
      "source": [
        "import numpy as np\n",
        "\n",
        "x1 = np.array([10.8, 12.2, 9.5, 10.3, 8.6, 8.3, 9.5, 10, 11.5, 10.1])\n",
        "mean_x1 = np.mean(x1)\n",
        "sd_x1 = np.std(x1, ddof=1)  \n",
        "length_x1 = len(x1) #x1에 속한 원소의 개수 (=n)\n",
        "\n",
        "print(\"Mean:\", mean_x1)\n",
        "print(\"Standard Deviation:\", sd_x1)\n",
        "print(\"Length:\", length_x1)"
      ],
      "metadata": {
        "colab": {
          "base_uri": "https://localhost:8080/"
        },
        "id": "dISGp6cbNslP",
        "outputId": "2e8050a4-bfef-4b19-c834-196d1435e2fb"
      },
      "execution_count": 2,
      "outputs": [
        {
          "output_type": "stream",
          "name": "stdout",
          "text": [
            "Mean: 10.079999999999998\n",
            "Standard Deviation: 1.2072006185109967\n",
            "Length: 10\n"
          ]
        }
      ]
    },
    {
      "cell_type": "markdown",
      "source": [
        "x1에 검정에 필요한 기초 자료를 저장한다. 앞의 기본 함수들을 이용하여 요약통계량을 구한다. len(x1)은 x1 자료의 길이로 표본 수 n에 해당한다."
      ],
      "metadata": {
        "id": "61LFtJ-MSKnJ"
      }
    },
    {
      "cell_type": "markdown",
      "source": [
        "### 가설검정"
      ],
      "metadata": {
        "id": "DFp0T3cdSQXI"
      }
    },
    {
      "cell_type": "code",
      "source": [
        "import scipy.stats as stats\n",
        "\n",
        "t_stat, p_value = stats.ttest_1samp(x1, popmean=10)\n",
        "\n",
        "print(\"t-statistic:\", t_stat)\n",
        "print(\"p-value:\", p_value)"
      ],
      "metadata": {
        "colab": {
          "base_uri": "https://localhost:8080/"
        },
        "id": "dwQ4fp9hSYRY",
        "outputId": "4aff9c0b-84be-4ab9-bd71-3e128513cbe3"
      },
      "execution_count": 4,
      "outputs": [
        {
          "output_type": "stream",
          "name": "stdout",
          "text": [
            "t-statistic: 0.20956103644603993\n",
            "p-value: 0.838677112362188\n"
          ]
        }
      ]
    },
    {
      "cell_type": "markdown",
      "source": [
        "앞의 결과는 $H_0: \\mu=10$을 검정하기 위한 명령문과 결과이다. R에서 기본으로 제공되는 명령어 t.test를 이용하며, 자료, 귀무가설 하의 , 검정의 종류를 순서대로 입력하여 사용한다. 위 그림의 명령문 stats.ttest_1samp(x1,popmean=10)에서 x1은 자료, popmean=10은 귀무가설 하의 $\\mu$를 10으로 하겠다는 것을 의미한다. 대립가설의 종류를 따로 입력하지 않으면 기본값으로 양측검정을 시행하게 된다. 명령문을 입력하면 단일집단 t검정의 결과가 출력된다. data는 사용한 자료, t는 검정통계량의 값(t값), df는 자유도, p-value는 유의확률(p값)을 나타낸다.  \n",
        "$H_0: \\mu=10$에 대한 대립가설을 따로 지정하지 않았으므로 $H_1: \\mu\\ne10$에 대한 검정을 시행했다. "
      ],
      "metadata": {
        "id": "oEW74hgL8d7R"
      }
    },
    {
      "cell_type": "markdown",
      "source": [
        "### 검정 결과\n",
        "p-value가 0.8387로 유의수준 5% 하에서 귀무가설을 기각하지 못한다. 즉, 위의 표본관측 결과에 의할 때 표본(x1)의 평균이 10이 아니라고 할 수 없다. 결과창에서 $\\mu$의 95% 신뢰구간과 표본평균도 함께 출력된다. "
      ],
      "metadata": {
        "id": "DQzpIMlISjhh"
      }
    },
    {
      "cell_type": "markdown",
      "source": [
        "## 두 모집단 t검정 과정(두 모집단의 분산이 동일하지 않다고 전제할 수 있는 경우)\n",
        "### 자료 입력"
      ],
      "metadata": {
        "id": "n5Zfew2JSlpn"
      }
    },
    {
      "cell_type": "code",
      "source": [
        "import numpy as np\n",
        "\n",
        "np.random.seed(1)  # Set the random seed\n",
        "\n",
        "A = np.round(np.random.normal(70, 10, 100))\n",
        "B = np.round(np.random.normal(80, 15, 100))\n",
        "\n",
        "print(\"A:\", A)\n",
        "print(\"B:\", B)"
      ],
      "metadata": {
        "id": "wTx1rr9_8yMd",
        "colab": {
          "base_uri": "https://localhost:8080/"
        },
        "outputId": "66121e60-a140-46e3-d224-b79a2d5a23e8"
      },
      "execution_count": 5,
      "outputs": [
        {
          "output_type": "stream",
          "name": "stdout",
          "text": [
            "A: [86. 64. 65. 59. 79. 47. 87. 62. 73. 68. 85. 49. 67. 66. 81. 59. 68. 61.\n",
            " 70. 76. 59. 81. 79. 75. 79. 63. 69. 61. 67. 75. 63. 66. 63. 62. 63. 70.\n",
            " 59. 72. 87. 77. 68. 61. 63. 87. 71. 64. 72. 91. 71. 76. 73. 66. 59. 67.\n",
            " 68. 76. 78. 79. 73. 79. 62. 83. 75. 67. 75. 69. 81. 85. 92. 56. 56. 65.\n",
            " 72. 79. 73. 50. 67. 78. 72. 78. 68. 68. 72. 74. 72. 71. 63. 74. 71. 81.\n",
            " 82. 72. 66. 64. 74. 71. 67. 70. 64. 77.]\n",
            "B: [ 73.  98.  86.  89.  64.  83.  91.  66.  76.  80.  59.  85.  93.  67.\n",
            "  85.  60.  79.  56.  97.  86.  80.  68.  99. 110.  52.  99. 104.  85.\n",
            "  62.  93.  77.  71.  62.  88.  92.  71.  88.  63.  92.  81.  77.  78.\n",
            "  93.  91.  88.  82.  81.  89.  83.  90.  75.  43.  96. 113.  87.  78.\n",
            "  78.  78.  80.  63.  72.  65.  84.  76.  87.  77.  95.  83. 113.  52.\n",
            "  70.  94. 118.  76.  81.  77. 100.  76.  90.  75.  61.  85.  88.  99.\n",
            "  78.  71.  88.  84.  84.  79.  97.  86. 109.  97.  90.  56.  89.  86.\n",
            "  92.  96.]\n"
          ]
        }
      ]
    },
    {
      "cell_type": "markdown",
      "source": [
        "두 모집단의 모분산이 동일하지 않을 경우를 가정한 t검정의 예제를 위해 정규분포를 따르는 크기 100의 적당한 자료벡터를 2개 생성한다. <자료 A>는 평균 70, 표준편차 10인 정규분포에서 랜덤하게 추출한 100개의 표본이고, <자료 B>는 평균 80, 표준편차 15인 정규분포에서 랜덤하게 추출한 100개의 표본이다. 여기서 np.random.seed(1) 은 랜덤하게 생성되는 난수를 고정하기 위해 사용되었고, np.round는 소수점을 반올림하여 자연수를 만들어주는 명령어이다. t검정을 위해서는 정규성 검정이 선행되어야 하지만 이 예제에서는 정규분포로부터 표본을 만들었으므로 생략한다."
      ],
      "metadata": {
        "id": "Ynrwe885Swvg"
      }
    },
    {
      "cell_type": "markdown",
      "source": [
        "### 가설검정"
      ],
      "metadata": {
        "id": "b2mAwOY3Sy4S"
      }
    },
    {
      "cell_type": "code",
      "source": [
        "from scipy.stats import ttest_ind\n",
        "\n",
        "result = ttest_ind(A, B, equal_var=False)\n",
        "\n",
        "print(\"T-statistic:\", result.statistic)\n",
        "print(\"P-value:\", result.pvalue)\n"
      ],
      "metadata": {
        "colab": {
          "base_uri": "https://localhost:8080/"
        },
        "id": "buoSgqEBOX2K",
        "outputId": "2db1f161-662a-4373-995e-08e0801a9c4e"
      },
      "execution_count": 6,
      "outputs": [
        {
          "output_type": "stream",
          "name": "stdout",
          "text": [
            "T-statistic: -7.024405103147163\n",
            "P-value: 5.195724631628114e-11\n"
          ]
        }
      ]
    },
    {
      "cell_type": "markdown",
      "source": [
        "위 결과는 $H_0:\\mu_A = \\mu_B$ 를 검정하기 위한 명령문과 결과이다. 단일집단 t검정과 동일하게 R에서 기본으로 제공되는 명령어 t.test를 이용한다. 이 경우 검정을 위한 두 표본자료, 등분산 가정 여부, 검정의 종류를 순서대로 입력하여 사용한다. 위 그림의 명령문 t.test(A,B,var.equal=F)에서 A와 B는 표본자료, var.equal=F는 등분산을 가정하지 않겠다는 것을 의미한다. 여기서 F는 FALSE로도 입력할 수 있다. 등분산을 가정하는 경우는 T 혹은 TRUE로 입력한다. 대립가설의 종류를 따로 입력하지 않으면 기본값으로 양측검정을 시행하게 된다. 명령문을 입력하면 두 모집단 t검정의 결과가 출력된다.  \n",
        "$H_0:\\mu_A = \\mu_B$에 대한 대립가설을 따로 지정하지 않았으므로 $H_1:\\mu_A \\ne \\mu_B$에 대한 검정을 시행했다. "
      ],
      "metadata": {
        "id": "m1o-Okpz80jq"
      }
    },
    {
      "cell_type": "markdown",
      "source": [
        "3) 검정 결과\n",
        "p-value로 볼 때 유의수준 5% 하에서 귀무가설을 기각한다. 즉, 위의 표본관측 결과에 의할 때 유의수준 5% 하에서 표본 A와 표본 B의 모집단 평균이 같다고 할 수 없다."
      ],
      "metadata": {
        "id": "WWd-IBGtTwGQ"
      }
    },
    {
      "cell_type": "markdown",
      "source": [
        "## <예 8-7>의 짝진표본 t검정 과정\n",
        "### 자료 입력"
      ],
      "metadata": {
        "id": "89VUmlaoT00R"
      }
    },
    {
      "cell_type": "code",
      "source": [
        "A = np.array([10.6, 9.4, 12.3, 9.7, 8.3])\n",
        "B = np.array([10.2, 9.8, 11.8, 9.1, 8.8])\n",
        "\n",
        "print(\"A:\", A)\n",
        "print(\"B:\", B)"
      ],
      "metadata": {
        "colab": {
          "base_uri": "https://localhost:8080/"
        },
        "id": "htJel1d3Tv1N",
        "outputId": "6f818473-5e03-45a6-ea9a-67a49563aca1"
      },
      "execution_count": 7,
      "outputs": [
        {
          "output_type": "stream",
          "name": "stdout",
          "text": [
            "A: [10.6  9.4 12.3  9.7  8.3]\n",
            "B: [10.2  9.8 11.8  9.1  8.8]\n"
          ]
        }
      ]
    },
    {
      "cell_type": "markdown",
      "source": [
        "A와 B에 검정에 필요한 기초 자료를 입력한다. 짝진표본 t검정의 경우 두 자료벡터 A, B에 입력되는 자료의 순서가 동일해야 한다. <예 8-7>에서 10.6, 10.2는 동일한 자동차에서 실험된 타이어의 마모율이므로, 각각 첫 번째 열에 입력한다. 이처럼 순서가 같은 열에 있는 자료는 서로 짝진 관계에 있어야 하고, 두 자료벡터의 길이는 같아야 한다.\n",
        "\n",
        "### 가설검정"
      ],
      "metadata": {
        "id": "VCW3q7o5T9aR"
      }
    },
    {
      "cell_type": "code",
      "source": [
        "from scipy import stats\n",
        "\n",
        "A = [10.6, 9.4, 12.3, 9.7, 8.3]\n",
        "B = [10.2, 9.8, 11.8, 9.1, 8.8]\n",
        "\n",
        "t_statistic, p_value = stats.ttest_rel(A, B, alternative=\"two-sided\")\n",
        "\n",
        "print(\"T-statistic:\", t_statistic)\n",
        "print(\"P-value:\", p_value)"
      ],
      "metadata": {
        "id": "YoF6ldWg8uA6",
        "colab": {
          "base_uri": "https://localhost:8080/"
        },
        "outputId": "b2d2615d-f859-4296-efbf-752b29f39a07"
      },
      "execution_count": 8,
      "outputs": [
        {
          "output_type": "stream",
          "name": "stdout",
          "text": [
            "T-statistic: 0.5098311463945046\n",
            "P-value: 0.6370119478117968\n"
          ]
        }
      ]
    },
    {
      "cell_type": "markdown",
      "source": [
        "앞의 그림은 $H_0:\\mu_A = \\mu_B$ 를 검정하기 위한 명령문과 결과이다. 명령문에서 A, B는 검정에 사용되는 자료, paired=T는 짝진표본 t검정을 사용하겠다는 의미이다. 여기서 T는 TRUE로도 입력할 수 있다. 입력하지 않으면 기본값으로 두 모집단 t검정을 실시하게 된다. alt=’two.sided’에서 대립가설의 종류를 양측검정으로 지정했다. ‘  ’안에 greater, less를 입력함으로써 대립가설의 종류를 바꿀 수 있다. alt=‘대립가설’, alternative=‘대립가설’과 같이 입력한다.\n",
        "$H_0:\\mu_A = \\mu_B$, $H_1:\\mu_A \\ne \\mu_B$에 대한 검정을 시행했다.\n",
        "\n",
        "\n",
        "3) 검정 결과\n",
        "p-value가 0.637로 유의수준 5% 하에서 귀무가설을 기각할 수 없다. 즉, 5% 유의수준 하에서 두 타이어의 성능은 동일하다고 볼 수 있다."
      ],
      "metadata": {
        "id": "MuNqrAZ4Pt9-"
      }
    },
    {
      "cell_type": "markdown",
      "source": [
        "※ 대립가설의 종류 변경"
      ],
      "metadata": {
        "id": "VDzqMWcePzRs"
      }
    },
    {
      "cell_type": "code",
      "source": [
        "t_statistic, p_value = stats.ttest_rel(A, B, alternative=\"greater\")\n",
        "\n",
        "print(\"T-statistic:\", t_statistic)\n",
        "print(\"P-value:\", p_value)\n",
        "\n"
      ],
      "metadata": {
        "id": "D27Nfs039tCI",
        "colab": {
          "base_uri": "https://localhost:8080/"
        },
        "outputId": "711baf2c-14e2-4d53-a8ac-ed9603df9629"
      },
      "execution_count": 9,
      "outputs": [
        {
          "output_type": "stream",
          "name": "stdout",
          "text": [
            "T-statistic: 0.5098311463945046\n",
            "P-value: 0.3185059739058984\n"
          ]
        }
      ]
    },
    {
      "cell_type": "markdown",
      "source": [
        "위 그림은 대립가설의 종류를 ‘greater’로 지정했을 경우의 검정 결과이다. 이 경우 $H_0:\\mu_A = \\mu_B$, $H_1:\\mu_A > \\mu_B$ 에 대한 검정을 시행했다."
      ],
      "metadata": {
        "id": "Xwpbo-EqQZOm"
      }
    },
    {
      "cell_type": "code",
      "source": [],
      "metadata": {
        "id": "PP6R566eWZnr"
      },
      "execution_count": null,
      "outputs": []
    }
  ]
}