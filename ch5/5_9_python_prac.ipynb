{
  "nbformat": 4,
  "nbformat_minor": 0,
  "metadata": {
    "colab": {
      "provenance": [],
      "authorship_tag": "ABX9TyPuQa6nidYLOQ8JFuF9/0UN",
      "include_colab_link": true
    },
    "kernelspec": {
      "name": "python3",
      "display_name": "Python 3"
    },
    "language_info": {
      "name": "python"
    }
  },
  "cells": [
    {
      "cell_type": "markdown",
      "metadata": {
        "id": "view-in-github",
        "colab_type": "text"
      },
      "source": [
        "<a href=\"https://colab.research.google.com/github/ikwak2/StatBook/blob/main/ch5/5_9_python_prac.ipynb\" target=\"_parent\"><img src=\"https://colab.research.google.com/assets/colab-badge.svg\" alt=\"Open In Colab\"/></a>"
      ]
    },
    {
      "cell_type": "markdown",
      "source": [
        "# 5.9 Python 연습\n",
        "\n",
        "scipy.stat 에 여러 통계분포관련 함수들을 제공한다. \n",
        "\n",
        "[Note] 통계분포함수 접미어  \n",
        ".pmf : 이산형 확률변수의 확률값 구하기. 예) P(X=x) ,X 는 이항분포  \n",
        ".pdf : 연속형 확률변수의 probability density function 값 구하기  \n",
        ".cdf : 누적분포함수에 의한 누적확률값 구하기. 예) P(X<2)=?   \n"
      ],
      "metadata": {
        "id": "KEqwHnBa8QRX"
      }
    },
    {
      "cell_type": "markdown",
      "source": [
        "## 이항분포 확률 구하기 \n",
        "scipy.stats 모듈의 binom 명령문을 사용하여 이항분포 확률값을 구한다. binom.cdf 를 이용하여 이항분포를 따르는 이산형 확률변수의 누적확률값을 구할 수 있다.  \n",
        "binom.pmf은 이항분포의 확률질량함수(probability mass function)로부터 특정 지점의 확률을 구할 수 있다.    \n",
        "<예 5-3>에 있는 자료를 이용하여 안타를 정확하게 3개 칠 확률과 4개 이하로 칠 확률을 구한다."
      ],
      "metadata": {
        "id": "oEW74hgL8d7R"
      }
    },
    {
      "cell_type": "code",
      "source": [
        "from scipy.stats import binom\n",
        "\n",
        "binom.cdf(4, n=10, p=0.3)  #X<=4일 확률\n",
        "# 이항분포의 누적확률값을 구하는 binom.cdf 명령문을 사용한다.\n",
        "# binom.cdf(성공횟수, n=총 시행횟수, p=베르누이 시행의 성공확률)"
      ],
      "metadata": {
        "id": "wTx1rr9_8yMd",
        "colab": {
          "base_uri": "https://localhost:8080/"
        },
        "outputId": "80bf2090-1dd4-4882-9afe-6d204dc8ab28"
      },
      "execution_count": 20,
      "outputs": [
        {
          "output_type": "execute_result",
          "data": {
            "text/plain": [
              "0.8497316674000001"
            ]
          },
          "metadata": {},
          "execution_count": 20
        }
      ]
    },
    {
      "cell_type": "code",
      "source": [
        "binom.cdf(3, n=10, p=0.3) - binom.cdf(2, n=10, p=0.3) #X=3일 확률\n",
        "# binom.cdf은 누적확률값을 구하는 명령어로 위와 같은 식으로 P(X=3)값을 구할 수 있다."
      ],
      "metadata": {
        "colab": {
          "base_uri": "https://localhost:8080/"
        },
        "id": "YwKNI8b8MPgs",
        "outputId": "a6181088-94d9-40b0-88ed-0a2cb264c7d2"
      },
      "execution_count": 22,
      "outputs": [
        {
          "output_type": "execute_result",
          "data": {
            "text/plain": [
              "0.2668279320000004"
            ]
          },
          "metadata": {},
          "execution_count": 22
        }
      ]
    },
    {
      "cell_type": "code",
      "source": [
        "binom.pmf(3, n=10, p=0.3) \n",
        "# 이항분포의 각 개별 확률값을 구하는 binom.pmf 명령문을 사용하여 위와 같은 결과값을 얻을 수 있다."
      ],
      "metadata": {
        "colab": {
          "base_uri": "https://localhost:8080/"
        },
        "id": "QgXY0wPWMPW2",
        "outputId": "35007a61-4dcb-400e-c9b5-2c02d7c057ce"
      },
      "execution_count": 23,
      "outputs": [
        {
          "output_type": "execute_result",
          "data": {
            "text/plain": [
              "0.26682793199999977"
            ]
          },
          "metadata": {},
          "execution_count": 23
        }
      ]
    },
    {
      "cell_type": "markdown",
      "source": [
        "## 포아송분포 확률 구하기\n",
        "ppois 명령문을 사용하여 포아송분포 확률값을 구한다. 위의 pbinom과 마찬가지로 poisson의 줄임말인 pois와 접두어 p가 결합된 명령문이다.  \n",
        "<예 5-9>에 있는 자료를 이용하여 어느 날 교통사고가 전혀 일어나지 않을 확률과 3번 이상 일어날 확률을 구한다."
      ],
      "metadata": {
        "id": "m1o-Okpz80jq"
      }
    },
    {
      "cell_type": "code",
      "source": [
        "from scipy.stats import poisson\n",
        "\n",
        "poisson.cdf(0, mu=5) #X=0일 확률\n",
        "# 포아송분포의 누적확률값을 나타내는 poisson.cdf 명령문을 사용한다.\n",
        "# poisson.cdf(사건 횟수, mu=단위시간당 평균 사건 발생 확률)\n"
      ],
      "metadata": {
        "colab": {
          "base_uri": "https://localhost:8080/"
        },
        "id": "YoF6ldWg8uA6",
        "outputId": "331457e7-a417-4861-d876-f900d8f9cd53"
      },
      "execution_count": 24,
      "outputs": [
        {
          "output_type": "execute_result",
          "data": {
            "text/plain": [
              "0.006737946999085468"
            ]
          },
          "metadata": {},
          "execution_count": 24
        }
      ]
    },
    {
      "cell_type": "code",
      "source": [
        "# poisson.pmf(0, mu=5)를 이용하여 같은 결과값을 얻을 수 있다. \n",
        "poisson.pmf(0, mu=5)\n"
      ],
      "metadata": {
        "colab": {
          "base_uri": "https://localhost:8080/"
        },
        "id": "3ZuTzPVO87Ju",
        "outputId": "c8177f83-8fab-420a-b8b7-c826ee569a71"
      },
      "execution_count": 25,
      "outputs": [
        {
          "output_type": "execute_result",
          "data": {
            "text/plain": [
              "0.006737946999085467"
            ]
          },
          "metadata": {},
          "execution_count": 25
        }
      ]
    },
    {
      "cell_type": "code",
      "source": [
        "#X>=3일 확률\n",
        "1 - poisson.cdf(2, mu=5)"
      ],
      "metadata": {
        "id": "D27Nfs039tCI",
        "colab": {
          "base_uri": "https://localhost:8080/"
        },
        "outputId": "94aaae90-5b7e-4eeb-909f-41432bca0de3"
      },
      "execution_count": 26,
      "outputs": [
        {
          "output_type": "execute_result",
          "data": {
            "text/plain": [
              "0.8753479805169189"
            ]
          },
          "metadata": {},
          "execution_count": 26
        }
      ]
    }
  ]
}