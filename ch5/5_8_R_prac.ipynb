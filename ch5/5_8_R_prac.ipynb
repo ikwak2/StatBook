{
  "nbformat": 4,
  "nbformat_minor": 0,
  "metadata": {
    "colab": {
      "provenance": [],
      "authorship_tag": "ABX9TyNd2Ei2Q8j1PTTsqYy5NchB",
      "include_colab_link": true
    },
    "kernelspec": {
      "name": "ir",
      "display_name": "R"
    },
    "language_info": {
      "name": "R"
    }
  },
  "cells": [
    {
      "cell_type": "markdown",
      "metadata": {
        "id": "view-in-github",
        "colab_type": "text"
      },
      "source": [
        "<a href=\"https://colab.research.google.com/github/ikwak2/StatBook/blob/main/ch5/5_8_R_prac.ipynb\" target=\"_parent\"><img src=\"https://colab.research.google.com/assets/colab-badge.svg\" alt=\"Open In Colab\"/></a>"
      ]
    },
    {
      "cell_type": "markdown",
      "source": [
        "# 5.8 R 연습\n",
        "\n",
        "[Note] 통계분포함수 접두어  \n",
        "d(ensity) : 확률값 구하기. 예) P(X=x)  \n",
        "p(robability) : 누적분포함수에 의한 누적확률값 구하기. 예) P(X<2)=?  \n",
        "q(uantile) : 누적확률에 해당하는 분위(x) 구하기. 예) P(X<?]=0.2  \n",
        "r(andom) : 난수 생성.  \n",
        "이항분포, 포아송분포, 정규분포, 지수분포, t분포 등 분포함수 앞에 붙어 각 기능을 제공한다.  "
      ],
      "metadata": {
        "id": "DLO0E2f_1PeI"
      }
    },
    {
      "cell_type": "markdown",
      "source": [
        "## 이항분포 확률 구하기 \n",
        "pbinom 명령문을 사용하여 이항분포 확률값을 구한다. pbinom은 binomial의 줄임말인 binom과 접두어 p가 결합된 형태로 이항분포의 누적분포함수에 의한 누적확률값을 구하는 명령어이다.  \n",
        "dbinom은 binomial의 줄임말인 binom과 접두어 d가 결합된 형태로 특정 지점의 확률을 구하는 명령어이다.  \n",
        "<예 5-3>에 있는 자료를 이용하여 안타를 정확하게 3개 칠 확률과 4개 이하로 칠 확률을 구한다."
      ],
      "metadata": {
        "id": "YbmXTptW1aOp"
      }
    },
    {
      "cell_type": "code",
      "source": [
        "pbinom(4, size=10, prob=0.3)  #X<=4일 확률\n",
        "# 이항분포의 누적확률값을 구하는 pbinom 명령문을 사용한다.\n",
        "# pbinom(성공횟수, size=총 시행횟수, prob=베르누이 시행의 성공확률)"
      ],
      "metadata": {
        "colab": {
          "base_uri": "https://localhost:8080/",
          "height": 34
        },
        "id": "48RtOhxS9yvF",
        "outputId": "56f626b3-1bf2-447c-b67c-ce3b40d07949"
      },
      "execution_count": 2,
      "outputs": [
        {
          "output_type": "display_data",
          "data": {
            "text/html": [
              "0.8497316674"
            ],
            "text/markdown": "0.8497316674",
            "text/latex": "0.8497316674",
            "text/plain": [
              "[1] 0.8497317"
            ]
          },
          "metadata": {}
        }
      ]
    },
    {
      "cell_type": "code",
      "source": [
        "pbinom(3, size=10, prob=0.3)-pbinom(2, size=10, prob=0.3) #X=3일 확률\n",
        "# pbinom은 누적확률값을 구하는 명령어로 위와 같은 식으로 P(X=3)값을 구할 수 있다."
      ],
      "metadata": {
        "colab": {
          "base_uri": "https://localhost:8080/",
          "height": 34
        },
        "id": "nMVgtlGL90bQ",
        "outputId": "b16d1fea-e79f-4b64-cf6d-3b38f50bc845"
      },
      "execution_count": 3,
      "outputs": [
        {
          "output_type": "display_data",
          "data": {
            "text/html": [
              "0.266827932"
            ],
            "text/markdown": "0.266827932",
            "text/latex": "0.266827932",
            "text/plain": [
              "[1] 0.2668279"
            ]
          },
          "metadata": {}
        }
      ]
    },
    {
      "cell_type": "code",
      "source": [
        "dbinom(3, size=10, prob=0.3)\n",
        "# 이항분포의 각 개별 확률값을 구하는 dbinom 명령문을 사용하여 위와 같은 결과값을 얻을 수 있다."
      ],
      "metadata": {
        "id": "GQ_GO6C31Zxh",
        "colab": {
          "base_uri": "https://localhost:8080/",
          "height": 34
        },
        "outputId": "c3aa87a4-1d48-498c-d6c5-f59cce21cbb7"
      },
      "execution_count": 4,
      "outputs": [
        {
          "output_type": "display_data",
          "data": {
            "text/html": [
              "0.266827932"
            ],
            "text/markdown": "0.266827932",
            "text/latex": "0.266827932",
            "text/plain": [
              "[1] 0.2668279"
            ]
          },
          "metadata": {}
        }
      ]
    },
    {
      "cell_type": "markdown",
      "source": [
        "## 포아송분포 확률 구하기\n",
        "ppois 명령문을 사용하여 포아송분포 확률값을 구한다. 위의 pbinom과 마찬가지로 poisson의 줄임말인 pois와 접두어 p가 결합된 명령문이다.  \n",
        "<예 5-9>에 있는 자료를 이용하여 어느 날 교통사고가 전혀 일어나지 않을 확률과 3번 이상 일어날 확률을 구한다."
      ],
      "metadata": {
        "id": "CCOK9qgb1hNA"
      }
    },
    {
      "cell_type": "code",
      "execution_count": 5,
      "metadata": {
        "colab": {
          "base_uri": "https://localhost:8080/",
          "height": 34
        },
        "id": "cTj_m6oa09dS",
        "outputId": "00227269-3c6f-4000-d445-28e8d9254042"
      },
      "outputs": [
        {
          "output_type": "display_data",
          "data": {
            "text/html": [
              "0.00673794699908547"
            ],
            "text/markdown": "0.00673794699908547",
            "text/latex": "0.00673794699908547",
            "text/plain": [
              "[1] 0.006737947"
            ]
          },
          "metadata": {}
        }
      ],
      "source": [
        "ppois(0, lambda=5)  #X=0일 확률\n",
        "# 포아송분포의 누적확률값을 나타내는 ppois 명령문을 사용한다.\n",
        "# ppois(사건 횟수, lambda=단위시간당 평균 사건 발생 확률)\n"
      ]
    },
    {
      "cell_type": "code",
      "source": [
        "# dpois(0, lambda=5)를 이용하여 같은 결과값을 얻을 수 있다. \n",
        "dpois(0, lambda=5)"
      ],
      "metadata": {
        "colab": {
          "base_uri": "https://localhost:8080/",
          "height": 34
        },
        "id": "brN326j3-NrZ",
        "outputId": "448fa7f9-9ddb-451e-bd24-f5532fcd9112"
      },
      "execution_count": 7,
      "outputs": [
        {
          "output_type": "display_data",
          "data": {
            "text/html": [
              "0.00673794699908547"
            ],
            "text/markdown": "0.00673794699908547",
            "text/latex": "0.00673794699908547",
            "text/plain": [
              "[1] 0.006737947"
            ]
          },
          "metadata": {}
        }
      ]
    },
    {
      "cell_type": "code",
      "source": [
        "#X>=3일 확률\n",
        "1-ppois(2, lambda=5)  "
      ],
      "metadata": {
        "colab": {
          "base_uri": "https://localhost:8080/",
          "height": 34
        },
        "id": "1E6CUAZn-LBJ",
        "outputId": "2b58656a-32ae-4f45-f305-9a6fc77334eb"
      },
      "execution_count": 6,
      "outputs": [
        {
          "output_type": "display_data",
          "data": {
            "text/html": [
              "0.875347980516919"
            ],
            "text/markdown": "0.875347980516919",
            "text/latex": "0.875347980516919",
            "text/plain": [
              "[1] 0.875348"
            ]
          },
          "metadata": {}
        }
      ]
    },
    {
      "cell_type": "code",
      "source": [],
      "metadata": {
        "id": "pzB8Hlri87EF"
      },
      "execution_count": null,
      "outputs": []
    }
  ]
}