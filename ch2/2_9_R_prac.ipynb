{
  "nbformat": 4,
  "nbformat_minor": 0,
  "metadata": {
    "colab": {
      "provenance": [],
      "authorship_tag": "ABX9TyMMDA1qVCZTk1LL2jIvcUwM",
      "include_colab_link": true
    },
    "kernelspec": {
      "name": "ir",
      "display_name": "R"
    },
    "language_info": {
      "name": "R"
    }
  },
  "cells": [
    {
      "cell_type": "markdown",
      "metadata": {
        "id": "view-in-github",
        "colab_type": "text"
      },
      "source": [
        "<a href=\"https://colab.research.google.com/github/ikwak2/StatBook/blob/main/ch2/2_9_R_prac.ipynb\" target=\"_parent\"><img src=\"https://colab.research.google.com/assets/colab-badge.svg\" alt=\"Open In Colab\"/></a>"
      ]
    },
    {
      "cell_type": "markdown",
      "source": [
        "# 2.9 R 연습"
      ],
      "metadata": {
        "id": "psexK3Df4nwp"
      }
    },
    {
      "cell_type": "code",
      "execution_count": 9,
      "metadata": {
        "id": "f6uoDl_l3f4H"
      },
      "outputs": [],
      "source": [
        "## 현재 폴더로 예제파일 ch2_1.txt 파일을 다운받습니다. \n",
        "system(\"wget https://raw.githubusercontent.com/ikwak2/StatBook/main/ch2/ch2_1.txt\")\n"
      ]
    },
    {
      "cell_type": "markdown",
      "source": [
        "## 자료 입력\n",
        "주어진 자료를 입력하기 위해서는 부록에 제시된 ‘ch2_1.txt’의 파일을 사용하여 불러들여야 한다. 데이터 입력의 기본적인 명령문으로는 외부 txt 파일의 경우 scan 명령문을 사용한다. 이에 대한 명령문은 다음과 같다."
      ],
      "metadata": {
        "id": "AY4Fnzsc5Afr"
      }
    },
    {
      "cell_type": "code",
      "source": [
        "scan(\"ch2_1.txt\")"
      ],
      "metadata": {
        "colab": {
          "base_uri": "https://localhost:8080/",
          "height": 34
        },
        "id": "0E8QgHu-4mPr",
        "outputId": "84a8b1a3-fd37-4d15-8a81-4d75b72d9eea"
      },
      "execution_count": 10,
      "outputs": [
        {
          "output_type": "display_data",
          "data": {
            "text/html": [
              "<style>\n",
              ".list-inline {list-style: none; margin:0; padding: 0}\n",
              ".list-inline>li {display: inline-block}\n",
              ".list-inline>li:not(:last-child)::after {content: \"\\00b7\"; padding: 0 .5ex}\n",
              "</style>\n",
              "<ol class=list-inline><li>55</li><li>47</li><li>85</li><li>30</li><li>45</li><li>22</li><li>88</li><li>24</li><li>45</li><li>89</li><li>63</li><li>25</li><li>78</li><li>51</li><li>66</li><li>42</li><li>81</li><li>77</li><li>23</li><li>35</li><li>85</li><li>96</li><li>86</li><li>12</li><li>45</li><li>6</li><li>74</li><li>55</li><li>24</li><li>77</li><li>53</li><li>26</li><li>45</li><li>30</li><li>20</li><li>89</li><li>12</li><li>71</li><li>87</li><li>95</li><li>12</li><li>32</li><li>46</li><li>79</li><li>57</li><li>39</li><li>43</li><li>32</li><li>86</li><li>74</li></ol>\n"
            ],
            "text/markdown": "1. 55\n2. 47\n3. 85\n4. 30\n5. 45\n6. 22\n7. 88\n8. 24\n9. 45\n10. 89\n11. 63\n12. 25\n13. 78\n14. 51\n15. 66\n16. 42\n17. 81\n18. 77\n19. 23\n20. 35\n21. 85\n22. 96\n23. 86\n24. 12\n25. 45\n26. 6\n27. 74\n28. 55\n29. 24\n30. 77\n31. 53\n32. 26\n33. 45\n34. 30\n35. 20\n36. 89\n37. 12\n38. 71\n39. 87\n40. 95\n41. 12\n42. 32\n43. 46\n44. 79\n45. 57\n46. 39\n47. 43\n48. 32\n49. 86\n50. 74\n\n\n",
            "text/latex": "\\begin{enumerate*}\n\\item 55\n\\item 47\n\\item 85\n\\item 30\n\\item 45\n\\item 22\n\\item 88\n\\item 24\n\\item 45\n\\item 89\n\\item 63\n\\item 25\n\\item 78\n\\item 51\n\\item 66\n\\item 42\n\\item 81\n\\item 77\n\\item 23\n\\item 35\n\\item 85\n\\item 96\n\\item 86\n\\item 12\n\\item 45\n\\item 6\n\\item 74\n\\item 55\n\\item 24\n\\item 77\n\\item 53\n\\item 26\n\\item 45\n\\item 30\n\\item 20\n\\item 89\n\\item 12\n\\item 71\n\\item 87\n\\item 95\n\\item 12\n\\item 32\n\\item 46\n\\item 79\n\\item 57\n\\item 39\n\\item 43\n\\item 32\n\\item 86\n\\item 74\n\\end{enumerate*}\n",
            "text/plain": [
              " [1] 55 47 85 30 45 22 88 24 45 89 63 25 78 51 66 42 81 77 23 35 85 96 86 12 45\n",
              "[26]  6 74 55 24 77 53 26 45 30 20 89 12 71 87 95 12 32 46 79 57 39 43 32 86 74"
            ]
          },
          "metadata": {}
        }
      ]
    },
    {
      "cell_type": "code",
      "source": [
        "## read.table 사용하는 경우\n",
        "data = read.table(\"ch2_1.txt\")"
      ],
      "metadata": {
        "id": "Yc5vPrGT5H_U"
      },
      "execution_count": 12,
      "outputs": []
    },
    {
      "cell_type": "markdown",
      "source": [
        "\n",
        "[Note] 중복되는 코드를 줄이기 위하여 “ch2_1”이라는 데이터명으로 ch2_1.txt 데이터를 대입하여 사용하도록 한다. 이때 “<-”라는 문자를 통하여 불러들인 자료를 “ch2_1”에 입력한다."
      ],
      "metadata": {
        "id": "gTX6dVmi5-jq"
      }
    },
    {
      "cell_type": "code",
      "source": [
        "ch2_1<-scan(\"ch2_1.txt\")"
      ],
      "metadata": {
        "id": "XuCxwyNt5zrH"
      },
      "execution_count": 13,
      "outputs": []
    },
    {
      "cell_type": "markdown",
      "source": [
        "## 최대값(maximum)\n",
        "max 명령문을 사용해 최대값을 구한다."
      ],
      "metadata": {
        "id": "a8zwS3c_6Kw4"
      }
    },
    {
      "cell_type": "code",
      "source": [
        "max(ch2_1)"
      ],
      "metadata": {
        "colab": {
          "base_uri": "https://localhost:8080/",
          "height": 34
        },
        "id": "0cktJmQu6HRU",
        "outputId": "e6f735b8-23fc-478d-8131-8a8a85c749cf"
      },
      "execution_count": 14,
      "outputs": [
        {
          "output_type": "display_data",
          "data": {
            "text/html": [
              "96"
            ],
            "text/markdown": "96",
            "text/latex": "96",
            "text/plain": [
              "[1] 96"
            ]
          },
          "metadata": {}
        }
      ]
    },
    {
      "cell_type": "markdown",
      "source": [
        "## 최소값(minimum)\n",
        "min 명령문을 사용해 최소값을 구한다."
      ],
      "metadata": {
        "id": "mj_4BpAB6S-i"
      }
    },
    {
      "cell_type": "code",
      "source": [
        "min(ch2_1)"
      ],
      "metadata": {
        "colab": {
          "base_uri": "https://localhost:8080/",
          "height": 34
        },
        "id": "QhrRY1ym6QeQ",
        "outputId": "e0fc6842-fa76-4ab1-e3fb-ffae0f2df450"
      },
      "execution_count": 15,
      "outputs": [
        {
          "output_type": "display_data",
          "data": {
            "text/html": [
              "6"
            ],
            "text/markdown": "6",
            "text/latex": "6",
            "text/plain": [
              "[1] 6"
            ]
          },
          "metadata": {}
        }
      ]
    },
    {
      "cell_type": "markdown",
      "source": [
        "## 평균(mean)\n",
        "mean 명령문을 사용해 평균을 구한다."
      ],
      "metadata": {
        "id": "yKvfm4BF6W2w"
      }
    },
    {
      "cell_type": "code",
      "source": [
        "mean(ch2_1)"
      ],
      "metadata": {
        "colab": {
          "base_uri": "https://localhost:8080/",
          "height": 34
        },
        "id": "bttFOuwa6WLf",
        "outputId": "1106c475-5dc7-40c9-8973-29f8000c991b"
      },
      "execution_count": 16,
      "outputs": [
        {
          "output_type": "display_data",
          "data": {
            "text/html": [
              "53.18"
            ],
            "text/markdown": "53.18",
            "text/latex": "53.18",
            "text/plain": [
              "[1] 53.18"
            ]
          },
          "metadata": {}
        }
      ]
    },
    {
      "cell_type": "markdown",
      "source": [
        "## 분산(variance)\n",
        "var 명령문을 사용해 분산을 구한다."
      ],
      "metadata": {
        "id": "x0uE2cP16bpU"
      }
    },
    {
      "cell_type": "code",
      "source": [
        "var(ch2_1)"
      ],
      "metadata": {
        "colab": {
          "base_uri": "https://localhost:8080/",
          "height": 34
        },
        "id": "PE2tiEwh6aVo",
        "outputId": "a90625d6-6b3d-4157-8248-3aacdc578b39"
      },
      "execution_count": 17,
      "outputs": [
        {
          "output_type": "display_data",
          "data": {
            "text/html": [
              "693.252653061224"
            ],
            "text/markdown": "693.252653061224",
            "text/latex": "693.252653061224",
            "text/plain": [
              "[1] 693.2527"
            ]
          },
          "metadata": {}
        }
      ]
    },
    {
      "cell_type": "markdown",
      "source": [
        "## 최빈값(mode)과 중위수(median) \n",
        "중위수는 한 개의 값으로만 산출되지만, 최빈값은 2개 이상의 값이 산출될 수 있다. R에서는 최빈값 명령문이 따로 존재하지 않으므로, 직접 적당한 함수를 작성하여 사용한다. 중위수는 median 명령문을 사용하여 구한다."
      ],
      "metadata": {
        "id": "VlevgYmY6hE5"
      }
    },
    {
      "cell_type": "code",
      "source": [
        "table(ch2_1)[table(ch2_1)[1:length(unique(ch2_1))]==max(table(ch2_1))]"
      ],
      "metadata": {
        "colab": {
          "base_uri": "https://localhost:8080/",
          "height": 34
        },
        "id": "8RARojJm6fut",
        "outputId": "d0832583-ba2b-43ec-9da6-c71a1fd00a94"
      },
      "execution_count": 18,
      "outputs": [
        {
          "output_type": "display_data",
          "data": {
            "text/html": [
              "<strong>45:</strong> 4"
            ],
            "text/markdown": "**45:** 4",
            "text/latex": "\\textbf{45:} 4",
            "text/plain": [
              "45 \n",
              " 4 "
            ]
          },
          "metadata": {}
        }
      ]
    },
    {
      "cell_type": "markdown",
      "source": [
        "관측값의 수가 4개인 45가 최빈값임을 의미한다."
      ],
      "metadata": {
        "id": "vD9wiRxN7XlJ"
      }
    },
    {
      "cell_type": "code",
      "source": [
        "median(ch2_1)"
      ],
      "metadata": {
        "colab": {
          "base_uri": "https://localhost:8080/",
          "height": 34
        },
        "id": "zkqSRwQF6lGG",
        "outputId": "6fb532b3-a4c0-4a55-8e97-a9ca657e8a3e"
      },
      "execution_count": 19,
      "outputs": [
        {
          "output_type": "display_data",
          "data": {
            "text/html": [
              "49"
            ],
            "text/markdown": "49",
            "text/latex": "49",
            "text/plain": [
              "[1] 49"
            ]
          },
          "metadata": {}
        }
      ]
    },
    {
      "cell_type": "markdown",
      "source": [
        "## 도수분포표(frequence table)\n",
        "구간점 지정을 통하여 연속형 자료를 범주형으로 변환하여 나타낼 수 있다. cut 명령어와 table 명령어를 이용하여 분포표를 구할 수 있다."
      ],
      "metadata": {
        "id": "xvra9yMo7b_f"
      }
    },
    {
      "cell_type": "code",
      "source": [
        "# 0부터 97까지 나눈 구간점을 bins 데이터셋에 지정한다.\n",
        "bins<-c(0, 12, 24, 36, 48, 60, 72, 84, 97)"
      ],
      "metadata": {
        "id": "mRNI-MV_7aDv"
      },
      "execution_count": 20,
      "outputs": []
    },
    {
      "cell_type": "code",
      "source": [
        "# cut 명령문으로 자료의 소속구간을 지정하여 class에 저장한다. 이때 구간점은 bins로 사용한다.\n",
        "class<-cut(ch2_1, breaks=bins)"
      ],
      "metadata": {
        "id": "-ZuzKh-w7kho"
      },
      "execution_count": 21,
      "outputs": []
    },
    {
      "cell_type": "code",
      "source": [
        "# 자료의 도수분포표를 출력한다.\n",
        "table(class)"
      ],
      "metadata": {
        "colab": {
          "base_uri": "https://localhost:8080/",
          "height": 72
        },
        "id": "DbCCkeyV7m6p",
        "outputId": "cf277882-fdfa-4ce3-bccd-12c7cf253fa5"
      },
      "execution_count": 22,
      "outputs": [
        {
          "output_type": "display_data",
          "data": {
            "text/plain": [
              "class\n",
              " (0,12] (12,24] (24,36] (36,48] (48,60] (60,72] (72,84] (84,97] \n",
              "      4       5       7       9       5       3       7      10 "
            ]
          },
          "metadata": {}
        }
      ]
    },
    {
      "cell_type": "code",
      "source": [
        "# 상대도수분포표를 출력한다.\n",
        "table(class)/length(ch2_1)\n"
      ],
      "metadata": {
        "colab": {
          "base_uri": "https://localhost:8080/",
          "height": 72
        },
        "id": "0wiQ1R8o7pyo",
        "outputId": "a4747230-9c8f-4e15-9ab5-8800d9e518ed"
      },
      "execution_count": 23,
      "outputs": [
        {
          "output_type": "display_data",
          "data": {
            "text/plain": [
              "class\n",
              " (0,12] (12,24] (24,36] (36,48] (48,60] (60,72] (72,84] (84,97] \n",
              "   0.08    0.10    0.14    0.18    0.10    0.06    0.14    0.20 "
            ]
          },
          "metadata": {}
        }
      ]
    },
    {
      "cell_type": "code",
      "source": [
        "# 아래와 같은 형태로 표현 가능하다.\n",
        "transform(table(class), Rel_Freq=prop.table(Freq))"
      ],
      "metadata": {
        "colab": {
          "base_uri": "https://localhost:8080/",
          "height": 349
        },
        "id": "hvCRs7Wm7wrg",
        "outputId": "afad1718-8b3b-4871-ea30-b38be142f10d"
      },
      "execution_count": 24,
      "outputs": [
        {
          "output_type": "display_data",
          "data": {
            "text/html": [
              "<table class=\"dataframe\">\n",
              "<caption>A data.frame: 8 × 3</caption>\n",
              "<thead>\n",
              "\t<tr><th scope=col>class</th><th scope=col>Freq</th><th scope=col>Rel_Freq</th></tr>\n",
              "\t<tr><th scope=col>&lt;fct&gt;</th><th scope=col>&lt;int&gt;</th><th scope=col>&lt;dbl&gt;</th></tr>\n",
              "</thead>\n",
              "<tbody>\n",
              "\t<tr><td>(0,12] </td><td> 4</td><td>0.08</td></tr>\n",
              "\t<tr><td>(12,24]</td><td> 5</td><td>0.10</td></tr>\n",
              "\t<tr><td>(24,36]</td><td> 7</td><td>0.14</td></tr>\n",
              "\t<tr><td>(36,48]</td><td> 9</td><td>0.18</td></tr>\n",
              "\t<tr><td>(48,60]</td><td> 5</td><td>0.10</td></tr>\n",
              "\t<tr><td>(60,72]</td><td> 3</td><td>0.06</td></tr>\n",
              "\t<tr><td>(72,84]</td><td> 7</td><td>0.14</td></tr>\n",
              "\t<tr><td>(84,97]</td><td>10</td><td>0.20</td></tr>\n",
              "</tbody>\n",
              "</table>\n"
            ],
            "text/markdown": "\nA data.frame: 8 × 3\n\n| class &lt;fct&gt; | Freq &lt;int&gt; | Rel_Freq &lt;dbl&gt; |\n|---|---|---|\n| (0,12]  |  4 | 0.08 |\n| (12,24] |  5 | 0.10 |\n| (24,36] |  7 | 0.14 |\n| (36,48] |  9 | 0.18 |\n| (48,60] |  5 | 0.10 |\n| (60,72] |  3 | 0.06 |\n| (72,84] |  7 | 0.14 |\n| (84,97] | 10 | 0.20 |\n\n",
            "text/latex": "A data.frame: 8 × 3\n\\begin{tabular}{lll}\n class & Freq & Rel\\_Freq\\\\\n <fct> & <int> & <dbl>\\\\\n\\hline\n\t (0,12{]}  &  4 & 0.08\\\\\n\t (12,24{]} &  5 & 0.10\\\\\n\t (24,36{]} &  7 & 0.14\\\\\n\t (36,48{]} &  9 & 0.18\\\\\n\t (48,60{]} &  5 & 0.10\\\\\n\t (60,72{]} &  3 & 0.06\\\\\n\t (72,84{]} &  7 & 0.14\\\\\n\t (84,97{]} & 10 & 0.20\\\\\n\\end{tabular}\n",
            "text/plain": [
              "  class   Freq Rel_Freq\n",
              "1 (0,12]   4   0.08    \n",
              "2 (12,24]  5   0.10    \n",
              "3 (24,36]  7   0.14    \n",
              "4 (36,48]  9   0.18    \n",
              "5 (48,60]  5   0.10    \n",
              "6 (60,72]  3   0.06    \n",
              "7 (72,84]  7   0.14    \n",
              "8 (84,97] 10   0.20    "
            ]
          },
          "metadata": {}
        }
      ]
    },
    {
      "cell_type": "markdown",
      "source": [
        "## 막대그림표(histogram)\n",
        "hist 명령문을 사용하여 막대그림표를 그린다."
      ],
      "metadata": {
        "id": "zpitx6fS7zjD"
      }
    },
    {
      "cell_type": "code",
      "source": [
        "# 위와 같이 구간점을 지정하지 않을 경우, R 내부에서 자동으로 지정되어 출력된다.\n",
        "hist(ch2_1)"
      ],
      "metadata": {
        "colab": {
          "base_uri": "https://localhost:8080/",
          "height": 437
        },
        "id": "BP_QSFZ47xga",
        "outputId": "9722cb11-5f3a-491d-cdc0-2d7139309306"
      },
      "execution_count": 25,
      "outputs": [
        {
          "output_type": "display_data",
          "data": {
            "text/plain": [
              "Plot with title “Histogram of ch2_1”"
            ],
            "image/png": "[encoded data removed]"
          },
          "metadata": {
            "image/png": {
              "width": 420,
              "height": 420
            }
          }
        }
      ]
    },
    {
      "cell_type": "code",
      "source": [
        "# hist(데이터셋명, breaks=구분점, main=“큰제목”, xlab=“X축 제목”)\n",
        "hist(ch2_1, breaks=bins, main=\"Test Scores\", xlab=\"Score\")"
      ],
      "metadata": {
        "colab": {
          "base_uri": "https://localhost:8080/",
          "height": 437
        },
        "id": "O6FaJKBV74N2",
        "outputId": "1dc47515-0f41-477c-a350-afa881dea1f2"
      },
      "execution_count": 27,
      "outputs": [
        {
          "output_type": "display_data",
          "data": {
            "text/plain": [
              "Plot with title “Test Scores”"
            ],
            "image/png": "[encoded data removed]"
          },
          "metadata": {
            "image/png": {
              "width": 420,
              "height": 420
            }
          }
        }
      ]
    },
    {
      "cell_type": "markdown",
      "source": [
        "## 사분위수 \n",
        "summary 명령어로 요약표를 산출하여 사분위수 결과를 얻는다."
      ],
      "metadata": {
        "id": "b2Y2tHe98B4X"
      }
    },
    {
      "cell_type": "code",
      "source": [
        "summary(ch2_1)"
      ],
      "metadata": {
        "colab": {
          "base_uri": "https://localhost:8080/",
          "height": 54
        },
        "id": "mm6jKsT377MT",
        "outputId": "d5239fac-2392-4467-a260-9d9ce1669e1d"
      },
      "execution_count": 28,
      "outputs": [
        {
          "output_type": "display_data",
          "data": {
            "text/plain": [
              "   Min. 1st Qu.  Median    Mean 3rd Qu.    Max. \n",
              "   6.00   30.50   49.00   53.18   77.75   96.00 "
            ]
          },
          "metadata": {}
        }
      ]
    },
    {
      "cell_type": "markdown",
      "source": [
        "## 원그림표 그리기\n",
        "pie 명령문을 사용하여 원그림표를 그린다."
      ],
      "metadata": {
        "id": "YiwkyCNF8GUr"
      }
    },
    {
      "cell_type": "code",
      "source": [
        "# “수치”라는 데이터명에 각 퍼센트 수치를 입력한다.\n",
        "수치<-c(70, 17, 8, 3, 2) "
      ],
      "metadata": {
        "id": "v5jrkote8F2E"
      },
      "execution_count": 34,
      "outputs": []
    },
    {
      "cell_type": "code",
      "source": [
        "# “경제책임”이라는 데이터명에 각 퍼센트 수치에 해당하는 명칭을 입력한다.\n",
        "경제책임<-c(\"정부\", \"대기업\", \"금융기관\", \"근로자\", \"모두\")"
      ],
      "metadata": {
        "id": "wYe63hti8ERZ"
      },
      "execution_count": 35,
      "outputs": []
    },
    {
      "cell_type": "code",
      "source": [
        "# “경제책임”에 “수치”를 추가한다.\n",
        "(경제책임<-paste(경제책임, 수치)  )"
      ],
      "metadata": {
        "colab": {
          "base_uri": "https://localhost:8080/",
          "height": 34
        },
        "id": "F4GdGhFy8PUW",
        "outputId": "16fc91d3-6a98-4aa6-a888-87721d34abe9"
      },
      "execution_count": 36,
      "outputs": [
        {
          "output_type": "display_data",
          "data": {
            "text/html": [
              "<style>\n",
              ".list-inline {list-style: none; margin:0; padding: 0}\n",
              ".list-inline>li {display: inline-block}\n",
              ".list-inline>li:not(:last-child)::after {content: \"\\00b7\"; padding: 0 .5ex}\n",
              "</style>\n",
              "<ol class=list-inline><li>'정부 70'</li><li>'대기업 17'</li><li>'금융기관 8'</li><li>'근로자 3'</li><li>'모두 2'</li></ol>\n"
            ],
            "text/markdown": "1. '정부 70'\n2. '대기업 17'\n3. '금융기관 8'\n4. '근로자 3'\n5. '모두 2'\n\n\n",
            "text/latex": "\\begin{enumerate*}\n\\item '정부 70'\n\\item '대기업 17'\n\\item '금융기관 8'\n\\item '근로자 3'\n\\item '모두 2'\n\\end{enumerate*}\n",
            "text/plain": [
              "[1] \"정부 70\"    \"대기업 17\"  \"금융기관 8\" \"근로자 3\"   \"모두 2\"    "
            ]
          },
          "metadata": {}
        }
      ]
    },
    {
      "cell_type": "code",
      "source": [
        "# 퍼센트 기호(%)를 추가한다.\n",
        "(경제책임<-paste(경제책임, \"%\", sep=\" \")  )"
      ],
      "metadata": {
        "colab": {
          "base_uri": "https://localhost:8080/",
          "height": 34
        },
        "id": "hKmzDiHs8aWv",
        "outputId": "976c387f-3f7d-4185-a2f9-c33edec97ee1"
      },
      "execution_count": 38,
      "outputs": [
        {
          "output_type": "display_data",
          "data": {
            "text/html": [
              "<style>\n",
              ".list-inline {list-style: none; margin:0; padding: 0}\n",
              ".list-inline>li {display: inline-block}\n",
              ".list-inline>li:not(:last-child)::after {content: \"\\00b7\"; padding: 0 .5ex}\n",
              "</style>\n",
              "<ol class=list-inline><li>'정부 70 %'</li><li>'대기업 17 %'</li><li>'금융기관 8 %'</li><li>'근로자 3 %'</li><li>'모두 2 %'</li></ol>\n"
            ],
            "text/markdown": "1. '정부 70 %'\n2. '대기업 17 %'\n3. '금융기관 8 %'\n4. '근로자 3 %'\n5. '모두 2 %'\n\n\n",
            "text/latex": "\\begin{enumerate*}\n\\item '정부 70 \\%'\n\\item '대기업 17 \\%'\n\\item '금융기관 8 \\%'\n\\item '근로자 3 \\%'\n\\item '모두 2 \\%'\n\\end{enumerate*}\n",
            "text/plain": [
              "[1] \"정부 70 %\"    \"대기업 17 %\"  \"금융기관 8 %\" \"근로자 3 %\"   \"모두 2 %\"    "
            ]
          },
          "metadata": {}
        }
      ]
    },
    {
      "cell_type": "code",
      "source": [
        "# 원 그래프 추가\n",
        "pie(수치, labels=경제책임, col=rainbow(length(경제책임)), main=\"경제위기의 책임\")\n"
      ],
      "metadata": {
        "colab": {
          "base_uri": "https://localhost:8080/",
          "height": 437
        },
        "id": "mCgC452H8isL",
        "outputId": "8879574b-19d9-458c-902b-bf01bc90a19f"
      },
      "execution_count": 40,
      "outputs": [
        {
          "output_type": "display_data",
          "data": {
            "text/plain": [
              "Plot with title “경제위기의 책임”"
            ],
            "image/png": "[encoded data removed]"
          },
          "metadata": {
            "image/png": {
              "width": 420,
              "height": 420
            }
          }
        }
      ]
    },
    {
      "cell_type": "markdown",
      "source": [
        "Colab 예제에서는 한글이 깨지지만 코드를 다운받아 실행하면 예제가 잘 동작할 것 입니다."
      ],
      "metadata": {
        "id": "LtR2gkji9Fiw"
      }
    },
    {
      "cell_type": "code",
      "source": [],
      "metadata": {
        "id": "DtnHZDuU8phL"
      },
      "execution_count": null,
      "outputs": []
    }
  ]
}