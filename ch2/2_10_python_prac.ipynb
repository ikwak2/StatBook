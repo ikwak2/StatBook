{
  "nbformat": 4,
  "nbformat_minor": 0,
  "metadata": {
    "colab": {
      "provenance": [],
      "authorship_tag": "ABX9TyNbb11BBAo5vh/20NP3J3cX",
      "include_colab_link": true
    },
    "kernelspec": {
      "name": "python3",
      "display_name": "Python 3"
    },
    "language_info": {
      "name": "python"
    }
  },
  "cells": [
    {
      "cell_type": "markdown",
      "metadata": {
        "id": "view-in-github",
        "colab_type": "text"
      },
      "source": [
        "<a href=\"https://colab.research.google.com/github/ikwak2/StatBook/blob/main/ch2/2_10_python_prac.ipynb\" target=\"_parent\"><img src=\"https://colab.research.google.com/assets/colab-badge.svg\" alt=\"Open In Colab\"/></a>"
      ]
    },
    {
      "cell_type": "markdown",
      "source": [
        "# 2.10 Python 연습\n",
        "\n",
        "2.8 엑셀 연습, 2.9 R 연습과 마찬가지로 주어진 자료를 이용해 최대값, 최소값, 평균 등의 통계량과 도수분포표, 히스토그램 등을 구한다. 프로그램 사용방법은 <부록 II> 및 github (https://github.com/ikwak2/StatBook)에 수록되어 있다. "
      ],
      "metadata": {
        "id": "NikypIAj-YzT"
      }
    },
    {
      "cell_type": "markdown",
      "source": [
        "연습용 데이터 다운로드"
      ],
      "metadata": {
        "id": "ywmukcb9-pY1"
      }
    },
    {
      "cell_type": "code",
      "source": [
        "!wget https://raw.githubusercontent.com/ikwak2/StatBook/main/ch2/ch2_1.txt"
      ],
      "metadata": {
        "colab": {
          "base_uri": "https://localhost:8080/"
        },
        "id": "G9U6eSAF-j9J",
        "outputId": "a2f40576-3c79-4b83-f9c0-8aac7dcdff4e"
      },
      "execution_count": 1,
      "outputs": [
        {
          "output_type": "stream",
          "name": "stdout",
          "text": [
            "--2023-05-16 14:33:04--  https://raw.githubusercontent.com/ikwak2/StatBook/main/ch2/ch2_1.txt\n",
            "Resolving raw.githubusercontent.com (raw.githubusercontent.com)... 185.199.108.133, 185.199.109.133, 185.199.110.133, ...\n",
            "Connecting to raw.githubusercontent.com (raw.githubusercontent.com)|185.199.108.133|:443... connected.\n",
            "HTTP request sent, awaiting response... 200 OK\n",
            "Length: 149 [text/plain]\n",
            "Saving to: ‘ch2_1.txt’\n",
            "\n",
            "\rch2_1.txt             0%[                    ]       0  --.-KB/s               \rch2_1.txt           100%[===================>]     149  --.-KB/s    in 0s      \n",
            "\n",
            "2023-05-16 14:33:05 (10.3 MB/s) - ‘ch2_1.txt’ saved [149/149]\n",
            "\n"
          ]
        }
      ]
    },
    {
      "cell_type": "code",
      "source": [
        "!ls"
      ],
      "metadata": {
        "colab": {
          "base_uri": "https://localhost:8080/"
        },
        "id": "XPaHl5Aa_1XB",
        "outputId": "ecbf6a1d-24cc-4254-81e6-ed194d0ef1ff"
      },
      "execution_count": 3,
      "outputs": [
        {
          "output_type": "stream",
          "name": "stdout",
          "text": [
            "ch2_1.txt  sample_data\n"
          ]
        }
      ]
    },
    {
      "cell_type": "markdown",
      "source": [
        "(1) 자료 입력\n",
        "주어진 자료를 입력하기 위해서는 부록에 제시된 ‘ch2_1.txt’의 파일을 사용하여 불러들여야 한다. 본 예제에서는 파일 입력을 위해 NumPy 라이브러리를 사용한다. NumPy는 파이썬에서 다차원 배열과 행렬을 다루는 기능을 제공하는 라이브러리이다. 이에 대한 명령문은 다음과 같다."
      ],
      "metadata": {
        "id": "RO1OoFmK-g39"
      }
    },
    {
      "cell_type": "code",
      "execution_count": 2,
      "metadata": {
        "colab": {
          "base_uri": "https://localhost:8080/"
        },
        "id": "h-E3KXSh-UjY",
        "outputId": "555f20c5-07fd-46da-dcec-b3ae352f063c"
      },
      "outputs": [
        {
          "output_type": "execute_result",
          "data": {
            "text/plain": [
              "array([55., 47., 85., 30., 45., 22., 88., 24., 45., 89., 63., 25., 78.,\n",
              "       51., 66., 42., 81., 77., 23., 35., 85., 96., 86., 12., 45.,  6.,\n",
              "       74., 55., 24., 77., 53., 26., 45., 30., 20., 89., 12., 71., 87.,\n",
              "       95., 12., 32., 46., 79., 57., 39., 43., 32., 86., 74.])"
            ]
          },
          "metadata": {},
          "execution_count": 2
        }
      ],
      "source": [
        "import numpy as np\n",
        "np.loadtxt(\"ch2_1.txt\")"
      ]
    },
    {
      "cell_type": "markdown",
      "source": [
        "[Note] 중복되는 코드를 줄이기 위하여 “ch2_1”이라는 데이터명으로 ch2_1.txt 데이터를 대입하여 사용하도록 한다. "
      ],
      "metadata": {
        "id": "HHDm6B1XAOSC"
      }
    },
    {
      "cell_type": "code",
      "source": [
        "ch2_1=np.loadtxt(\"ch2_1.txt\")"
      ],
      "metadata": {
        "id": "zo39DhV2-8_y"
      },
      "execution_count": 4,
      "outputs": []
    },
    {
      "cell_type": "markdown",
      "source": [
        "## 최대값(maximum)\n",
        "\n",
        "np.max 또는 .max 명령문을 사용해 최대값을 구한다."
      ],
      "metadata": {
        "id": "yK-shikPAWyD"
      }
    },
    {
      "cell_type": "code",
      "source": [
        "np.max(ch2_1)"
      ],
      "metadata": {
        "colab": {
          "base_uri": "https://localhost:8080/"
        },
        "id": "OdjsVFGOAfZx",
        "outputId": "3b8181b9-b6df-4c18-c1ec-7b1362dcbacb"
      },
      "execution_count": 6,
      "outputs": [
        {
          "output_type": "execute_result",
          "data": {
            "text/plain": [
              "96.0"
            ]
          },
          "metadata": {},
          "execution_count": 6
        }
      ]
    },
    {
      "cell_type": "code",
      "source": [
        "ch2_1.max()"
      ],
      "metadata": {
        "colab": {
          "base_uri": "https://localhost:8080/"
        },
        "id": "OgjnwrHoAUfa",
        "outputId": "883a45b9-cdc1-476b-91dd-c579db2a6592"
      },
      "execution_count": 5,
      "outputs": [
        {
          "output_type": "execute_result",
          "data": {
            "text/plain": [
              "96.0"
            ]
          },
          "metadata": {},
          "execution_count": 5
        }
      ]
    },
    {
      "cell_type": "markdown",
      "source": [
        "## 최소값(minimum)\n",
        "np.min 또는 .min 명령문을 사용해 최소값을 구한다."
      ],
      "metadata": {
        "id": "_gpplrzmAoVJ"
      }
    },
    {
      "cell_type": "code",
      "source": [
        "np.min(ch2_1)"
      ],
      "metadata": {
        "colab": {
          "base_uri": "https://localhost:8080/"
        },
        "id": "jPzrH0M9Aewe",
        "outputId": "c7456226-e2b7-4808-88ed-91a2c517bc1b"
      },
      "execution_count": 7,
      "outputs": [
        {
          "output_type": "execute_result",
          "data": {
            "text/plain": [
              "6.0"
            ]
          },
          "metadata": {},
          "execution_count": 7
        }
      ]
    },
    {
      "cell_type": "code",
      "source": [
        "ch2_1.min()"
      ],
      "metadata": {
        "colab": {
          "base_uri": "https://localhost:8080/"
        },
        "id": "u9kf2DirAuHk",
        "outputId": "5e1398fa-121b-484b-9ba1-04a9cc66223b"
      },
      "execution_count": 8,
      "outputs": [
        {
          "output_type": "execute_result",
          "data": {
            "text/plain": [
              "6.0"
            ]
          },
          "metadata": {},
          "execution_count": 8
        }
      ]
    },
    {
      "cell_type": "markdown",
      "source": [
        "## 평균(mean)\n",
        "np.mean 또는 .mean 명령문을 사용해 평균을 구한다."
      ],
      "metadata": {
        "id": "htHZMorVAv7m"
      }
    },
    {
      "cell_type": "code",
      "source": [
        "np.mean(ch2_1)"
      ],
      "metadata": {
        "colab": {
          "base_uri": "https://localhost:8080/"
        },
        "id": "P4rZ-asVAvF5",
        "outputId": "cb84e89e-fac8-48a9-8054-924440e868bd"
      },
      "execution_count": 9,
      "outputs": [
        {
          "output_type": "execute_result",
          "data": {
            "text/plain": [
              "53.18"
            ]
          },
          "metadata": {},
          "execution_count": 9
        }
      ]
    },
    {
      "cell_type": "code",
      "source": [
        "ch2_1.mean()"
      ],
      "metadata": {
        "colab": {
          "base_uri": "https://localhost:8080/"
        },
        "id": "D_chYasHA1G5",
        "outputId": "01f5446a-1251-4d0a-b42e-f3efd2267e0a"
      },
      "execution_count": 10,
      "outputs": [
        {
          "output_type": "execute_result",
          "data": {
            "text/plain": [
              "53.18"
            ]
          },
          "metadata": {},
          "execution_count": 10
        }
      ]
    },
    {
      "cell_type": "markdown",
      "source": [
        "## 분산(variance)\n",
        "np.var 또는 .var 명령문을 사용해 분산을 구한다."
      ],
      "metadata": {
        "id": "XGffid40BD6K"
      }
    },
    {
      "cell_type": "code",
      "source": [
        "np.var(ch2_1)"
      ],
      "metadata": {
        "colab": {
          "base_uri": "https://localhost:8080/"
        },
        "id": "n1V-dOPKA2Mo",
        "outputId": "7259ca7a-c888-43ad-90d9-59bce255e732"
      },
      "execution_count": 11,
      "outputs": [
        {
          "output_type": "execute_result",
          "data": {
            "text/plain": [
              "679.3875999999999"
            ]
          },
          "metadata": {},
          "execution_count": 11
        }
      ]
    },
    {
      "cell_type": "code",
      "source": [
        "ch2_1.var()"
      ],
      "metadata": {
        "colab": {
          "base_uri": "https://localhost:8080/"
        },
        "id": "ffeNeNDzBG2e",
        "outputId": "51b56f1f-d3d1-4375-fb80-8767165fea42"
      },
      "execution_count": 12,
      "outputs": [
        {
          "output_type": "execute_result",
          "data": {
            "text/plain": [
              "679.3875999999999"
            ]
          },
          "metadata": {},
          "execution_count": 12
        }
      ]
    },
    {
      "cell_type": "markdown",
      "source": [
        "## 최빈값(mode)과 중위수(median) \n",
        "최빈값은 scipy 라이브러리를 활용하여 구할 수 있다. scipy.stats.mode 함수를 활용한다.  \n",
        "중위수는 np.median 명령문을 사용하여 구한다."
      ],
      "metadata": {
        "id": "nobHU8rTBYJQ"
      }
    },
    {
      "cell_type": "code",
      "source": [
        "import scipy"
      ],
      "metadata": {
        "id": "hiSTzdXYBIGF"
      },
      "execution_count": 13,
      "outputs": []
    },
    {
      "cell_type": "code",
      "source": [
        "scipy.stats.mode(ch2_1, keepdims = True)"
      ],
      "metadata": {
        "colab": {
          "base_uri": "https://localhost:8080/"
        },
        "id": "eoQwuBRgBon_",
        "outputId": "2e7b3a73-b79a-44ba-e7d8-4f655475e4ef"
      },
      "execution_count": 18,
      "outputs": [
        {
          "output_type": "execute_result",
          "data": {
            "text/plain": [
              "ModeResult(mode=array([45.]), count=array([4]))"
            ]
          },
          "metadata": {},
          "execution_count": 18
        }
      ]
    },
    {
      "cell_type": "code",
      "source": [
        "np.median(ch2_1)"
      ],
      "metadata": {
        "colab": {
          "base_uri": "https://localhost:8080/"
        },
        "id": "Y-rxDjGWBsTu",
        "outputId": "1a311d75-4b5a-4874-a298-f9f7bf6d418b"
      },
      "execution_count": 19,
      "outputs": [
        {
          "output_type": "execute_result",
          "data": {
            "text/plain": [
              "49.0"
            ]
          },
          "metadata": {},
          "execution_count": 19
        }
      ]
    },
    {
      "cell_type": "markdown",
      "source": [
        "## 도수분포표(frequence table)\n",
        "구간점 지정을 통하여 연속형 자료를 범주형으로 변환하여 나타낼 수 있다. pandas, numpy 라이브러리를 활용하여 아래와 같은 명령어를 이용하여 분포표를 구할 수 있다."
      ],
      "metadata": {
        "id": "KpOhWzVBCmp7"
      }
    },
    {
      "cell_type": "code",
      "source": [
        "import pandas as pd\n",
        "import numpy as np\n",
        "\n",
        "# 0부터 97까지 나눈 구간점을 bins 리스트에 지정한다.\n",
        "bins = [0, 12, 24, 36, 48, 60, 72, 84, 97]"
      ],
      "metadata": {
        "id": "682VJ2jnCfHU"
      },
      "execution_count": 23,
      "outputs": []
    },
    {
      "cell_type": "code",
      "source": [
        "# cut 명령문으로 자료의 소속구간을 지정하여 class에 저장한다. 이때 구간점은 bins로 사용한다.\n",
        "class_ = pd.cut(ch2_1, bins=bins)"
      ],
      "metadata": {
        "id": "Zh9O5i4qDv7d"
      },
      "execution_count": 24,
      "outputs": []
    },
    {
      "cell_type": "code",
      "source": [
        "# 자료의 도수분포표를 생성한다.\n",
        "frequency_table = pd.value_counts(class_)\n",
        "frequency_table"
      ],
      "metadata": {
        "colab": {
          "base_uri": "https://localhost:8080/"
        },
        "id": "lp2Ijp54D1UC",
        "outputId": "1e9bf879-24c2-4389-8b20-bb3d95484cd7"
      },
      "execution_count": 26,
      "outputs": [
        {
          "output_type": "execute_result",
          "data": {
            "text/plain": [
              "(84, 97]    10\n",
              "(36, 48]     9\n",
              "(24, 36]     7\n",
              "(72, 84]     7\n",
              "(12, 24]     5\n",
              "(48, 60]     5\n",
              "(0, 12]      4\n",
              "(60, 72]     3\n",
              "dtype: int64"
            ]
          },
          "metadata": {},
          "execution_count": 26
        }
      ]
    },
    {
      "cell_type": "code",
      "source": [
        "# 상대도수분포표를 생성한다.\n",
        "relative_frequency_table = frequency_table / len(ch2_1)\n",
        "relative_frequency_table "
      ],
      "metadata": {
        "colab": {
          "base_uri": "https://localhost:8080/"
        },
        "id": "aqzj3ZrQD62d",
        "outputId": "93f67b77-e81b-4fe2-87aa-0ce04c34c6b3"
      },
      "execution_count": 27,
      "outputs": [
        {
          "output_type": "execute_result",
          "data": {
            "text/plain": [
              "(84, 97]    0.20\n",
              "(36, 48]    0.18\n",
              "(24, 36]    0.14\n",
              "(72, 84]    0.14\n",
              "(12, 24]    0.10\n",
              "(48, 60]    0.10\n",
              "(0, 12]     0.08\n",
              "(60, 72]    0.06\n",
              "dtype: float64"
            ]
          },
          "metadata": {},
          "execution_count": 27
        }
      ]
    },
    {
      "cell_type": "code",
      "source": [
        "# 결과를 데이터프레임으로 변환하고 'Freq'와 'Rel_Freq'라는 열 이름을 지정한다.\n",
        "result = pd.DataFrame({'Freq': frequency_table, 'Rel_Freq': relative_frequency_table})\n",
        "result"
      ],
      "metadata": {
        "colab": {
          "base_uri": "https://localhost:8080/",
          "height": 300
        },
        "id": "nBUEMCBUEBVk",
        "outputId": "527758e0-5e42-4f41-8491-a119eefa0a98"
      },
      "execution_count": 30,
      "outputs": [
        {
          "output_type": "execute_result",
          "data": {
            "text/plain": [
              "          Freq  Rel_Freq\n",
              "(84, 97]    10      0.20\n",
              "(36, 48]     9      0.18\n",
              "(24, 36]     7      0.14\n",
              "(72, 84]     7      0.14\n",
              "(12, 24]     5      0.10\n",
              "(48, 60]     5      0.10\n",
              "(0, 12]      4      0.08\n",
              "(60, 72]     3      0.06"
            ],
            "text/html": [
              "\n",
              "  <div id=\"df-4ee54043-cd13-4ef3-a609-0218ea97f221\">\n",
              "    <div class=\"colab-df-container\">\n",
              "      <div>\n",
              "<style scoped>\n",
              "    .dataframe tbody tr th:only-of-type {\n",
              "        vertical-align: middle;\n",
              "    }\n",
              "\n",
              "    .dataframe tbody tr th {\n",
              "        vertical-align: top;\n",
              "    }\n",
              "\n",
              "    .dataframe thead th {\n",
              "        text-align: right;\n",
              "    }\n",
              "</style>\n",
              "<table border=\"1\" class=\"dataframe\">\n",
              "  <thead>\n",
              "    <tr style=\"text-align: right;\">\n",
              "      <th></th>\n",
              "      <th>Freq</th>\n",
              "      <th>Rel_Freq</th>\n",
              "    </tr>\n",
              "  </thead>\n",
              "  <tbody>\n",
              "    <tr>\n",
              "      <th>(84, 97]</th>\n",
              "      <td>10</td>\n",
              "      <td>0.20</td>\n",
              "    </tr>\n",
              "    <tr>\n",
              "      <th>(36, 48]</th>\n",
              "      <td>9</td>\n",
              "      <td>0.18</td>\n",
              "    </tr>\n",
              "    <tr>\n",
              "      <th>(24, 36]</th>\n",
              "      <td>7</td>\n",
              "      <td>0.14</td>\n",
              "    </tr>\n",
              "    <tr>\n",
              "      <th>(72, 84]</th>\n",
              "      <td>7</td>\n",
              "      <td>0.14</td>\n",
              "    </tr>\n",
              "    <tr>\n",
              "      <th>(12, 24]</th>\n",
              "      <td>5</td>\n",
              "      <td>0.10</td>\n",
              "    </tr>\n",
              "    <tr>\n",
              "      <th>(48, 60]</th>\n",
              "      <td>5</td>\n",
              "      <td>0.10</td>\n",
              "    </tr>\n",
              "    <tr>\n",
              "      <th>(0, 12]</th>\n",
              "      <td>4</td>\n",
              "      <td>0.08</td>\n",
              "    </tr>\n",
              "    <tr>\n",
              "      <th>(60, 72]</th>\n",
              "      <td>3</td>\n",
              "      <td>0.06</td>\n",
              "    </tr>\n",
              "  </tbody>\n",
              "</table>\n",
              "</div>\n",
              "      <button class=\"colab-df-convert\" onclick=\"convertToInteractive('df-4ee54043-cd13-4ef3-a609-0218ea97f221')\"\n",
              "              title=\"Convert this dataframe to an interactive table.\"\n",
              "              style=\"display:none;\">\n",
              "        \n",
              "  <svg xmlns=\"http://www.w3.org/2000/svg\" height=\"24px\"viewBox=\"0 0 24 24\"\n",
              "       width=\"24px\">\n",
              "    <path d=\"M0 0h24v24H0V0z\" fill=\"none\"/>\n",
              "    <path d=\"M18.56 5.44l.94 2.06.94-2.06 2.06-.94-2.06-.94-.94-2.06-.94 2.06-2.06.94zm-11 1L8.5 8.5l.94-2.06 2.06-.94-2.06-.94L8.5 2.5l-.94 2.06-2.06.94zm10 10l.94 2.06.94-2.06 2.06-.94-2.06-.94-.94-2.06-.94 2.06-2.06.94z\"/><path d=\"M17.41 7.96l-1.37-1.37c-.4-.4-.92-.59-1.43-.59-.52 0-1.04.2-1.43.59L10.3 9.45l-7.72 7.72c-.78.78-.78 2.05 0 2.83L4 21.41c.39.39.9.59 1.41.59.51 0 1.02-.2 1.41-.59l7.78-7.78 2.81-2.81c.8-.78.8-2.07 0-2.86zM5.41 20L4 18.59l7.72-7.72 1.47 1.35L5.41 20z\"/>\n",
              "  </svg>\n",
              "      </button>\n",
              "      \n",
              "  <style>\n",
              "    .colab-df-container {\n",
              "      display:flex;\n",
              "      flex-wrap:wrap;\n",
              "      gap: 12px;\n",
              "    }\n",
              "\n",
              "    .colab-df-convert {\n",
              "      background-color: #E8F0FE;\n",
              "      border: none;\n",
              "      border-radius: 50%;\n",
              "      cursor: pointer;\n",
              "      display: none;\n",
              "      fill: #1967D2;\n",
              "      height: 32px;\n",
              "      padding: 0 0 0 0;\n",
              "      width: 32px;\n",
              "    }\n",
              "\n",
              "    .colab-df-convert:hover {\n",
              "      background-color: #E2EBFA;\n",
              "      box-shadow: 0px 1px 2px rgba(60, 64, 67, 0.3), 0px 1px 3px 1px rgba(60, 64, 67, 0.15);\n",
              "      fill: #174EA6;\n",
              "    }\n",
              "\n",
              "    [theme=dark] .colab-df-convert {\n",
              "      background-color: #3B4455;\n",
              "      fill: #D2E3FC;\n",
              "    }\n",
              "\n",
              "    [theme=dark] .colab-df-convert:hover {\n",
              "      background-color: #434B5C;\n",
              "      box-shadow: 0px 1px 3px 1px rgba(0, 0, 0, 0.15);\n",
              "      filter: drop-shadow(0px 1px 2px rgba(0, 0, 0, 0.3));\n",
              "      fill: #FFFFFF;\n",
              "    }\n",
              "  </style>\n",
              "\n",
              "      <script>\n",
              "        const buttonEl =\n",
              "          document.querySelector('#df-4ee54043-cd13-4ef3-a609-0218ea97f221 button.colab-df-convert');\n",
              "        buttonEl.style.display =\n",
              "          google.colab.kernel.accessAllowed ? 'block' : 'none';\n",
              "\n",
              "        async function convertToInteractive(key) {\n",
              "          const element = document.querySelector('#df-4ee54043-cd13-4ef3-a609-0218ea97f221');\n",
              "          const dataTable =\n",
              "            await google.colab.kernel.invokeFunction('convertToInteractive',\n",
              "                                                     [key], {});\n",
              "          if (!dataTable) return;\n",
              "\n",
              "          const docLinkHtml = 'Like what you see? Visit the ' +\n",
              "            '<a target=\"_blank\" href=https://colab.research.google.com/notebooks/data_table.ipynb>data table notebook</a>'\n",
              "            + ' to learn more about interactive tables.';\n",
              "          element.innerHTML = '';\n",
              "          dataTable['output_type'] = 'display_data';\n",
              "          await google.colab.output.renderOutput(dataTable, element);\n",
              "          const docLink = document.createElement('div');\n",
              "          docLink.innerHTML = docLinkHtml;\n",
              "          element.appendChild(docLink);\n",
              "        }\n",
              "      </script>\n",
              "    </div>\n",
              "  </div>\n",
              "  "
            ]
          },
          "metadata": {},
          "execution_count": 30
        }
      ]
    },
    {
      "cell_type": "markdown",
      "source": [
        "## 막대그림표(histogram)\n",
        "matplotlib 라이브러리를 사용하여 아래코드와 같이 막대그림표를 그릴 수 있다."
      ],
      "metadata": {
        "id": "T4BuxQxHEa2N"
      }
    },
    {
      "cell_type": "code",
      "source": [
        "import matplotlib.pyplot as plt\n",
        "\n",
        "plt.hist(ch2_1)\n",
        "plt.title(\"Test Scores\")\n",
        "plt.xlabel(\"Score\")\n",
        "plt.show()\n",
        "\n"
      ],
      "metadata": {
        "colab": {
          "base_uri": "https://localhost:8080/",
          "height": 472
        },
        "id": "q6Rqsn2JEHjk",
        "outputId": "1ecac893-aba6-46a4-b4bf-88d980433865"
      },
      "execution_count": 31,
      "outputs": [
        {
          "output_type": "display_data",
          "data": {
            "text/plain": [
              "<Figure size 640x480 with 1 Axes>"
            ],
            "image/png": "[encoded data removed]"
          },
          "metadata": {}
        }
      ]
    },
    {
      "cell_type": "code",
      "source": [
        "plt.hist(ch2_1, bins=bins)\n",
        "plt.title(\"Test Scores\")\n",
        "plt.xlabel(\"Score\")\n",
        "plt.show()"
      ],
      "metadata": {
        "colab": {
          "base_uri": "https://localhost:8080/",
          "height": 472
        },
        "id": "HIqN8D8EEriC",
        "outputId": "1b7c72ef-18d4-4f34-8e2b-4e0fbbf21758"
      },
      "execution_count": 32,
      "outputs": [
        {
          "output_type": "display_data",
          "data": {
            "text/plain": [
              "<Figure size 640x480 with 1 Axes>"
            ],
            "image/png": "[encoded data removed]"
          },
          "metadata": {}
        }
      ]
    },
    {
      "cell_type": "markdown",
      "source": [
        "## Boxplot 과 Violin 플롯 그리기\n",
        "matplotlib 라이브러리를 활용하여 아래 코드와 같이 Boxplot, Violin 플롯을 그릴 수 있다."
      ],
      "metadata": {
        "id": "LyivOYpoFM9-"
      }
    },
    {
      "cell_type": "code",
      "source": [
        "plt.boxplot(ch2_1)\n",
        "plt.title(\"Box Plot of ch2_1\")\n",
        "plt.xlabel(\"Variable\")\n",
        "plt.ylabel(\"Value\")\n",
        "plt.show()"
      ],
      "metadata": {
        "colab": {
          "base_uri": "https://localhost:8080/",
          "height": 472
        },
        "id": "4NYKN4aUEr0q",
        "outputId": "3c04c819-f99a-4fe2-d1fb-28f85552d887"
      },
      "execution_count": 33,
      "outputs": [
        {
          "output_type": "display_data",
          "data": {
            "text/plain": [
              "<Figure size 640x480 with 1 Axes>"
            ],
            "image/png": "[encoded data removed]"
          },
          "metadata": {}
        }
      ]
    },
    {
      "cell_type": "code",
      "source": [
        "plt.violinplot(ch2_1)\n",
        "plt.title(\"Violin Plot of ch2_1\")\n",
        "plt.xlabel(\"Variable\")\n",
        "plt.ylabel(\"Value\")\n",
        "plt.show()"
      ],
      "metadata": {
        "colab": {
          "base_uri": "https://localhost:8080/",
          "height": 472
        },
        "id": "yhB0Vdp6FgM8",
        "outputId": "531ba342-2783-48ff-a67b-f546972e5475"
      },
      "execution_count": 34,
      "outputs": [
        {
          "output_type": "display_data",
          "data": {
            "text/plain": [
              "<Figure size 640x480 with 1 Axes>"
            ],
            "image/png": "[encoded data removed]"
          },
          "metadata": {}
        }
      ]
    },
    {
      "cell_type": "code",
      "source": [],
      "metadata": {
        "id": "GSmX3EQ9FygF"
      },
      "execution_count": null,
      "outputs": []
    }
  ]
}