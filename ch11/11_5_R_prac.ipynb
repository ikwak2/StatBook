{
  "nbformat": 4,
  "nbformat_minor": 0,
  "metadata": {
    "colab": {
      "provenance": [],
      "authorship_tag": "ABX9TyM6qrqVzbFuloS9hCVtvtvg",
      "include_colab_link": true
    },
    "kernelspec": {
      "name": "ir",
      "display_name": "R"
    },
    "language_info": {
      "name": "R"
    }
  },
  "cells": [
    {
      "cell_type": "markdown",
      "metadata": {
        "id": "view-in-github",
        "colab_type": "text"
      },
      "source": [
        "<a href=\"https://colab.research.google.com/github/ikwak2/StatBook/blob/main/ch11/11_5_R_prac.ipynb\" target=\"_parent\"><img src=\"https://colab.research.google.com/assets/colab-badge.svg\" alt=\"Open In Colab\"/></a>"
      ]
    },
    {
      "cell_type": "markdown",
      "source": [
        "# 11.5 R 연습\n",
        "\n",
        "## <예 11-1>에 대한 카이제곱 적합도 검정 과정\n",
        "### 자료의 입력"
      ],
      "metadata": {
        "id": "DLO0E2f_1PeI"
      }
    },
    {
      "cell_type": "code",
      "source": [
        "p<-c(713,215,22.,52)\n",
        "x<-c(690,232,234,44)\n",
        "p\n",
        "x"
      ],
      "metadata": {
        "id": "GpzuAcpBM5Me",
        "colab": {
          "base_uri": "https://localhost:8080/",
          "height": 52
        },
        "outputId": "a9121812-e478-4ff6-a874-fca2b46a91bc"
      },
      "execution_count": 1,
      "outputs": [
        {
          "output_type": "display_data",
          "data": {
            "text/html": [
              "<style>\n",
              ".list-inline {list-style: none; margin:0; padding: 0}\n",
              ".list-inline>li {display: inline-block}\n",
              ".list-inline>li:not(:last-child)::after {content: \"\\00b7\"; padding: 0 .5ex}\n",
              "</style>\n",
              "<ol class=list-inline><li>713</li><li>215</li><li>22</li><li>52</li></ol>\n"
            ],
            "text/markdown": "1. 713\n2. 215\n3. 22\n4. 52\n\n\n",
            "text/latex": "\\begin{enumerate*}\n\\item 713\n\\item 215\n\\item 22\n\\item 52\n\\end{enumerate*}\n",
            "text/plain": [
              "[1] 713 215  22  52"
            ]
          },
          "metadata": {}
        },
        {
          "output_type": "display_data",
          "data": {
            "text/html": [
              "<style>\n",
              ".list-inline {list-style: none; margin:0; padding: 0}\n",
              ".list-inline>li {display: inline-block}\n",
              ".list-inline>li:not(:last-child)::after {content: \"\\00b7\"; padding: 0 .5ex}\n",
              "</style>\n",
              "<ol class=list-inline><li>690</li><li>232</li><li>234</li><li>44</li></ol>\n"
            ],
            "text/markdown": "1. 690\n2. 232\n3. 234\n4. 44\n\n\n",
            "text/latex": "\\begin{enumerate*}\n\\item 690\n\\item 232\n\\item 234\n\\item 44\n\\end{enumerate*}\n",
            "text/plain": [
              "[1] 690 232 234  44"
            ]
          },
          "metadata": {}
        }
      ]
    },
    {
      "cell_type": "markdown",
      "source": [
        "여기서 p는 기대도수, x는 관측도수를 나타낸다."
      ],
      "metadata": {
        "id": "eIfUnW6ETRs3"
      }
    },
    {
      "cell_type": "markdown",
      "source": [
        "### 카이제곱 검정"
      ],
      "metadata": {
        "id": "8Eu26rvWTTdC"
      }
    },
    {
      "cell_type": "code",
      "source": [
        "example.11.1<-chisq.test(x,p=p,rescale.p=T)\n",
        "example.11.1"
      ],
      "metadata": {
        "colab": {
          "base_uri": "https://localhost:8080/",
          "height": 109
        },
        "id": "48RtOhxS9yvF",
        "outputId": "31a8bc99-e60c-4673-ac18-51d005319b86"
      },
      "execution_count": 2,
      "outputs": [
        {
          "output_type": "display_data",
          "data": {
            "text/plain": [
              "\n",
              "\tChi-squared test for given probabilities\n",
              "\n",
              "data:  x\n",
              "X-squared = 1675.9, df = 3, p-value < 2.2e-16\n"
            ]
          },
          "metadata": {}
        }
      ]
    },
    {
      "cell_type": "markdown",
      "source": [
        "R에서 기본으로 제공하는 명령어 chisq.test를 이용하여 회귀분석을 실시한다. 명령문에서 괄호 안의 첫 번째는 관측도수, 두 번째는 기대도수이다. 세 번째 옵션 rescale.p=T는 두 번째 입력변수 p를 관측도수로 사용할 것인지의 여부이다. rescale=F를 입력할 경우 p에는 관측도수가 아닌 비율이 들어가야 한다. (이 예제에서는 c(9/16,3/16,3/16,1/16)) \n",
        "\n",
        "### 결과 해석\n",
        "\n",
        "검정하고자 하는 가설은\n",
        "\n",
        "$H_0$ : 실험결과는 멘델의 법칙을 잘 따른다.  \n",
        "$H_1$ : 실험결과는 멘델의 법칙을 잘 따르지 않는다.\n",
        "\n",
        "이다. 출력된 결과에서 P값이 2.2e-16이므로 5% 유의수준 하에서 귀무가설을 기각할 수 없다. 즉, 5% 유의수준 하에서 실험결과는 멘델의 법칙을 잘 따른다고 할 수 있다."
      ],
      "metadata": {
        "id": "sPtgwOHaDc5R"
      }
    },
    {
      "cell_type": "markdown",
      "source": [
        "## <예 11-2>에 대한 카이제곱 독립성 검정 과정\n",
        "### 자료의 입력"
      ],
      "metadata": {
        "id": "TU9-ckKHTsoA"
      }
    },
    {
      "cell_type": "code",
      "source": [
        "y<-matrix(c(23,10,17,296,182,472),nrow=2,byrow=T)\n",
        "rownames(y)<-c(\"감염되었음\",\"감염되지 않았음\")\n",
        "colnames(y)<-c(\"미접종\",\"1회\",\"2회\")\n",
        "y"
      ],
      "metadata": {
        "colab": {
          "base_uri": "https://localhost:8080/",
          "height": 129
        },
        "id": "URxkcyDtQ-mA",
        "outputId": "b97098d1-b6a2-4173-9312-7b4ae9c1f52d"
      },
      "execution_count": 3,
      "outputs": [
        {
          "output_type": "display_data",
          "data": {
            "text/html": [
              "<table class=\"dataframe\">\n",
              "<caption>A matrix: 2 × 3 of type dbl</caption>\n",
              "<thead>\n",
              "\t<tr><th></th><th scope=col>미접종</th><th scope=col>1회</th><th scope=col>2회</th></tr>\n",
              "</thead>\n",
              "<tbody>\n",
              "\t<tr><th scope=row>감염되었음</th><td> 23</td><td> 10</td><td> 17</td></tr>\n",
              "\t<tr><th scope=row>감염되지 않았음</th><td>296</td><td>182</td><td>472</td></tr>\n",
              "</tbody>\n",
              "</table>\n"
            ],
            "text/markdown": "\nA matrix: 2 × 3 of type dbl\n\n| <!--/--> | 미접종 | 1회 | 2회 |\n|---|---|---|---|\n| 감염되었음 |  23 |  10 |  17 |\n| 감염되지 않았음 | 296 | 182 | 472 |\n\n",
            "text/latex": "A matrix: 2 × 3 of type dbl\n\\begin{tabular}{r|lll}\n  & 미접종 & 1회 & 2회\\\\\n\\hline\n\t감염되었음 &  23 &  10 &  17\\\\\n\t감염되지 않았음 & 296 & 182 & 472\\\\\n\\end{tabular}\n",
            "text/plain": [
              "                미접종 1회 2회\n",
              "감염되었음       23     10  17\n",
              "감염되지 않았음 296    182 472"
            ]
          },
          "metadata": {}
        }
      ]
    },
    {
      "cell_type": "markdown",
      "source": [
        "\n",
        "matrix 명령어를 이용하여 행렬을 생성한다. 여기서 rownames, colnames는 각각 행이름, 열이름을 지정하는 명령어이다. 굳이 입력하지 않아도 검정에는 지장이 없다."
      ],
      "metadata": {
        "id": "NYCvMct-RAeC"
      }
    },
    {
      "cell_type": "markdown",
      "source": [
        "### 카이제곱 검정"
      ],
      "metadata": {
        "id": "2PfxpAvSRDDr"
      }
    },
    {
      "cell_type": "code",
      "source": [
        "example.11.2<-chisq.test(y)\n",
        "example.11.2"
      ],
      "metadata": {
        "colab": {
          "base_uri": "https://localhost:8080/",
          "height": 109
        },
        "id": "5HFE2ct2RFg0",
        "outputId": "f8764fa0-3394-4ca9-db02-2f5b191ae245"
      },
      "execution_count": 4,
      "outputs": [
        {
          "output_type": "display_data",
          "data": {
            "text/plain": [
              "\n",
              "\tPearson's Chi-squared test\n",
              "\n",
              "data:  y\n",
              "X-squared = 5.6872, df = 2, p-value = 0.05822\n"
            ]
          },
          "metadata": {}
        }
      ]
    },
    {
      "cell_type": "markdown",
      "source": [
        "R에서 기본으로 제공하는 명령어 chisq.test를 이용하여 회귀분석을 실시한다. 적합도 검정과 달리 행렬 자료를 입력할 경우 행변수, 열변수에 대해 카이제곱 검정을 실시한다. "
      ],
      "metadata": {
        "id": "oPNt7oA7RHti"
      }
    },
    {
      "cell_type": "markdown",
      "source": [
        "### 결과 해석\n",
        "검정하고자 하는 가설은\n",
        "\n",
        "$H_0$ : 예방접종의 실시 여부와 간염의 감염 여부는 서로 독립이다.  \n",
        "$H_1$ : 예방접종의 실시 여부와 간염의 감염 여부는 서로 독립이 아니다."
      ],
      "metadata": {
        "id": "edMH_FsPRb8U"
      }
    },
    {
      "cell_type": "markdown",
      "source": [
        "이다. 출력된 결과에서 P값이 0.05822이므로 5% 유의수준 하에서 귀무가설을 기각할 수 없다. 즉, 5% 유의수준 하에서 예방접종의 실시 여부와 간염의 감염 여부는 서로 독립이라고 할 수 있다. (즉, 서로 관련이 있다고 할 수 없다.)"
      ],
      "metadata": {
        "id": "aK1SBiklUN1u"
      }
    },
    {
      "cell_type": "code",
      "source": [
        "example.11.2$expected"
      ],
      "metadata": {
        "colab": {
          "base_uri": "https://localhost:8080/",
          "height": 129
        },
        "id": "yCFueltQRbpN",
        "outputId": "5e40c616-53db-4f78-9d7c-c38b6ee2f7e0"
      },
      "execution_count": 5,
      "outputs": [
        {
          "output_type": "display_data",
          "data": {
            "text/html": [
              "<table class=\"dataframe\">\n",
              "<caption>A matrix: 2 × 3 of type dbl</caption>\n",
              "<thead>\n",
              "\t<tr><th></th><th scope=col>미접종</th><th scope=col>1회</th><th scope=col>2회</th></tr>\n",
              "</thead>\n",
              "<tbody>\n",
              "\t<tr><th scope=row>감염되었음</th><td> 15.95</td><td>  9.6</td><td> 24.45</td></tr>\n",
              "\t<tr><th scope=row>감염되지 않았음</th><td>303.05</td><td>182.4</td><td>464.55</td></tr>\n",
              "</tbody>\n",
              "</table>\n"
            ],
            "text/markdown": "\nA matrix: 2 × 3 of type dbl\n\n| <!--/--> | 미접종 | 1회 | 2회 |\n|---|---|---|---|\n| 감염되었음 |  15.95 |   9.6 |  24.45 |\n| 감염되지 않았음 | 303.05 | 182.4 | 464.55 |\n\n",
            "text/latex": "A matrix: 2 × 3 of type dbl\n\\begin{tabular}{r|lll}\n  & 미접종 & 1회 & 2회\\\\\n\\hline\n\t감염되었음 &  15.95 &   9.6 &  24.45\\\\\n\t감염되지 않았음 & 303.05 & 182.4 & 464.55\\\\\n\\end{tabular}\n",
            "text/plain": [
              "                미접종 1회   2회   \n",
              "감염되었음       15.95   9.6  24.45\n",
              "감염되지 않았음 303.05 182.4 464.55"
            ]
          },
          "metadata": {}
        }
      ]
    },
    {
      "cell_type": "markdown",
      "source": [
        "각 셀의 기대도수도 확인할 수 있다.\n",
        "\n"
      ],
      "metadata": {
        "id": "XXdwEDIXOT_8"
      }
    }
  ]
}