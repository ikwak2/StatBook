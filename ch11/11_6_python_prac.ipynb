{
  "nbformat": 4,
  "nbformat_minor": 0,
  "metadata": {
    "colab": {
      "provenance": [],
      "authorship_tag": "ABX9TyP5aR2AuvGFgu/1yPsju8gS",
      "include_colab_link": true
    },
    "kernelspec": {
      "name": "python3",
      "display_name": "Python 3"
    },
    "language_info": {
      "name": "python"
    }
  },
  "cells": [
    {
      "cell_type": "markdown",
      "metadata": {
        "id": "view-in-github",
        "colab_type": "text"
      },
      "source": [
        "<a href=\"https://colab.research.google.com/github/ikwak2/StatBook/blob/main/ch11/11_6_python_prac.ipynb\" target=\"_parent\"><img src=\"https://colab.research.google.com/assets/colab-badge.svg\" alt=\"Open In Colab\"/></a>"
      ]
    },
    {
      "cell_type": "markdown",
      "source": [
        "# 11.6 Python 연습\n",
        "\n",
        "## <예 11-1>에 대한 카이제곱 적합도 검정 과정\n",
        "### 자료의 입력\n"
      ],
      "metadata": {
        "id": "KEqwHnBa8QRX"
      }
    },
    {
      "cell_type": "code",
      "source": [
        "import numpy as np\n",
        "p = np.array([713, 215, 22, 52])\n",
        "x = np.array([690, 232, 234, 44])\n",
        "\n",
        "print(\"p:\", p)\n",
        "print(\"x:\", x)"
      ],
      "metadata": {
        "colab": {
          "base_uri": "https://localhost:8080/"
        },
        "id": "MpO8QZaqjLq4",
        "outputId": "b840b9f3-78b1-4e14-8b14-1ee7867fc1c4"
      },
      "execution_count": 10,
      "outputs": [
        {
          "output_type": "stream",
          "name": "stdout",
          "text": [
            "p: [713 215  22  52]\n",
            "x: [690 232 234  44]\n"
          ]
        }
      ]
    },
    {
      "cell_type": "markdown",
      "source": [
        "여기서 p는 기대도수, x는 관측도수를 나타낸다."
      ],
      "metadata": {
        "id": "KtKk1__-jLei"
      }
    },
    {
      "cell_type": "markdown",
      "source": [
        "### 카이제곱 검정\n"
      ],
      "metadata": {
        "id": "t6uTdDj_X02l"
      }
    },
    {
      "cell_type": "code",
      "source": [
        "from scipy.stats import chisquare\n",
        "\n",
        "chisquare(x, f_exp=p)\n"
      ],
      "metadata": {
        "colab": {
          "base_uri": "https://localhost:8080/",
          "height": 382
        },
        "id": "dISGp6cbNslP",
        "outputId": "4a400d1f-2670-4283-b9ff-432658cbc60d"
      },
      "execution_count": 8,
      "outputs": [
        {
          "output_type": "error",
          "ename": "ValueError",
          "evalue": "ignored",
          "traceback": [
            "\u001b[0;31m---------------------------------------------------------------------------\u001b[0m",
            "\u001b[0;31mValueError\u001b[0m                                Traceback (most recent call last)",
            "\u001b[0;32m<ipython-input-8-be5b844f198e>\u001b[0m in \u001b[0;36m<cell line: 3>\u001b[0;34m()\u001b[0m\n\u001b[1;32m      1\u001b[0m \u001b[0;32mfrom\u001b[0m \u001b[0mscipy\u001b[0m\u001b[0;34m.\u001b[0m\u001b[0mstats\u001b[0m \u001b[0;32mimport\u001b[0m \u001b[0mchisquare\u001b[0m\u001b[0;34m\u001b[0m\u001b[0;34m\u001b[0m\u001b[0m\n\u001b[1;32m      2\u001b[0m \u001b[0;34m\u001b[0m\u001b[0m\n\u001b[0;32m----> 3\u001b[0;31m \u001b[0mchisquare\u001b[0m\u001b[0;34m(\u001b[0m\u001b[0mx\u001b[0m\u001b[0;34m,\u001b[0m \u001b[0mf_exp\u001b[0m\u001b[0;34m=\u001b[0m\u001b[0mp\u001b[0m\u001b[0;34m)\u001b[0m\u001b[0;34m\u001b[0m\u001b[0;34m\u001b[0m\u001b[0m\n\u001b[0m",
            "\u001b[0;32m/usr/local/lib/python3.10/dist-packages/scipy/stats/_stats_py.py\u001b[0m in \u001b[0;36mchisquare\u001b[0;34m(f_obs, f_exp, ddof, axis)\u001b[0m\n\u001b[1;32m   7551\u001b[0m \u001b[0;34m\u001b[0m\u001b[0m\n\u001b[1;32m   7552\u001b[0m     \"\"\"\n\u001b[0;32m-> 7553\u001b[0;31m     return power_divergence(f_obs, f_exp=f_exp, ddof=ddof, axis=axis,\n\u001b[0m\u001b[1;32m   7554\u001b[0m                             lambda_=\"pearson\")\n\u001b[1;32m   7555\u001b[0m \u001b[0;34m\u001b[0m\u001b[0m\n",
            "\u001b[0;32m/usr/local/lib/python3.10/dist-packages/scipy/stats/_stats_py.py\u001b[0m in \u001b[0;36mpower_divergence\u001b[0;34m(f_obs, f_exp, ddof, axis, lambda_)\u001b[0m\n\u001b[1;32m   7392\u001b[0m                    \u001b[0;34mf\"of {rtol}, but the percent differences are:\\n\"\u001b[0m\u001b[0;34m\u001b[0m\u001b[0;34m\u001b[0m\u001b[0m\n\u001b[1;32m   7393\u001b[0m                    f\"{relative_diff}\")\n\u001b[0;32m-> 7394\u001b[0;31m             \u001b[0;32mraise\u001b[0m \u001b[0mValueError\u001b[0m\u001b[0;34m(\u001b[0m\u001b[0mmsg\u001b[0m\u001b[0;34m)\u001b[0m\u001b[0;34m\u001b[0m\u001b[0;34m\u001b[0m\u001b[0m\n\u001b[0m\u001b[1;32m   7395\u001b[0m \u001b[0;34m\u001b[0m\u001b[0m\n\u001b[1;32m   7396\u001b[0m     \u001b[0;32melse\u001b[0m\u001b[0;34m:\u001b[0m\u001b[0;34m\u001b[0m\u001b[0;34m\u001b[0m\u001b[0m\n",
            "\u001b[0;31mValueError\u001b[0m: For each axis slice, the sum of the observed frequencies must agree with the sum of the expected frequencies to a relative tolerance of 1e-08, but the percent differences are:\n0.19760479041916168"
          ]
        }
      ]
    },
    {
      "cell_type": "markdown",
      "source": [
        "R에서 기본으로 제공하는 명령어 chisq.test를 이용하여 회귀분석을 실시한다. 명령문에서 괄호 안의 첫 번째는 관측도수, 두 번째는 기대도수이다. 세 번째 옵션 rescale.p=T는 두 번째 입력변수 p를 관측도수로 사용할 것인지의 여부이다. rescale=F를 입력할 경우 p에는 관측도수가 아닌 비율이 들어가야 한다. (이 예제에서는 c(9/16,3/16,3/16,1/16)) "
      ],
      "metadata": {
        "id": "aajGGtcjjgLy"
      }
    },
    {
      "cell_type": "code",
      "source": [
        "import pandas as pd\n",
        "\n",
        "ex10 = pd.read_csv(\"ex10_2.csv\")\n",
        "print(ex10)"
      ],
      "metadata": {
        "colab": {
          "base_uri": "https://localhost:8080/"
        },
        "id": "OQ6Wl9z4YEfD",
        "outputId": "fe5facc6-fc59-4054-994f-459ecc67134f"
      },
      "execution_count": null,
      "outputs": [
        {
          "output_type": "stream",
          "name": "stdout",
          "text": [
            "    value method\n",
            "0      65      A\n",
            "1      87      A\n",
            "2      73      A\n",
            "3      79      A\n",
            "4      81      A\n",
            "5      69      A\n",
            "6      75      B\n",
            "7      69      B\n",
            "8      83      B\n",
            "9      81      B\n",
            "10     72      B\n",
            "11     79      B\n",
            "12     90      B\n",
            "13     59      C\n",
            "14     78      C\n",
            "15     67      C\n",
            "16     62      C\n",
            "17     83      C\n",
            "18     76      C\n",
            "19     94      D\n",
            "20     89      D\n",
            "21     80      D\n",
            "22     88      D\n"
          ]
        }
      ]
    },
    {
      "cell_type": "markdown",
      "source": [
        "pd.read_csv 명령어를 이용하여 ex10_2.csv 파일을 ex10에 저장한다. 첫 번째 변수 value는 시험성적, 두 번째 변수 method는 교육방법이다. 변수명 및 데이터경로에 한글이 있을 경우 오류가 생길 수 있으므로, 가능하면 영문을 사용하는 것이 좋다.  \n",
        "\n",
        "### 일원분류 분산분석"
      ],
      "metadata": {
        "id": "61LFtJ-MSKnJ"
      }
    },
    {
      "cell_type": "code",
      "source": [
        "import statsmodels.api as sm\n",
        "from statsmodels.formula.api import ols\n",
        "\n",
        "ex10_aov = ols('value ~ method', data=ex10).fit() ## anova를 위한 모형 적합\n",
        "\n",
        "print(sm.stats.anova_lm(ex10_aov))"
      ],
      "metadata": {
        "colab": {
          "base_uri": "https://localhost:8080/"
        },
        "id": "dwQ4fp9hSYRY",
        "outputId": "2dcf59e8-6274-441c-e2b2-0a9f9468634d"
      },
      "execution_count": null,
      "outputs": [
        {
          "output_type": "stream",
          "name": "stdout",
          "text": [
            "            df       sum_sq     mean_sq         F    PR(>F)\n",
            "method     3.0   712.586439  237.528813  3.771461  0.028041\n",
            "Residual  19.0  1196.630952   62.980576       NaN       NaN\n"
          ]
        }
      ]
    },
    {
      "cell_type": "markdown",
      "source": [
        "python의 statsmodels 라이브러리에서 제공하는 명령어 anova_lm를 이용하여 분산분석을 실시한다. 명령문에서 statsmodels.formula.api.ols 를 통해 분산분석을 위한 식을 입력한다. ‘~’기호 앞의 변수가 종속변수, 기호 뒤의 변수는 요인이 된다. 위의 식은 교육방법(A, B, C, D)에 따른 시험성적의 평균 차이가 있는가를 알아보는 분석이다. 이 경우 사용하는 자료 ex10 안에 식에 사용되는 변수 value와 method가 포함되어 있어야 한다."
      ],
      "metadata": {
        "id": "OkXIMfPegoWD"
      }
    },
    {
      "cell_type": "markdown",
      "source": [
        "### 결과 해석\n",
        "\n",
        "$\\mu_1 = \\mu_2 = \\mu_3 = \\mu_4 $를 각각의 교육방법에서 모집단의 평균성적이라 할 때, 검정하고자 하는 가설은 다음과 같다.\n",
        "\n",
        "$H_0: \\mu_1 = \\mu_2 = \\mu_3 = \\mu_4$ vs $H_1 : H_0$ 는 사실이 아니다.\n",
        "\n",
        "P값이 0.02804이므로 5% 유의수준 하에서 귀무가설은 기각된다. 즉, 주어진 자료에 의할 때 5% 유의수준 하에서 4가지 교육방법의 효과가 동일하다고 볼 수 없다."
      ],
      "metadata": {
        "id": "LnRrvWohhEvh"
      }
    },
    {
      "cell_type": "markdown",
      "source": [
        "## <예제 10-4> 자료에 대한 분산분석 과정\n",
        "### 자료 입력"
      ],
      "metadata": {
        "id": "oEW74hgL8d7R"
      }
    },
    {
      "cell_type": "code",
      "source": [
        "\n",
        "ex10_2 = pd.read_csv(\"ex10_4.csv\")\n",
        "ex10_2"
      ],
      "metadata": {
        "colab": {
          "base_uri": "https://localhost:8080/",
          "height": 426
        },
        "id": "_8CE-0-pa0ON",
        "outputId": "273b2379-1f47-4ff2-d4d1-7896e629c50b"
      },
      "execution_count": null,
      "outputs": [
        {
          "output_type": "execute_result",
          "data": {
            "text/plain": [
              "    value treat block\n",
              "0     1.7     A     a\n",
              "1     1.5     A     b\n",
              "2     0.1     A     c\n",
              "3     0.6     A     d\n",
              "4     3.4     B     a\n",
              "5     2.6     B     b\n",
              "6     2.3     B     c\n",
              "7     2.2     B     d\n",
              "8     2.3     C     a\n",
              "9     2.1     C     b\n",
              "10    0.8     C     c\n",
              "11    1.6     C     d"
            ],
            "text/html": [
              "\n",
              "  <div id=\"df-9676ba50-efbd-4fb9-84a3-9dbadd65dc22\">\n",
              "    <div class=\"colab-df-container\">\n",
              "      <div>\n",
              "<style scoped>\n",
              "    .dataframe tbody tr th:only-of-type {\n",
              "        vertical-align: middle;\n",
              "    }\n",
              "\n",
              "    .dataframe tbody tr th {\n",
              "        vertical-align: top;\n",
              "    }\n",
              "\n",
              "    .dataframe thead th {\n",
              "        text-align: right;\n",
              "    }\n",
              "</style>\n",
              "<table border=\"1\" class=\"dataframe\">\n",
              "  <thead>\n",
              "    <tr style=\"text-align: right;\">\n",
              "      <th></th>\n",
              "      <th>value</th>\n",
              "      <th>treat</th>\n",
              "      <th>block</th>\n",
              "    </tr>\n",
              "  </thead>\n",
              "  <tbody>\n",
              "    <tr>\n",
              "      <th>0</th>\n",
              "      <td>1.7</td>\n",
              "      <td>A</td>\n",
              "      <td>a</td>\n",
              "    </tr>\n",
              "    <tr>\n",
              "      <th>1</th>\n",
              "      <td>1.5</td>\n",
              "      <td>A</td>\n",
              "      <td>b</td>\n",
              "    </tr>\n",
              "    <tr>\n",
              "      <th>2</th>\n",
              "      <td>0.1</td>\n",
              "      <td>A</td>\n",
              "      <td>c</td>\n",
              "    </tr>\n",
              "    <tr>\n",
              "      <th>3</th>\n",
              "      <td>0.6</td>\n",
              "      <td>A</td>\n",
              "      <td>d</td>\n",
              "    </tr>\n",
              "    <tr>\n",
              "      <th>4</th>\n",
              "      <td>3.4</td>\n",
              "      <td>B</td>\n",
              "      <td>a</td>\n",
              "    </tr>\n",
              "    <tr>\n",
              "      <th>5</th>\n",
              "      <td>2.6</td>\n",
              "      <td>B</td>\n",
              "      <td>b</td>\n",
              "    </tr>\n",
              "    <tr>\n",
              "      <th>6</th>\n",
              "      <td>2.3</td>\n",
              "      <td>B</td>\n",
              "      <td>c</td>\n",
              "    </tr>\n",
              "    <tr>\n",
              "      <th>7</th>\n",
              "      <td>2.2</td>\n",
              "      <td>B</td>\n",
              "      <td>d</td>\n",
              "    </tr>\n",
              "    <tr>\n",
              "      <th>8</th>\n",
              "      <td>2.3</td>\n",
              "      <td>C</td>\n",
              "      <td>a</td>\n",
              "    </tr>\n",
              "    <tr>\n",
              "      <th>9</th>\n",
              "      <td>2.1</td>\n",
              "      <td>C</td>\n",
              "      <td>b</td>\n",
              "    </tr>\n",
              "    <tr>\n",
              "      <th>10</th>\n",
              "      <td>0.8</td>\n",
              "      <td>C</td>\n",
              "      <td>c</td>\n",
              "    </tr>\n",
              "    <tr>\n",
              "      <th>11</th>\n",
              "      <td>1.6</td>\n",
              "      <td>C</td>\n",
              "      <td>d</td>\n",
              "    </tr>\n",
              "  </tbody>\n",
              "</table>\n",
              "</div>\n",
              "      <button class=\"colab-df-convert\" onclick=\"convertToInteractive('df-9676ba50-efbd-4fb9-84a3-9dbadd65dc22')\"\n",
              "              title=\"Convert this dataframe to an interactive table.\"\n",
              "              style=\"display:none;\">\n",
              "        \n",
              "  <svg xmlns=\"http://www.w3.org/2000/svg\" height=\"24px\"viewBox=\"0 0 24 24\"\n",
              "       width=\"24px\">\n",
              "    <path d=\"M0 0h24v24H0V0z\" fill=\"none\"/>\n",
              "    <path d=\"M18.56 5.44l.94 2.06.94-2.06 2.06-.94-2.06-.94-.94-2.06-.94 2.06-2.06.94zm-11 1L8.5 8.5l.94-2.06 2.06-.94-2.06-.94L8.5 2.5l-.94 2.06-2.06.94zm10 10l.94 2.06.94-2.06 2.06-.94-2.06-.94-.94-2.06-.94 2.06-2.06.94z\"/><path d=\"M17.41 7.96l-1.37-1.37c-.4-.4-.92-.59-1.43-.59-.52 0-1.04.2-1.43.59L10.3 9.45l-7.72 7.72c-.78.78-.78 2.05 0 2.83L4 21.41c.39.39.9.59 1.41.59.51 0 1.02-.2 1.41-.59l7.78-7.78 2.81-2.81c.8-.78.8-2.07 0-2.86zM5.41 20L4 18.59l7.72-7.72 1.47 1.35L5.41 20z\"/>\n",
              "  </svg>\n",
              "      </button>\n",
              "      \n",
              "  <style>\n",
              "    .colab-df-container {\n",
              "      display:flex;\n",
              "      flex-wrap:wrap;\n",
              "      gap: 12px;\n",
              "    }\n",
              "\n",
              "    .colab-df-convert {\n",
              "      background-color: #E8F0FE;\n",
              "      border: none;\n",
              "      border-radius: 50%;\n",
              "      cursor: pointer;\n",
              "      display: none;\n",
              "      fill: #1967D2;\n",
              "      height: 32px;\n",
              "      padding: 0 0 0 0;\n",
              "      width: 32px;\n",
              "    }\n",
              "\n",
              "    .colab-df-convert:hover {\n",
              "      background-color: #E2EBFA;\n",
              "      box-shadow: 0px 1px 2px rgba(60, 64, 67, 0.3), 0px 1px 3px 1px rgba(60, 64, 67, 0.15);\n",
              "      fill: #174EA6;\n",
              "    }\n",
              "\n",
              "    [theme=dark] .colab-df-convert {\n",
              "      background-color: #3B4455;\n",
              "      fill: #D2E3FC;\n",
              "    }\n",
              "\n",
              "    [theme=dark] .colab-df-convert:hover {\n",
              "      background-color: #434B5C;\n",
              "      box-shadow: 0px 1px 3px 1px rgba(0, 0, 0, 0.15);\n",
              "      filter: drop-shadow(0px 1px 2px rgba(0, 0, 0, 0.3));\n",
              "      fill: #FFFFFF;\n",
              "    }\n",
              "  </style>\n",
              "\n",
              "      <script>\n",
              "        const buttonEl =\n",
              "          document.querySelector('#df-9676ba50-efbd-4fb9-84a3-9dbadd65dc22 button.colab-df-convert');\n",
              "        buttonEl.style.display =\n",
              "          google.colab.kernel.accessAllowed ? 'block' : 'none';\n",
              "\n",
              "        async function convertToInteractive(key) {\n",
              "          const element = document.querySelector('#df-9676ba50-efbd-4fb9-84a3-9dbadd65dc22');\n",
              "          const dataTable =\n",
              "            await google.colab.kernel.invokeFunction('convertToInteractive',\n",
              "                                                     [key], {});\n",
              "          if (!dataTable) return;\n",
              "\n",
              "          const docLinkHtml = 'Like what you see? Visit the ' +\n",
              "            '<a target=\"_blank\" href=https://colab.research.google.com/notebooks/data_table.ipynb>data table notebook</a>'\n",
              "            + ' to learn more about interactive tables.';\n",
              "          element.innerHTML = '';\n",
              "          dataTable['output_type'] = 'display_data';\n",
              "          await google.colab.output.renderOutput(dataTable, element);\n",
              "          const docLink = document.createElement('div');\n",
              "          docLink.innerHTML = docLinkHtml;\n",
              "          element.appendChild(docLink);\n",
              "        }\n",
              "      </script>\n",
              "    </div>\n",
              "  </div>\n",
              "  "
            ]
          },
          "metadata": {},
          "execution_count": 4
        }
      ]
    },
    {
      "cell_type": "markdown",
      "source": [
        "read.csv 명령어를 이용하여 ex10_4.csv 파일을 ex10_2 에 저장한다. 첫 번째 변수 value는 반응시간, 두 번째 변수 treat는 자극의 종류, 세 번째 변수 block은 사람으로 블록 효과이다. "
      ],
      "metadata": {
        "id": "1dFg9_EvhmBL"
      }
    },
    {
      "cell_type": "code",
      "source": [
        "import statsmodels\n",
        "import statsmodels.api as sm\n",
        "\n",
        "ex_10_two_aov = statsmodels.formula.api.ols(formula=\"value ~ block + treat\", data=ex10_2).fit()\n",
        "ex_10_two_aov_anova = sm.stats.anova_lm(ex_10_two_aov)\n",
        "\n",
        "ex_10_two_aov_anova"
      ],
      "metadata": {
        "colab": {
          "base_uri": "https://localhost:8080/",
          "height": 143
        },
        "id": "Cew_WUBIa2wc",
        "outputId": "e2366e31-162a-49f9-b228-318060934065"
      },
      "execution_count": null,
      "outputs": [
        {
          "output_type": "execute_result",
          "data": {
            "text/plain": [
              "           df    sum_sq   mean_sq          F    PR(>F)\n",
              "block     3.0  3.480000  1.160000  15.296703  0.003232\n",
              "treat     2.0  5.471667  2.735833  36.076923  0.000452\n",
              "Residual  6.0  0.455000  0.075833        NaN       NaN"
            ],
            "text/html": [
              "\n",
              "  <div id=\"df-95ead84e-5afd-4ea0-90df-4c9234c182c8\">\n",
              "    <div class=\"colab-df-container\">\n",
              "      <div>\n",
              "<style scoped>\n",
              "    .dataframe tbody tr th:only-of-type {\n",
              "        vertical-align: middle;\n",
              "    }\n",
              "\n",
              "    .dataframe tbody tr th {\n",
              "        vertical-align: top;\n",
              "    }\n",
              "\n",
              "    .dataframe thead th {\n",
              "        text-align: right;\n",
              "    }\n",
              "</style>\n",
              "<table border=\"1\" class=\"dataframe\">\n",
              "  <thead>\n",
              "    <tr style=\"text-align: right;\">\n",
              "      <th></th>\n",
              "      <th>df</th>\n",
              "      <th>sum_sq</th>\n",
              "      <th>mean_sq</th>\n",
              "      <th>F</th>\n",
              "      <th>PR(&gt;F)</th>\n",
              "    </tr>\n",
              "  </thead>\n",
              "  <tbody>\n",
              "    <tr>\n",
              "      <th>block</th>\n",
              "      <td>3.0</td>\n",
              "      <td>3.480000</td>\n",
              "      <td>1.160000</td>\n",
              "      <td>15.296703</td>\n",
              "      <td>0.003232</td>\n",
              "    </tr>\n",
              "    <tr>\n",
              "      <th>treat</th>\n",
              "      <td>2.0</td>\n",
              "      <td>5.471667</td>\n",
              "      <td>2.735833</td>\n",
              "      <td>36.076923</td>\n",
              "      <td>0.000452</td>\n",
              "    </tr>\n",
              "    <tr>\n",
              "      <th>Residual</th>\n",
              "      <td>6.0</td>\n",
              "      <td>0.455000</td>\n",
              "      <td>0.075833</td>\n",
              "      <td>NaN</td>\n",
              "      <td>NaN</td>\n",
              "    </tr>\n",
              "  </tbody>\n",
              "</table>\n",
              "</div>\n",
              "      <button class=\"colab-df-convert\" onclick=\"convertToInteractive('df-95ead84e-5afd-4ea0-90df-4c9234c182c8')\"\n",
              "              title=\"Convert this dataframe to an interactive table.\"\n",
              "              style=\"display:none;\">\n",
              "        \n",
              "  <svg xmlns=\"http://www.w3.org/2000/svg\" height=\"24px\"viewBox=\"0 0 24 24\"\n",
              "       width=\"24px\">\n",
              "    <path d=\"M0 0h24v24H0V0z\" fill=\"none\"/>\n",
              "    <path d=\"M18.56 5.44l.94 2.06.94-2.06 2.06-.94-2.06-.94-.94-2.06-.94 2.06-2.06.94zm-11 1L8.5 8.5l.94-2.06 2.06-.94-2.06-.94L8.5 2.5l-.94 2.06-2.06.94zm10 10l.94 2.06.94-2.06 2.06-.94-2.06-.94-.94-2.06-.94 2.06-2.06.94z\"/><path d=\"M17.41 7.96l-1.37-1.37c-.4-.4-.92-.59-1.43-.59-.52 0-1.04.2-1.43.59L10.3 9.45l-7.72 7.72c-.78.78-.78 2.05 0 2.83L4 21.41c.39.39.9.59 1.41.59.51 0 1.02-.2 1.41-.59l7.78-7.78 2.81-2.81c.8-.78.8-2.07 0-2.86zM5.41 20L4 18.59l7.72-7.72 1.47 1.35L5.41 20z\"/>\n",
              "  </svg>\n",
              "      </button>\n",
              "      \n",
              "  <style>\n",
              "    .colab-df-container {\n",
              "      display:flex;\n",
              "      flex-wrap:wrap;\n",
              "      gap: 12px;\n",
              "    }\n",
              "\n",
              "    .colab-df-convert {\n",
              "      background-color: #E8F0FE;\n",
              "      border: none;\n",
              "      border-radius: 50%;\n",
              "      cursor: pointer;\n",
              "      display: none;\n",
              "      fill: #1967D2;\n",
              "      height: 32px;\n",
              "      padding: 0 0 0 0;\n",
              "      width: 32px;\n",
              "    }\n",
              "\n",
              "    .colab-df-convert:hover {\n",
              "      background-color: #E2EBFA;\n",
              "      box-shadow: 0px 1px 2px rgba(60, 64, 67, 0.3), 0px 1px 3px 1px rgba(60, 64, 67, 0.15);\n",
              "      fill: #174EA6;\n",
              "    }\n",
              "\n",
              "    [theme=dark] .colab-df-convert {\n",
              "      background-color: #3B4455;\n",
              "      fill: #D2E3FC;\n",
              "    }\n",
              "\n",
              "    [theme=dark] .colab-df-convert:hover {\n",
              "      background-color: #434B5C;\n",
              "      box-shadow: 0px 1px 3px 1px rgba(0, 0, 0, 0.15);\n",
              "      filter: drop-shadow(0px 1px 2px rgba(0, 0, 0, 0.3));\n",
              "      fill: #FFFFFF;\n",
              "    }\n",
              "  </style>\n",
              "\n",
              "      <script>\n",
              "        const buttonEl =\n",
              "          document.querySelector('#df-95ead84e-5afd-4ea0-90df-4c9234c182c8 button.colab-df-convert');\n",
              "        buttonEl.style.display =\n",
              "          google.colab.kernel.accessAllowed ? 'block' : 'none';\n",
              "\n",
              "        async function convertToInteractive(key) {\n",
              "          const element = document.querySelector('#df-95ead84e-5afd-4ea0-90df-4c9234c182c8');\n",
              "          const dataTable =\n",
              "            await google.colab.kernel.invokeFunction('convertToInteractive',\n",
              "                                                     [key], {});\n",
              "          if (!dataTable) return;\n",
              "\n",
              "          const docLinkHtml = 'Like what you see? Visit the ' +\n",
              "            '<a target=\"_blank\" href=https://colab.research.google.com/notebooks/data_table.ipynb>data table notebook</a>'\n",
              "            + ' to learn more about interactive tables.';\n",
              "          element.innerHTML = '';\n",
              "          dataTable['output_type'] = 'display_data';\n",
              "          await google.colab.output.renderOutput(dataTable, element);\n",
              "          const docLink = document.createElement('div');\n",
              "          docLink.innerHTML = docLinkHtml;\n",
              "          element.appendChild(docLink);\n",
              "        }\n",
              "      </script>\n",
              "    </div>\n",
              "  </div>\n",
              "  "
            ]
          },
          "metadata": {},
          "execution_count": 8
        }
      ]
    },
    {
      "cell_type": "markdown",
      "source": [
        "statsmodels 라이브러리를 활용하여 명령어 statsmodels.api.stats.anova_lm를 이용하여 분산분석을 실시한다. statsmodels.formula.api.ols 명령문을 이용하여 분산분석을 위한 식을 입력한다. ‘~’기호 앞의 변수는 종속변수, 기호 뒤의 변수는 요인이 된다. 두 가지 이상의 요인이 필요한 경우 ‘+’ 기호를 사용한다. 위의 코드는 블록(block : 사람 1, 사람 2, 사람 3, 사람 4) 효과와 자극의 종류(treat : A, B, C)에 따른 반응시간의 처리 효과를 분석하는 코드로, 사용하는 자료 ex10_2 안에 식에 사용되는 변수 value와 block, treat가 포함되어 있어야 한다."
      ],
      "metadata": {
        "id": "XplrBu7MbDUJ"
      }
    },
    {
      "cell_type": "markdown",
      "source": [
        "### 결과 해석\n",
        "\n",
        "$\\beta_1 = \\beta_2 = \\beta_3 = \\beta_4$를 각각의 사람(여기서는 block 변수)에 따른 반응시간의 모평균이라 할 때, 검정하고자 하는 가설은 다음과 같다.  \n",
        "$H_0: \\beta_1 = \\beta_2 = \\beta_3 = \\beta_4$ vs $H_1: H_0 $은 사실이 아니다. \n",
        "\n",
        "위의 분석결과에서 block의 효과에 대한 P값이 0.0032316으로 0.05보다 작으므로 귀무가설은 기각된다. 즉, 사람에 따른 반응시간의 기댓값이 동일하다고 할 수 없다."
      ],
      "metadata": {
        "id": "tz8lZNOgipnI"
      }
    }
  ]
}