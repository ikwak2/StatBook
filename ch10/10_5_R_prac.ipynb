{
  "nbformat": 4,
  "nbformat_minor": 0,
  "metadata": {
    "colab": {
      "provenance": [],
      "authorship_tag": "ABX9TyPXOHvekdcF09UeWBUNXiEN",
      "include_colab_link": true
    },
    "kernelspec": {
      "name": "ir",
      "display_name": "R"
    },
    "language_info": {
      "name": "R"
    }
  },
  "cells": [
    {
      "cell_type": "markdown",
      "metadata": {
        "id": "view-in-github",
        "colab_type": "text"
      },
      "source": [
        "<a href=\"https://colab.research.google.com/github/ikwak2/StatBook/blob/main/ch10/10_5_R_prac.ipynb\" target=\"_parent\"><img src=\"https://colab.research.google.com/assets/colab-badge.svg\" alt=\"Open In Colab\"/></a>"
      ]
    },
    {
      "cell_type": "markdown",
      "source": [
        "# 10.5 R 연습\n",
        "\n",
        "## <예제 10-2>의 자료에 대한 분산분석 과정\n",
        "\n",
        "### 자료 입력\n",
        "\n",
        "[Note] R에서 csv 파일 불러오기\n",
        "R에서 Excel(xls,xlsx) 파일을 불러오기 위해서는 특별한 패키지가 필요하므로, csv  파일로 저장하여 read.csv 명령어를 이용하여 불러온다."
      ],
      "metadata": {
        "id": "DLO0E2f_1PeI"
      }
    },
    {
      "cell_type": "code",
      "source": [
        "## 현재 폴더로 예제파일 ex10_2.csv , ex10_4.csv 파일을 다운받습니다. \n",
        "system(\"wget https://raw.githubusercontent.com/ikwak2/StatBook/main/ch10/ex10_2.csv\")\n",
        "system(\"wget https://raw.githubusercontent.com/ikwak2/StatBook/main/ch10/ex10_4.csv\")"
      ],
      "metadata": {
        "id": "GpzuAcpBM5Me"
      },
      "execution_count": 1,
      "outputs": []
    },
    {
      "cell_type": "code",
      "source": [
        "ex.10<-read.csv(\"ex10_2.csv\",header=T)\n",
        "ex.10"
      ],
      "metadata": {
        "colab": {
          "base_uri": "https://localhost:8080/",
          "height": 837
        },
        "id": "48RtOhxS9yvF",
        "outputId": "144cce01-7169-459e-d20f-35b2371dcac4"
      },
      "execution_count": 2,
      "outputs": [
        {
          "output_type": "display_data",
          "data": {
            "text/html": [
              "<table class=\"dataframe\">\n",
              "<caption>A data.frame: 23 × 2</caption>\n",
              "<thead>\n",
              "\t<tr><th scope=col>value</th><th scope=col>method</th></tr>\n",
              "\t<tr><th scope=col>&lt;int&gt;</th><th scope=col>&lt;chr&gt;</th></tr>\n",
              "</thead>\n",
              "<tbody>\n",
              "\t<tr><td>65</td><td>A</td></tr>\n",
              "\t<tr><td>87</td><td>A</td></tr>\n",
              "\t<tr><td>73</td><td>A</td></tr>\n",
              "\t<tr><td>79</td><td>A</td></tr>\n",
              "\t<tr><td>81</td><td>A</td></tr>\n",
              "\t<tr><td>69</td><td>A</td></tr>\n",
              "\t<tr><td>75</td><td>B</td></tr>\n",
              "\t<tr><td>69</td><td>B</td></tr>\n",
              "\t<tr><td>83</td><td>B</td></tr>\n",
              "\t<tr><td>81</td><td>B</td></tr>\n",
              "\t<tr><td>72</td><td>B</td></tr>\n",
              "\t<tr><td>79</td><td>B</td></tr>\n",
              "\t<tr><td>90</td><td>B</td></tr>\n",
              "\t<tr><td>59</td><td>C</td></tr>\n",
              "\t<tr><td>78</td><td>C</td></tr>\n",
              "\t<tr><td>67</td><td>C</td></tr>\n",
              "\t<tr><td>62</td><td>C</td></tr>\n",
              "\t<tr><td>83</td><td>C</td></tr>\n",
              "\t<tr><td>76</td><td>C</td></tr>\n",
              "\t<tr><td>94</td><td>D</td></tr>\n",
              "\t<tr><td>89</td><td>D</td></tr>\n",
              "\t<tr><td>80</td><td>D</td></tr>\n",
              "\t<tr><td>88</td><td>D</td></tr>\n",
              "</tbody>\n",
              "</table>\n"
            ],
            "text/markdown": "\nA data.frame: 23 × 2\n\n| value &lt;int&gt; | method &lt;chr&gt; |\n|---|---|\n| 65 | A |\n| 87 | A |\n| 73 | A |\n| 79 | A |\n| 81 | A |\n| 69 | A |\n| 75 | B |\n| 69 | B |\n| 83 | B |\n| 81 | B |\n| 72 | B |\n| 79 | B |\n| 90 | B |\n| 59 | C |\n| 78 | C |\n| 67 | C |\n| 62 | C |\n| 83 | C |\n| 76 | C |\n| 94 | D |\n| 89 | D |\n| 80 | D |\n| 88 | D |\n\n",
            "text/latex": "A data.frame: 23 × 2\n\\begin{tabular}{ll}\n value & method\\\\\n <int> & <chr>\\\\\n\\hline\n\t 65 & A\\\\\n\t 87 & A\\\\\n\t 73 & A\\\\\n\t 79 & A\\\\\n\t 81 & A\\\\\n\t 69 & A\\\\\n\t 75 & B\\\\\n\t 69 & B\\\\\n\t 83 & B\\\\\n\t 81 & B\\\\\n\t 72 & B\\\\\n\t 79 & B\\\\\n\t 90 & B\\\\\n\t 59 & C\\\\\n\t 78 & C\\\\\n\t 67 & C\\\\\n\t 62 & C\\\\\n\t 83 & C\\\\\n\t 76 & C\\\\\n\t 94 & D\\\\\n\t 89 & D\\\\\n\t 80 & D\\\\\n\t 88 & D\\\\\n\\end{tabular}\n",
            "text/plain": [
              "   value method\n",
              "1  65    A     \n",
              "2  87    A     \n",
              "3  73    A     \n",
              "4  79    A     \n",
              "5  81    A     \n",
              "6  69    A     \n",
              "7  75    B     \n",
              "8  69    B     \n",
              "9  83    B     \n",
              "10 81    B     \n",
              "11 72    B     \n",
              "12 79    B     \n",
              "13 90    B     \n",
              "14 59    C     \n",
              "15 78    C     \n",
              "16 67    C     \n",
              "17 62    C     \n",
              "18 83    C     \n",
              "19 76    C     \n",
              "20 94    D     \n",
              "21 89    D     \n",
              "22 80    D     \n",
              "23 88    D     "
            ]
          },
          "metadata": {}
        }
      ]
    },
    {
      "cell_type": "markdown",
      "source": [
        "read.csv 명령어를 이용하여 ex10_2 파일을 ex.10에 저장한다. 첫 번째 변수 value는 시험성적, 두 번째 변수 method는 교육방법이다. 변수명 및 데이터경로에 한글이 있을 경우 오류가 생길 수 있으므로, 가능하면 영문을 사용하는 것이 좋다.  \n",
        "\n",
        "### 일원분류 분산분석"
      ],
      "metadata": {
        "id": "sPtgwOHaDc5R"
      }
    },
    {
      "cell_type": "code",
      "source": [
        "ex.10.aov<-aov(value~method,data=ex.10)\n",
        "ex.10.aov"
      ],
      "metadata": {
        "colab": {
          "base_uri": "https://localhost:8080/",
          "height": 201
        },
        "id": "URxkcyDtQ-mA",
        "outputId": "1c8b2eb0-18ea-4dce-89c0-7ceb04b57e7e"
      },
      "execution_count": 3,
      "outputs": [
        {
          "output_type": "display_data",
          "data": {
            "text/plain": [
              "Call:\n",
              "   aov(formula = value ~ method, data = ex.10)\n",
              "\n",
              "Terms:\n",
              "                   method Residuals\n",
              "Sum of Squares   712.5864 1196.6310\n",
              "Deg. of Freedom         3        19\n",
              "\n",
              "Residual standard error: 7.93603\n",
              "Estimated effects may be unbalanced"
            ]
          },
          "metadata": {}
        }
      ]
    },
    {
      "cell_type": "markdown",
      "source": [
        "R에서 기본으로 제공하는 명령어 aov를 이용하여 분산분석을 실시한다. 명령문에서 괄호 안은 분산분석을 위한 식, 사용할 자료명 순이다. ‘~’기호 앞의 변수가 종속변수, 기호 뒤의 변수는 요인이 된다. 위의 식은 교육방법(A, B, C, D)에 따른 시험성적의 평균 차이가 있는가를 알아보는 분석이다. 이 경우 사용하는 자료 ex.9 안에 식에 사용되는 변수 value와 method가 포함되어 있어야 한다."
      ],
      "metadata": {
        "id": "NYCvMct-RAeC"
      }
    },
    {
      "cell_type": "markdown",
      "source": [
        "### 결과 해석"
      ],
      "metadata": {
        "id": "2PfxpAvSRDDr"
      }
    },
    {
      "cell_type": "code",
      "source": [
        "anova(ex.10.aov)"
      ],
      "metadata": {
        "colab": {
          "base_uri": "https://localhost:8080/",
          "height": 161
        },
        "id": "5HFE2ct2RFg0",
        "outputId": "3e84932d-4723-482b-dcc7-a99f7f1760d4"
      },
      "execution_count": 4,
      "outputs": [
        {
          "output_type": "display_data",
          "data": {
            "text/html": [
              "<table class=\"dataframe\">\n",
              "<caption>A anova: 2 × 5</caption>\n",
              "<thead>\n",
              "\t<tr><th></th><th scope=col>Df</th><th scope=col>Sum Sq</th><th scope=col>Mean Sq</th><th scope=col>F value</th><th scope=col>Pr(&gt;F)</th></tr>\n",
              "\t<tr><th></th><th scope=col>&lt;int&gt;</th><th scope=col>&lt;dbl&gt;</th><th scope=col>&lt;dbl&gt;</th><th scope=col>&lt;dbl&gt;</th><th scope=col>&lt;dbl&gt;</th></tr>\n",
              "</thead>\n",
              "<tbody>\n",
              "\t<tr><th scope=row>method</th><td> 3</td><td> 712.5864</td><td>237.52881</td><td>3.771461</td><td>0.02804096</td></tr>\n",
              "\t<tr><th scope=row>Residuals</th><td>19</td><td>1196.6310</td><td> 62.98058</td><td>      NA</td><td>        NA</td></tr>\n",
              "</tbody>\n",
              "</table>\n"
            ],
            "text/markdown": "\nA anova: 2 × 5\n\n| <!--/--> | Df &lt;int&gt; | Sum Sq &lt;dbl&gt; | Mean Sq &lt;dbl&gt; | F value &lt;dbl&gt; | Pr(&gt;F) &lt;dbl&gt; |\n|---|---|---|---|---|---|\n| method |  3 |  712.5864 | 237.52881 | 3.771461 | 0.02804096 |\n| Residuals | 19 | 1196.6310 |  62.98058 |       NA |         NA |\n\n",
            "text/latex": "A anova: 2 × 5\n\\begin{tabular}{r|lllll}\n  & Df & Sum Sq & Mean Sq & F value & Pr(>F)\\\\\n  & <int> & <dbl> & <dbl> & <dbl> & <dbl>\\\\\n\\hline\n\tmethod &  3 &  712.5864 & 237.52881 & 3.771461 & 0.02804096\\\\\n\tResiduals & 19 & 1196.6310 &  62.98058 &       NA &         NA\\\\\n\\end{tabular}\n",
            "text/plain": [
              "          Df Sum Sq    Mean Sq   F value  Pr(>F)    \n",
              "method     3  712.5864 237.52881 3.771461 0.02804096\n",
              "Residuals 19 1196.6310  62.98058       NA         NA"
            ]
          },
          "metadata": {}
        }
      ]
    },
    {
      "cell_type": "markdown",
      "source": [
        "$\\mu_1 = \\mu_2 = \\mu_3 = \\mu_4 $를 각각의 교육방법에서 모집단의 평균성적이라 할 때, 검정하고자 하는 가설은 다음과 같다.\n",
        "\n",
        "$H_0: \\mu_1 = \\mu_2 = \\mu_3 = \\mu_4$ vs $H_1 : H_0$ 는 사실이 아니다."
      ],
      "metadata": {
        "id": "oPNt7oA7RHti"
      }
    },
    {
      "cell_type": "markdown",
      "source": [
        "P값을 확인하기 위해서는 anova 명령어를 이용해야 한다. 앞의 결과에서 P값이 0.02804이므로 5% 유의수준 하에서 귀무가설은 기각된다. 즉, 주어진 자료에 의할 때 5% 유의수준 하에서 4가지 교육방법의 효과가 동일하다고 볼 수 없다."
      ],
      "metadata": {
        "id": "edMH_FsPRb8U"
      }
    },
    {
      "cell_type": "code",
      "source": [
        "summary(ex.10.aov)"
      ],
      "metadata": {
        "colab": {
          "base_uri": "https://localhost:8080/",
          "height": 109
        },
        "id": "yCFueltQRbpN",
        "outputId": "6b003c66-7762-47fd-915f-c4799832f9bf"
      },
      "execution_count": 5,
      "outputs": [
        {
          "output_type": "display_data",
          "data": {
            "text/plain": [
              "            Df Sum Sq Mean Sq F value Pr(>F)  \n",
              "method       3  712.6  237.53   3.771  0.028 *\n",
              "Residuals   19 1196.6   62.98                 \n",
              "---\n",
              "Signif. codes:  0 ‘***’ 0.001 ‘**’ 0.01 ‘*’ 0.05 ‘.’ 0.1 ‘ ’ 1"
            ]
          },
          "metadata": {}
        }
      ]
    },
    {
      "cell_type": "markdown",
      "source": [
        "summary 명령어를 이용하는 방법도 있다.\n",
        "\n"
      ],
      "metadata": {
        "id": "XXdwEDIXOT_8"
      }
    },
    {
      "cell_type": "markdown",
      "source": [
        "## <예제 10-4> 자료에 대한 분산분석 과정\n",
        "### 자료 입력"
      ],
      "metadata": {
        "id": "XvZz3PYnRiHh"
      }
    },
    {
      "cell_type": "code",
      "source": [
        "ex.10.two<-read.csv(\"ex10_4.csv\",header=T)\n",
        "ex.10.two"
      ],
      "metadata": {
        "colab": {
          "base_uri": "https://localhost:8080/",
          "height": 474
        },
        "id": "bKMIXpJxOWVh",
        "outputId": "784e0a2d-e1d5-458f-85bb-dbcab3438121"
      },
      "execution_count": 7,
      "outputs": [
        {
          "output_type": "display_data",
          "data": {
            "text/html": [
              "<table class=\"dataframe\">\n",
              "<caption>A data.frame: 12 × 3</caption>\n",
              "<thead>\n",
              "\t<tr><th scope=col>value</th><th scope=col>treat</th><th scope=col>block</th></tr>\n",
              "\t<tr><th scope=col>&lt;dbl&gt;</th><th scope=col>&lt;chr&gt;</th><th scope=col>&lt;chr&gt;</th></tr>\n",
              "</thead>\n",
              "<tbody>\n",
              "\t<tr><td>1.7</td><td>A</td><td>a</td></tr>\n",
              "\t<tr><td>1.5</td><td>A</td><td>b</td></tr>\n",
              "\t<tr><td>0.1</td><td>A</td><td>c</td></tr>\n",
              "\t<tr><td>0.6</td><td>A</td><td>d</td></tr>\n",
              "\t<tr><td>3.4</td><td>B</td><td>a</td></tr>\n",
              "\t<tr><td>2.6</td><td>B</td><td>b</td></tr>\n",
              "\t<tr><td>2.3</td><td>B</td><td>c</td></tr>\n",
              "\t<tr><td>2.2</td><td>B</td><td>d</td></tr>\n",
              "\t<tr><td>2.3</td><td>C</td><td>a</td></tr>\n",
              "\t<tr><td>2.1</td><td>C</td><td>b</td></tr>\n",
              "\t<tr><td>0.8</td><td>C</td><td>c</td></tr>\n",
              "\t<tr><td>1.6</td><td>C</td><td>d</td></tr>\n",
              "</tbody>\n",
              "</table>\n"
            ],
            "text/markdown": "\nA data.frame: 12 × 3\n\n| value &lt;dbl&gt; | treat &lt;chr&gt; | block &lt;chr&gt; |\n|---|---|---|\n| 1.7 | A | a |\n| 1.5 | A | b |\n| 0.1 | A | c |\n| 0.6 | A | d |\n| 3.4 | B | a |\n| 2.6 | B | b |\n| 2.3 | B | c |\n| 2.2 | B | d |\n| 2.3 | C | a |\n| 2.1 | C | b |\n| 0.8 | C | c |\n| 1.6 | C | d |\n\n",
            "text/latex": "A data.frame: 12 × 3\n\\begin{tabular}{lll}\n value & treat & block\\\\\n <dbl> & <chr> & <chr>\\\\\n\\hline\n\t 1.7 & A & a\\\\\n\t 1.5 & A & b\\\\\n\t 0.1 & A & c\\\\\n\t 0.6 & A & d\\\\\n\t 3.4 & B & a\\\\\n\t 2.6 & B & b\\\\\n\t 2.3 & B & c\\\\\n\t 2.2 & B & d\\\\\n\t 2.3 & C & a\\\\\n\t 2.1 & C & b\\\\\n\t 0.8 & C & c\\\\\n\t 1.6 & C & d\\\\\n\\end{tabular}\n",
            "text/plain": [
              "   value treat block\n",
              "1  1.7   A     a    \n",
              "2  1.5   A     b    \n",
              "3  0.1   A     c    \n",
              "4  0.6   A     d    \n",
              "5  3.4   B     a    \n",
              "6  2.6   B     b    \n",
              "7  2.3   B     c    \n",
              "8  2.2   B     d    \n",
              "9  2.3   C     a    \n",
              "10 2.1   C     b    \n",
              "11 0.8   C     c    \n",
              "12 1.6   C     d    "
            ]
          },
          "metadata": {}
        }
      ]
    },
    {
      "cell_type": "markdown",
      "source": [
        "read.csv 명령어를 이용하여 ex10_2 파일을 ex.10.two 에 저장한다. 첫 번째 변수 value는 반응시간, 두 번째 변수 treat는 자극의 종류, 세 번째 변수 block은 사람으로 블록 효과이다. "
      ],
      "metadata": {
        "id": "HRNXy4ELRvZh"
      }
    },
    {
      "cell_type": "markdown",
      "source": [
        "### 이원분류 분산분석"
      ],
      "metadata": {
        "id": "JQ_6gh_4SFRL"
      }
    },
    {
      "cell_type": "code",
      "source": [
        "ex.10.two.aov<-aov(value~block+treat,data=ex.10.two)\n",
        "ex.10.two.aov"
      ],
      "metadata": {
        "colab": {
          "base_uri": "https://localhost:8080/",
          "height": 201
        },
        "id": "ynVeY-XYSG3O",
        "outputId": "40b0da22-ab66-44e0-a460-215c83b3fa9c"
      },
      "execution_count": 8,
      "outputs": [
        {
          "output_type": "display_data",
          "data": {
            "text/plain": [
              "Call:\n",
              "   aov(formula = value ~ block + treat, data = ex.10.two)\n",
              "\n",
              "Terms:\n",
              "                   block    treat Residuals\n",
              "Sum of Squares  3.480000 5.471667  0.455000\n",
              "Deg. of Freedom        3        2         6\n",
              "\n",
              "Residual standard error: 0.2753785\n",
              "Estimated effects may be unbalanced"
            ]
          },
          "metadata": {}
        }
      ]
    },
    {
      "cell_type": "markdown",
      "source": [
        "R에서 기본으로 제공하는 명령어 aov를 이용하여 분산분석을 실시한다. 명령문에서 괄호 안은 분산분석을 위한 식, 사용할 자료명 순이다. ‘~’기호 앞의 변수는 종속변수, 기호 뒤의 변수는 요인이 된다. 두 가지 이상의 요인이 필요한 경우 ‘+’ 기호를 사용한다. 위의 코드는 블록(block : 사람 1, 사람 2, 사람 3, 사람 4) 효과와 자극의 종류(treat : A, B, C)에 따른 반응시간의 처리 효과를 분석하는 코드로, 사용하는 자료 ex.10.two 안에 식에 사용되는 변수 value와 block, treat가 포함되어 있어야 한다."
      ],
      "metadata": {
        "id": "Tvhk8y_9SK7O"
      }
    },
    {
      "cell_type": "markdown",
      "source": [
        "### 결과 해석"
      ],
      "metadata": {
        "id": "CCOK9qgb1hNA"
      }
    },
    {
      "cell_type": "code",
      "execution_count": 9,
      "metadata": {
        "colab": {
          "base_uri": "https://localhost:8080/",
          "height": 192
        },
        "id": "cTj_m6oa09dS",
        "outputId": "77d13507-2db4-4b78-cf3c-306675096418"
      },
      "outputs": [
        {
          "output_type": "display_data",
          "data": {
            "text/html": [
              "<table class=\"dataframe\">\n",
              "<caption>A anova: 3 × 5</caption>\n",
              "<thead>\n",
              "\t<tr><th></th><th scope=col>Df</th><th scope=col>Sum Sq</th><th scope=col>Mean Sq</th><th scope=col>F value</th><th scope=col>Pr(&gt;F)</th></tr>\n",
              "\t<tr><th></th><th scope=col>&lt;int&gt;</th><th scope=col>&lt;dbl&gt;</th><th scope=col>&lt;dbl&gt;</th><th scope=col>&lt;dbl&gt;</th><th scope=col>&lt;dbl&gt;</th></tr>\n",
              "</thead>\n",
              "<tbody>\n",
              "\t<tr><th scope=row>block</th><td>3</td><td>3.480000</td><td>1.16000000</td><td>15.29670</td><td>0.0032315977</td></tr>\n",
              "\t<tr><th scope=row>treat</th><td>2</td><td>5.471667</td><td>2.73583333</td><td>36.07692</td><td>0.0004524834</td></tr>\n",
              "\t<tr><th scope=row>Residuals</th><td>6</td><td>0.455000</td><td>0.07583333</td><td>      NA</td><td>          NA</td></tr>\n",
              "</tbody>\n",
              "</table>\n"
            ],
            "text/markdown": "\nA anova: 3 × 5\n\n| <!--/--> | Df &lt;int&gt; | Sum Sq &lt;dbl&gt; | Mean Sq &lt;dbl&gt; | F value &lt;dbl&gt; | Pr(&gt;F) &lt;dbl&gt; |\n|---|---|---|---|---|---|\n| block | 3 | 3.480000 | 1.16000000 | 15.29670 | 0.0032315977 |\n| treat | 2 | 5.471667 | 2.73583333 | 36.07692 | 0.0004524834 |\n| Residuals | 6 | 0.455000 | 0.07583333 |       NA |           NA |\n\n",
            "text/latex": "A anova: 3 × 5\n\\begin{tabular}{r|lllll}\n  & Df & Sum Sq & Mean Sq & F value & Pr(>F)\\\\\n  & <int> & <dbl> & <dbl> & <dbl> & <dbl>\\\\\n\\hline\n\tblock & 3 & 3.480000 & 1.16000000 & 15.29670 & 0.0032315977\\\\\n\ttreat & 2 & 5.471667 & 2.73583333 & 36.07692 & 0.0004524834\\\\\n\tResiduals & 6 & 0.455000 & 0.07583333 &       NA &           NA\\\\\n\\end{tabular}\n",
            "text/plain": [
              "          Df Sum Sq   Mean Sq    F value  Pr(>F)      \n",
              "block     3  3.480000 1.16000000 15.29670 0.0032315977\n",
              "treat     2  5.471667 2.73583333 36.07692 0.0004524834\n",
              "Residuals 6  0.455000 0.07583333       NA           NA"
            ]
          },
          "metadata": {}
        }
      ],
      "source": [
        "anova(ex.10.two.aov)"
      ]
    },
    {
      "cell_type": "markdown",
      "source": [
        "$\\beta_1 = \\beta_2 = \\beta_3 = \\beta_4$를 각각의 사람(여기서는 block 변수)에 따른 반응시간의 모평균이라 할 때, 검정하고자 하는 가설은 다음과 같다.  \n",
        "$H_0: \\beta_1 = \\beta_2 = \\beta_3 = \\beta_4$ vs $H_1: H_0 $은 사실이 아니다. \n"
      ],
      "metadata": {
        "id": "yhrxuKRWDk5b"
      }
    },
    {
      "cell_type": "markdown",
      "source": [
        "위의 분석결과에서 block의 효과에 대한 P값이 0.0032316으로 0.05보다 작으므로 귀무가설은 기각된다. 즉, 사람에 따른 반응시간의 기댓값이 동일하다고 할 수 없다."
      ],
      "metadata": {
        "id": "Ii5KVVNISonF"
      }
    },
    {
      "cell_type": "code",
      "source": [
        "summary(ex.10.two.aov)"
      ],
      "metadata": {
        "colab": {
          "base_uri": "https://localhost:8080/",
          "height": 127
        },
        "id": "ZZ9J1HvSOjnF",
        "outputId": "753efbbf-5942-4dbe-906e-97ff939dd627"
      },
      "execution_count": 10,
      "outputs": [
        {
          "output_type": "display_data",
          "data": {
            "text/plain": [
              "            Df Sum Sq Mean Sq F value   Pr(>F)    \n",
              "block        3  3.480  1.1600   15.30 0.003232 ** \n",
              "treat        2  5.472  2.7358   36.08 0.000452 ***\n",
              "Residuals    6  0.455  0.0758                     \n",
              "---\n",
              "Signif. codes:  0 ‘***’ 0.001 ‘**’ 0.01 ‘*’ 0.05 ‘.’ 0.1 ‘ ’ 1"
            ]
          },
          "metadata": {}
        }
      ]
    }
  ]
}